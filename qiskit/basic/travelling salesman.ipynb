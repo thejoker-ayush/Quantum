{
 "cells": [
  {
   "cell_type": "code",
   "execution_count": 1,
   "id": "e5d12024",
   "metadata": {},
   "outputs": [
    {
     "data": {
      "text/plain": [
       "<Figure size 1400x1000 with 0 Axes>"
      ]
     },
     "metadata": {},
     "output_type": "display_data"
    }
   ],
   "source": [
    "# Building the graph with nodes = 4\n",
    "\n",
    "import networkx as nx\n",
    "import matplotlib.pyplot as plt\n",
    "\n",
    "G = nx.DiGraph(directed=True)\n",
    "G.add_node(1)\n",
    "G.add_node(2)\n",
    "G.add_node(3)\n",
    "G.add_node(4)\n",
    "\n",
    "G.add_edge(1, 2)\n",
    "G.add_edge(1, 3)\n",
    "G.add_edge(1, 4)\n",
    "\n",
    "G.add_edge(2, 1)\n",
    "G.add_edge(2, 3)\n",
    "G.add_edge(2, 4)\n",
    "\n",
    "G.add_edge(3, 1)\n",
    "G.add_edge(3, 2)\n",
    "G.add_edge(3, 4)\n",
    "\n",
    "G.add_edge(4, 1)\n",
    "G.add_edge(4, 2)\n",
    "G.add_edge(4, 3)\n",
    "\n",
    "pos = {1: [0.75, 1.0],\n",
    "      2: [0.75, 0.15],\n",
    "      3: [0.5, -0.5],\n",
    "      4: [1.0, -0.5]}\n",
    "\n",
    "\n",
    "edge_labels = {(1, 2): '$\\\\phi_{2\\\\to 1}$\\n $\\\\phi_{1\\\\to 2}$',\n",
    "              (1, 3): '$\\\\phi_{1\\\\to 3}$\\n $\\\\phi_{3\\\\to 1}$',\n",
    "              (1, 4): '$\\\\phi_{4\\\\to 1}$\\n $\\\\phi_{1\\\\to 4}$',\n",
    "              (2, 3): '$\\\\phi_{2\\\\to 3}$\\n $\\\\phi_{3\\\\to 2}$',\n",
    "              (2, 4): '$\\\\phi_{4\\\\to 2}$\\n $\\\\phi_{2\\\\to 4}$',\n",
    "              (3, 4): '$\\\\phi_{4\\\\to 3}$\\n $\\\\phi_{3\\\\to 4}$'\n",
    "              }\n",
    "\n",
    "fig = plt.figure(1, figsize=(14, 10)) \n",
    "#nx.draw(G, with_labels=True, node_color='skyblue', edge_cmap=plt.cm.Blues, pos=pos, connectionstyle='arc3, rad = 0.2', \n",
    "#        node_size=3000, arrowsize=14, arrowstyle='simple', font_size=30)\n",
    "\n",
    "#nx.draw_networkx_edge_labels(G, pos, edge_labels=edge_labels, font_size=20, bbox=dict(alpha=0))\n",
    " \n",
    "plt.show()"
   ]
  },
  {
   "cell_type": "code",
   "execution_count": 3,
   "id": "61d1b52a",
   "metadata": {},
   "outputs": [],
   "source": [
    "# Lets import all the necessary libraries\n",
    "from numpy import pi\n",
    "from qiskit import *\n",
    "from qiskit import QuantumCircuit, Aer, QuantumRegister, ClassicalRegister, execute\n",
    "from qiskit.visualization import plot_histogram, array_to_latex\n",
    "from qiskit.circuit.library import QFT"
   ]
  },
  {
   "cell_type": "code",
   "execution_count": 4,
   "id": "8065f247",
   "metadata": {},
   "outputs": [
    {
     "data": {
      "text/html": [
       "<pre style=\"word-wrap: normal;white-space: pre;background: #fff0;line-height: 1.1;font-family: &quot;Courier New&quot;,Courier,monospace\">               ┌──────┐                                                      \n",
       "qt_0: ─■───────┤ P(0) ├─■─────────────────────■───────────────■───■──────────\n",
       "       │P(π/8) └──────┘ │                   ┌─┴─┐           ┌─┴─┐ │          \n",
       "qt_1: ─■────────────────┼────────■──────────┤ X ├─■─────────┤ X ├─┼──────────\n",
       "                        │P(π/2)  │P(-3π/16) └───┘ │P(3π/16) └───┘ │P(-3π/16) \n",
       "qt_2: ──────────────────■────────■────────────────■───────────────■──────────\n",
       "                                                                             </pre>"
      ],
      "text/plain": [
       "               ┌──────┐                                                      \n",
       "qt_0: ─■───────┤ P(0) ├─■─────────────────────■───────────────■───■──────────\n",
       "       │P(π/8) └──────┘ │                   ┌─┴─┐           ┌─┴─┐ │          \n",
       "qt_1: ─■────────────────┼────────■──────────┤ X ├─■─────────┤ X ├─┼──────────\n",
       "                        │P(π/2)  │P(-3π/16) └───┘ │P(3π/16) └───┘ │P(-3π/16) \n",
       "qt_2: ──────────────────■────────■────────────────■───────────────■──────────\n",
       "                                                                             "
      ]
     },
     "execution_count": 4,
     "metadata": {},
     "output_type": "execute_result"
    }
   ],
   "source": [
    "at = 0\n",
    "bt = pi/2\n",
    "ct = pi/8\n",
    "dt = pi/4\n",
    "\n",
    "qt = QuantumRegister(3, 'qt')\n",
    "qct = QuantumCircuit(qt)\n",
    "\n",
    "qct.cp(ct - at, qt[0], qt[1])\n",
    "qct.p(at, qt[0])\n",
    "qct.cp(bt - at, qt[0], qt[2])\n",
    "\n",
    "qct.cp((dt - ct + at - bt)/2, qt[1], qt[2])\n",
    "qct.cx(qt[0], qt[1])\n",
    "qct.cp(-(dt - ct + at - bt)/2, qt[1], qt[2])\n",
    "qct.cx(qt[0], qt[1])\n",
    "qct.cp((dt - ct + at - bt)/2, qt[0], qt[2])\n",
    "\n",
    "qct.draw()"
   ]
  },
  {
   "cell_type": "code",
   "execution_count": 5,
   "id": "7e18f1aa",
   "metadata": {},
   "outputs": [
    {
     "data": {
      "text/latex": [
       "$$\n",
       "\\text{Circuit = }\n",
       "\n",
       "\\begin{bmatrix}\n",
       "1 & 0 & 0 & 0 & 0 & 0 & 0 & 0  \\\\\n",
       " 0 & 1 & 0 & 0 & 0 & 0 & 0 & 0  \\\\\n",
       " 0 & 0 & 1 & 0 & 0 & 0 & 0 & 0  \\\\\n",
       " 0 & 0 & 0 & 0.9238795325 + 0.3826834324 i & 0 & 0 & 0 & 0  \\\\\n",
       " 0 & 0 & 0 & 0 & 1 & 0 & 0 & 0  \\\\\n",
       " 0 & 0 & 0 & 0 & 0 & i & 0 & 0  \\\\\n",
       " 0 & 0 & 0 & 0 & 0 & 0 & 1 & 0  \\\\\n",
       " 0 & 0 & 0 & 0 & 0 & 0 & 0 & \\frac{\\sqrt{2}}{2} + \\frac{\\sqrt{2} i}{2}  \\\\\n",
       " \\end{bmatrix}\n",
       "$$"
      ],
      "text/plain": [
       "<IPython.core.display.Latex object>"
      ]
     },
     "execution_count": 5,
     "metadata": {},
     "output_type": "execute_result"
    }
   ],
   "source": [
    "backend_unitary_t = Aer.get_backend('unitary_simulator')\n",
    "job_unitary_t = execute(qct, backend_unitary_t, shots=8192)\n",
    "count_unitary_t = job_unitary_t.result().get_unitary()\n",
    "array_to_latex(count_unitary_t, prefix=\"\\\\text{Circuit = }\\n\")"
   ]
  },
  {
   "cell_type": "code",
   "execution_count": 6,
   "id": "bd9eab74",
   "metadata": {},
   "outputs": [
    {
     "data": {
      "text/html": [
       "<pre style=\"word-wrap: normal;white-space: pre;background: #fff0;line-height: 1.1;font-family: &quot;Courier New&quot;,Courier,monospace\">                                                                             \n",
       "qi_0: ──────────────────■────────■────────────────■───────────────■──────────\n",
       "                        │        │P(-3π/16) ┌───┐ │P(3π/16) ┌───┐ │          \n",
       "qi_1: ─■────────────────┼────────■──────────┤ X ├─■─────────┤ X ├─┼──────────\n",
       "       │P(π/8) ┌──────┐ │P(π/2)             └─┬─┘           └─┬─┘ │P(-3π/16) \n",
       "qi_2: ─■───────┤ P(0) ├─■─────────────────────■───────────────■───■──────────\n",
       "               └──────┘                                                      </pre>"
      ],
      "text/plain": [
       "                                                                             \n",
       "qi_0: ──────────────────■────────■────────────────■───────────────■──────────\n",
       "                        │        │P(-3π/16) ┌───┐ │P(3π/16) ┌───┐ │          \n",
       "qi_1: ─■────────────────┼────────■──────────┤ X ├─■─────────┤ X ├─┼──────────\n",
       "       │P(π/8) ┌──────┐ │P(π/2)             └─┬─┘           └─┬─┘ │P(-3π/16) \n",
       "qi_2: ─■───────┤ P(0) ├─■─────────────────────■───────────────■───■──────────\n",
       "               └──────┘                                                      "
      ]
     },
     "execution_count": 6,
     "metadata": {},
     "output_type": "execute_result"
    }
   ],
   "source": [
    "ai = 0\n",
    "bi = pi/2\n",
    "ci = pi/8\n",
    "di = pi/4\n",
    "\n",
    "qi = QuantumRegister(3, 'qi')\n",
    "qci = QuantumCircuit(qi)\n",
    "\n",
    "\n",
    "qci.cp(ci - ai, qi[2], qi[1])\n",
    "qci.p(ai, qi[2])\n",
    "qci.cp(bi - ai, qi[2], qi[0])\n",
    "\n",
    "qci.cp((di - ci + ai - bi)/2, qi[1], qi[0])\n",
    "qci.cx(qi[2], qi[1])\n",
    "qci.cp(-(di - ci + ai - bi)/2, qi[1], qi[0])\n",
    "qci.cx(qi[2], qi[1])\n",
    "qci.cp((di - ci + ai - bi)/2, qi[2], qi[0])\n",
    "\n",
    "qci.draw()"
   ]
  },
  {
   "cell_type": "code",
   "execution_count": 7,
   "id": "907a04ec",
   "metadata": {},
   "outputs": [
    {
     "data": {
      "text/latex": [
       "$$\n",
       "\\text{Circuit = }\n",
       "\n",
       "\\begin{bmatrix}\n",
       "1 & 0 & 0 & 0 & 0 & 0 & 0 & 0  \\\\\n",
       " 0 & 1 & 0 & 0 & 0 & 0 & 0 & 0  \\\\\n",
       " 0 & 0 & 1 & 0 & 0 & 0 & 0 & 0  \\\\\n",
       " 0 & 0 & 0 & 1 & 0 & 0 & 0 & 0  \\\\\n",
       " 0 & 0 & 0 & 0 & 1 & 0 & 0 & 0  \\\\\n",
       " 0 & 0 & 0 & 0 & 0 & i & 0 & 0  \\\\\n",
       " 0 & 0 & 0 & 0 & 0 & 0 & 0.9238795325 + 0.3826834324 i & 0  \\\\\n",
       " 0 & 0 & 0 & 0 & 0 & 0 & 0 & \\frac{\\sqrt{2}}{2} + \\frac{\\sqrt{2} i}{2}  \\\\\n",
       " \\end{bmatrix}\n",
       "$$"
      ],
      "text/plain": [
       "<IPython.core.display.Latex object>"
      ]
     },
     "execution_count": 7,
     "metadata": {},
     "output_type": "execute_result"
    }
   ],
   "source": [
    "backend_unitary_i = Aer.get_backend('unitary_simulator')\n",
    "job_unitary_i = execute(qci, backend_unitary_i, shots=8192)\n",
    "count_unitary_i = job_unitary_i.result().get_unitary()\n",
    "array_to_latex(count_unitary_i, prefix=\"\\\\text{Circuit = }\\n\")"
   ]
  },
  {
   "cell_type": "code",
   "execution_count": 8,
   "id": "0cb677f0",
   "metadata": {},
   "outputs": [],
   "source": [
    "def controlled_unitary(qc, qubits: list, phases: list): # x,y,z = Specific Qubit; a,b,c,d = Phases\n",
    "    qc.cp(phases[2]-phases[0], qubits[0], qubits[1]) # controlled-U1(c-a)\n",
    "    qc.p(phases[0], qubits[0]) # U1(a)\n",
    "    qc.cp(phases[1]-phases[0], qubits[0], qubits[2]) # controlled-U1(b-a)\n",
    "    \n",
    "    # controlled controlled U1(d-c+a-b)\n",
    "    qc.cp((phases[3]-phases[2]+phases[0]-phases[1])/2, qubits[1], qubits[2])\n",
    "    qc.cx(qubits[0], qubits[1])\n",
    "    qc.cp(-(phases[3]-phases[2]+phases[0]-phases[1])/2, qubits[1], qubits[2])\n",
    "    qc.cx(qubits[0], qubits[1])\n",
    "    qc.cp((phases[3]-phases[2]+phases[0]-phases[1])/2, qubits[0], qubits[2])"
   ]
  },
  {
   "cell_type": "code",
   "execution_count": 9,
   "id": "93eb56fe",
   "metadata": {},
   "outputs": [],
   "source": [
    "def U(times, qc, unit, eigen, phases: list): # a,b,c = phases for U1; d,e,f = phases for U2; g,h,i = phases for U3; j,k,l = phases for U4; m_list=[m, n, o, p, q, r, s, t, u, a, b, c, d, e, f, g, h, i, j, k, l]\n",
    "    controlled_unitary(qc, [unit[0]]+eigen[0:2], [0]+phases[0:3])\n",
    "    controlled_unitary(qc, [unit[0]]+eigen[2:4], [phases[3]]+[0]+phases[4:6])\n",
    "    controlled_unitary(qc, [unit[0]]+eigen[4:6], phases[6:8]+[0]+[phases[8]])\n",
    "    controlled_unitary(qc, [unit[0]]+eigen[6:8], phases[9:12]+[0])"
   ]
  },
  {
   "cell_type": "code",
   "execution_count": 10,
   "id": "dd05a370",
   "metadata": {},
   "outputs": [],
   "source": [
    "def final_U(times, eigen, phases: list):\n",
    "    unit = QuantumRegister(1, 'unit')\n",
    "    qc = QuantumCircuit(unit, eigen)\n",
    "    for _ in range(2**times):\n",
    "        U(times, qc, unit, eigen, phases)\n",
    "    return qc.to_gate(label='U'+'_'+(str(2**times)))"
   ]
  },
  {
   "cell_type": "code",
   "execution_count": 11,
   "id": "4c170d2e",
   "metadata": {},
   "outputs": [],
   "source": [
    "# Storing the eigenvalues in a list\n",
    "eigen_values = [\"11000110\", \"10001101\", \"11001001\"]\n",
    "\n",
    "# Function to place appropriate corresponding gate according to eigenstates\n",
    "def eigenstates(qc, eigen, index):\n",
    "    for i in range(0, len(eigen)):\n",
    "        if eigen_values[index][i] == '1':\n",
    "            qc.x(eigen[i])\n",
    "        if eigen_values[index][i] == '0':\n",
    "            pass\n",
    "    qc.barrier()\n",
    "    return qc"
   ]
  },
  {
   "cell_type": "code",
   "execution_count": 12,
   "id": "18b6423e",
   "metadata": {},
   "outputs": [
    {
     "data": {
      "text/html": [
       "<pre style=\"word-wrap: normal;white-space: pre;background: #fff0;line-height: 1.1;font-family: &quot;Courier New&quot;,Courier,monospace\">                        ░ ┌───┐ ░                                          »\n",
       "          unit_0: ──────░─┤ H ├─░──────────────────────────────────────────»\n",
       "                        ░ ├───┤ ░                                 ┌───────┐»\n",
       "          unit_1: ──────░─┤ H ├─░─────────────────────────────────┤0      ├»\n",
       "                        ░ ├───┤ ░                         ┌──────┐│       │»\n",
       "          unit_2: ──────░─┤ H ├─░─────────────────────────┤0     ├┤       ├»\n",
       "                        ░ ├───┤ ░                 ┌──────┐│      ││       │»\n",
       "          unit_3: ──────░─┤ H ├─░─────────────────┤0     ├┤      ├┤       ├»\n",
       "                        ░ ├───┤ ░         ┌──────┐│      ││      ││       │»\n",
       "          unit_4: ──────░─┤ H ├─░─────────┤0     ├┤      ├┤      ├┤       ├»\n",
       "                        ░ ├───┤ ░ ┌──────┐│      ││      ││      ││       │»\n",
       "          unit_5: ──────░─┤ H ├─░─┤0     ├┤      ├┤      ├┤      ├┤       ├»\n",
       "                  ┌───┐ ░ └───┘ ░ │      ││      ││      ││      ││       │»\n",
       "         eigen_0: ┤ X ├─░───────░─┤1     ├┤1     ├┤1     ├┤1     ├┤1      ├»\n",
       "                  ├───┤ ░       ░ │      ││      ││      ││      ││       │»\n",
       "         eigen_1: ┤ X ├─░───────░─┤2     ├┤2     ├┤2     ├┤2     ├┤2 U_16 ├»\n",
       "                  └───┘ ░       ░ │      ││      ││      ││  U_8 ││       │»\n",
       "         eigen_2: ──────░───────░─┤3     ├┤3     ├┤3 U_4 ├┤3     ├┤3      ├»\n",
       "                        ░       ░ │      ││  U_2 ││      ││      ││       │»\n",
       "         eigen_3: ──────░───────░─┤4 U_1 ├┤4     ├┤4     ├┤4     ├┤4      ├»\n",
       "                        ░       ░ │      ││      ││      ││      ││       │»\n",
       "         eigen_4: ──────░───────░─┤5     ├┤5     ├┤5     ├┤5     ├┤5      ├»\n",
       "                  ┌───┐ ░       ░ │      ││      ││      ││      ││       │»\n",
       "         eigen_5: ┤ X ├─░───────░─┤6     ├┤6     ├┤6     ├┤6     ├┤6      ├»\n",
       "                  ├───┤ ░       ░ │      ││      ││      ││      ││       │»\n",
       "         eigen_6: ┤ X ├─░───────░─┤7     ├┤7     ├┤7     ├┤7     ├┤7      ├»\n",
       "                  └───┘ ░       ░ │      ││      ││      ││      ││       │»\n",
       "         eigen_7: ──────░───────░─┤8     ├┤8     ├┤8     ├┤8     ├┤8      ├»\n",
       "                        ░       ░ └──────┘└──────┘└──────┘└──────┘└───────┘»\n",
       "unit_classical: 6/═════════════════════════════════════════════════════════»\n",
       "                                                                           »\n",
       "«                  ┌───────┐ ░ ┌──────────────┐ ░ ┌─┐               \n",
       "«          unit_0: ┤0      ├─░─┤0             ├─░─┤M├───────────────\n",
       "«                  │       │ ░ │              │ ░ └╥┘┌─┐            \n",
       "«          unit_1: ┤       ├─░─┤1             ├─░──╫─┤M├────────────\n",
       "«                  │       │ ░ │              │ ░  ║ └╥┘┌─┐         \n",
       "«          unit_2: ┤       ├─░─┤2             ├─░──╫──╫─┤M├─────────\n",
       "«                  │       │ ░ │  Inverse QFT │ ░  ║  ║ └╥┘┌─┐      \n",
       "«          unit_3: ┤       ├─░─┤3             ├─░──╫──╫──╫─┤M├──────\n",
       "«                  │       │ ░ │              │ ░  ║  ║  ║ └╥┘┌─┐   \n",
       "«          unit_4: ┤       ├─░─┤4             ├─░──╫──╫──╫──╫─┤M├───\n",
       "«                  │       │ ░ │              │ ░  ║  ║  ║  ║ └╥┘┌─┐\n",
       "«          unit_5: ┤       ├─░─┤5             ├─░──╫──╫──╫──╫──╫─┤M├\n",
       "«                  │       │ ░ └──────────────┘ ░  ║  ║  ║  ║  ║ └╥┘\n",
       "«         eigen_0: ┤1      ├─░──────────────────░──╫──╫──╫──╫──╫──╫─\n",
       "«                  │  U_32 │ ░                  ░  ║  ║  ║  ║  ║  ║ \n",
       "«         eigen_1: ┤2      ├─░──────────────────░──╫──╫──╫──╫──╫──╫─\n",
       "«                  │       │ ░                  ░  ║  ║  ║  ║  ║  ║ \n",
       "«         eigen_2: ┤3      ├─░──────────────────░──╫──╫──╫──╫──╫──╫─\n",
       "«                  │       │ ░                  ░  ║  ║  ║  ║  ║  ║ \n",
       "«         eigen_3: ┤4      ├─░──────────────────░──╫──╫──╫──╫──╫──╫─\n",
       "«                  │       │ ░                  ░  ║  ║  ║  ║  ║  ║ \n",
       "«         eigen_4: ┤5      ├─░──────────────────░──╫──╫──╫──╫──╫──╫─\n",
       "«                  │       │ ░                  ░  ║  ║  ║  ║  ║  ║ \n",
       "«         eigen_5: ┤6      ├─░──────────────────░──╫──╫──╫──╫──╫──╫─\n",
       "«                  │       │ ░                  ░  ║  ║  ║  ║  ║  ║ \n",
       "«         eigen_6: ┤7      ├─░──────────────────░──╫──╫──╫──╫──╫──╫─\n",
       "«                  │       │ ░                  ░  ║  ║  ║  ║  ║  ║ \n",
       "«         eigen_7: ┤8      ├─░──────────────────░──╫──╫──╫──╫──╫──╫─\n",
       "«                  └───────┘ ░                  ░  ║  ║  ║  ║  ║  ║ \n",
       "«unit_classical: 6/════════════════════════════════╩══╩══╩══╩══╩══╩═\n",
       "«                                                  0  1  2  3  4  5 </pre>"
      ],
      "text/plain": [
       "                        ░ ┌───┐ ░                                          »\n",
       "          unit_0: ──────░─┤ H ├─░──────────────────────────────────────────»\n",
       "                        ░ ├───┤ ░                                 ┌───────┐»\n",
       "          unit_1: ──────░─┤ H ├─░─────────────────────────────────┤0      ├»\n",
       "                        ░ ├───┤ ░                         ┌──────┐│       │»\n",
       "          unit_2: ──────░─┤ H ├─░─────────────────────────┤0     ├┤       ├»\n",
       "                        ░ ├───┤ ░                 ┌──────┐│      ││       │»\n",
       "          unit_3: ──────░─┤ H ├─░─────────────────┤0     ├┤      ├┤       ├»\n",
       "                        ░ ├───┤ ░         ┌──────┐│      ││      ││       │»\n",
       "          unit_4: ──────░─┤ H ├─░─────────┤0     ├┤      ├┤      ├┤       ├»\n",
       "                        ░ ├───┤ ░ ┌──────┐│      ││      ││      ││       │»\n",
       "          unit_5: ──────░─┤ H ├─░─┤0     ├┤      ├┤      ├┤      ├┤       ├»\n",
       "                  ┌───┐ ░ └───┘ ░ │      ││      ││      ││      ││       │»\n",
       "         eigen_0: ┤ X ├─░───────░─┤1     ├┤1     ├┤1     ├┤1     ├┤1      ├»\n",
       "                  ├───┤ ░       ░ │      ││      ││      ││      ││       │»\n",
       "         eigen_1: ┤ X ├─░───────░─┤2     ├┤2     ├┤2     ├┤2     ├┤2 U_16 ├»\n",
       "                  └───┘ ░       ░ │      ││      ││      ││  U_8 ││       │»\n",
       "         eigen_2: ──────░───────░─┤3     ├┤3     ├┤3 U_4 ├┤3     ├┤3      ├»\n",
       "                        ░       ░ │      ││  U_2 ││      ││      ││       │»\n",
       "         eigen_3: ──────░───────░─┤4 U_1 ├┤4     ├┤4     ├┤4     ├┤4      ├»\n",
       "                        ░       ░ │      ││      ││      ││      ││       │»\n",
       "         eigen_4: ──────░───────░─┤5     ├┤5     ├┤5     ├┤5     ├┤5      ├»\n",
       "                  ┌───┐ ░       ░ │      ││      ││      ││      ││       │»\n",
       "         eigen_5: ┤ X ├─░───────░─┤6     ├┤6     ├┤6     ├┤6     ├┤6      ├»\n",
       "                  ├───┤ ░       ░ │      ││      ││      ││      ││       │»\n",
       "         eigen_6: ┤ X ├─░───────░─┤7     ├┤7     ├┤7     ├┤7     ├┤7      ├»\n",
       "                  └───┘ ░       ░ │      ││      ││      ││      ││       │»\n",
       "         eigen_7: ──────░───────░─┤8     ├┤8     ├┤8     ├┤8     ├┤8      ├»\n",
       "                        ░       ░ └──────┘└──────┘└──────┘└──────┘└───────┘»\n",
       "unit_classical: 6/═════════════════════════════════════════════════════════»\n",
       "                                                                           »\n",
       "«                  ┌───────┐ ░ ┌──────────────┐ ░ ┌─┐               \n",
       "«          unit_0: ┤0      ├─░─┤0             ├─░─┤M├───────────────\n",
       "«                  │       │ ░ │              │ ░ └╥┘┌─┐            \n",
       "«          unit_1: ┤       ├─░─┤1             ├─░──╫─┤M├────────────\n",
       "«                  │       │ ░ │              │ ░  ║ └╥┘┌─┐         \n",
       "«          unit_2: ┤       ├─░─┤2             ├─░──╫──╫─┤M├─────────\n",
       "«                  │       │ ░ │  Inverse QFT │ ░  ║  ║ └╥┘┌─┐      \n",
       "«          unit_3: ┤       ├─░─┤3             ├─░──╫──╫──╫─┤M├──────\n",
       "«                  │       │ ░ │              │ ░  ║  ║  ║ └╥┘┌─┐   \n",
       "«          unit_4: ┤       ├─░─┤4             ├─░──╫──╫──╫──╫─┤M├───\n",
       "«                  │       │ ░ │              │ ░  ║  ║  ║  ║ └╥┘┌─┐\n",
       "«          unit_5: ┤       ├─░─┤5             ├─░──╫──╫──╫──╫──╫─┤M├\n",
       "«                  │       │ ░ └──────────────┘ ░  ║  ║  ║  ║  ║ └╥┘\n",
       "«         eigen_0: ┤1      ├─░──────────────────░──╫──╫──╫──╫──╫──╫─\n",
       "«                  │  U_32 │ ░                  ░  ║  ║  ║  ║  ║  ║ \n",
       "«         eigen_1: ┤2      ├─░──────────────────░──╫──╫──╫──╫──╫──╫─\n",
       "«                  │       │ ░                  ░  ║  ║  ║  ║  ║  ║ \n",
       "«         eigen_2: ┤3      ├─░──────────────────░──╫──╫──╫──╫──╫──╫─\n",
       "«                  │       │ ░                  ░  ║  ║  ║  ║  ║  ║ \n",
       "«         eigen_3: ┤4      ├─░──────────────────░──╫──╫──╫──╫──╫──╫─\n",
       "«                  │       │ ░                  ░  ║  ║  ║  ║  ║  ║ \n",
       "«         eigen_4: ┤5      ├─░──────────────────░──╫──╫──╫──╫──╫──╫─\n",
       "«                  │       │ ░                  ░  ║  ║  ║  ║  ║  ║ \n",
       "«         eigen_5: ┤6      ├─░──────────────────░──╫──╫──╫──╫──╫──╫─\n",
       "«                  │       │ ░                  ░  ║  ║  ║  ║  ║  ║ \n",
       "«         eigen_6: ┤7      ├─░──────────────────░──╫──╫──╫──╫──╫──╫─\n",
       "«                  │       │ ░                  ░  ║  ║  ║  ║  ║  ║ \n",
       "«         eigen_7: ┤8      ├─░──────────────────░──╫──╫──╫──╫──╫──╫─\n",
       "«                  └───────┘ ░                  ░  ║  ║  ║  ║  ║  ║ \n",
       "«unit_classical: 6/════════════════════════════════╩══╩══╩══╩══╩══╩═\n",
       "«                                                  0  1  2  3  4  5 "
      ]
     },
     "execution_count": 12,
     "metadata": {},
     "output_type": "execute_result"
    }
   ],
   "source": [
    "# Initialization\n",
    "unit = QuantumRegister(6, 'unit')\n",
    "eigen = QuantumRegister(8, 'eigen')\n",
    "unit_classical = ClassicalRegister(6, 'unit_classical')\n",
    "qc = QuantumCircuit(unit, eigen, unit_classical)\n",
    "#\n",
    "\n",
    "# Setting one eigenstate \n",
    "# Playing with the first eigenstate here i.e. 11000110 from eigen_values list.\n",
    "# (Try to play with other eigenstates from the eigen_values list)\n",
    "eigenstates(qc, eigen, 0)\n",
    "#\n",
    "\n",
    "# Hadamard on the 'unit' qubits\n",
    "qc.h(unit[:])\n",
    "qc.barrier()\n",
    "#\n",
    "\n",
    "# Controlled Unitary  \n",
    "phases = [pi / 2, pi / 8, pi / 4, pi / 2, pi / 4, pi / 4, pi / 8, pi / 4, pi / 8, pi / 4, pi / 4, pi / 8] # a, b, c, d, e, f, g, h, i, j, k, l\n",
    "for i in range(0, 6):\n",
    "    qc.append(final_U(i, eigen, phases), [unit[5-i]] + eigen[:])\n",
    "#\n",
    "\n",
    "# Inverse QFT \n",
    "qc.barrier()\n",
    "qft = QFT(num_qubits=len(unit), inverse=True, insert_barriers=True, do_swaps=False, name='Inverse QFT')\n",
    "qc.append(qft, qc.qubits[:len(unit)])\n",
    "qc.barrier()\n",
    "#\n",
    "\n",
    "# Measure\n",
    "qc.measure(unit, unit_classical)\n",
    "#\n",
    "\n",
    "# Draw\n",
    "qc.draw()"
   ]
  },
  {
   "cell_type": "code",
   "execution_count": 13,
   "id": "69f0852d",
   "metadata": {},
   "outputs": [
    {
     "name": "stdout",
     "output_type": "stream",
     "text": [
      "{'100100': 8192}\n"
     ]
    },
    {
     "data": {
      "image/png": "[encoded data removed]",
      "text/plain": [
       "<Figure size 700x500 with 1 Axes>"
      ]
     },
     "execution_count": 13,
     "metadata": {},
     "output_type": "execute_result"
    }
   ],
   "source": [
    "backend = Aer.get_backend('qasm_simulator')\n",
    "job = execute(qc, backend, shots=8192)\n",
    "count = job.result().get_counts()\n",
    "print(count)\n",
    "plot_histogram(count)"
   ]
  },
  {
   "cell_type": "code",
   "execution_count": null,
   "id": "8909faaa",
   "metadata": {},
   "outputs": [],
   "source": []
  }
 ],
 "metadata": {
  "kernelspec": {
   "display_name": "Python 3 (ipykernel)",
   "language": "python",
   "name": "python3"
  },
  "language_info": {
   "codemirror_mode": {
    "name": "ipython",
    "version": 3
   },
   "file_extension": ".py",
   "mimetype": "text/x-python",
   "name": "python",
   "nbconvert_exporter": "python",
   "pygments_lexer": "ipython3",
   "version": "3.8.16"
  }
 },
 "nbformat": 4,
 "nbformat_minor": 5
}
