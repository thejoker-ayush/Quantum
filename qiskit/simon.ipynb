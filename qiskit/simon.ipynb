{
 "cells": [
  {
   "cell_type": "code",
   "execution_count": 1,
   "id": "403a3a63",
   "metadata": {},
   "outputs": [],
   "source": [
    "# importing Qiskit\n",
    "from qiskit import IBMQ, Aer\n",
    "from qiskit.providers.ibmq import least_busy\n",
    "from qiskit import QuantumCircuit, transpile, assemble\n",
    "\n",
    "# import basic plot tools\n",
    "from qiskit.visualization import plot_histogram\n",
    "from qiskit_textbook.tools import simon_oracle"
   ]
  },
  {
   "cell_type": "code",
   "execution_count": 6,
   "id": "91e7f8ef",
   "metadata": {},
   "outputs": [
    {
     "data": {
      "text/html": [
       "<pre style=\"word-wrap: normal;white-space: pre;background: #fff0;line-height: 1.1;font-family: &quot;Courier New&quot;,Courier,monospace\">     ┌───┐ ░ ┌──────────────┐ ░ ┌───┐┌─┐      \n",
       "q_0: ┤ H ├─░─┤0             ├─░─┤ H ├┤M├──────\n",
       "     ├───┤ ░ │              │ ░ ├───┤└╥┘┌─┐   \n",
       "q_1: ┤ H ├─░─┤1             ├─░─┤ H ├─╫─┤M├───\n",
       "     ├───┤ ░ │              │ ░ ├───┤ ║ └╥┘┌─┐\n",
       "q_2: ┤ H ├─░─┤2             ├─░─┤ H ├─╫──╫─┤M├\n",
       "     └───┘ ░ │  circuit-102 │ ░ └───┘ ║  ║ └╥┘\n",
       "q_3: ──────░─┤3             ├─░───────╫──╫──╫─\n",
       "           ░ │              │ ░       ║  ║  ║ \n",
       "q_4: ──────░─┤4             ├─░───────╫──╫──╫─\n",
       "           ░ │              │ ░       ║  ║  ║ \n",
       "q_5: ──────░─┤5             ├─░───────╫──╫──╫─\n",
       "           ░ └──────────────┘ ░       ║  ║  ║ \n",
       "c: 3/═════════════════════════════════╩══╩══╩═\n",
       "                                      0  1  2 </pre>"
      ],
      "text/plain": [
       "     ┌───┐ ░ ┌──────────────┐ ░ ┌───┐┌─┐      \n",
       "q_0: ┤ H ├─░─┤0             ├─░─┤ H ├┤M├──────\n",
       "     ├───┤ ░ │              │ ░ ├───┤└╥┘┌─┐   \n",
       "q_1: ┤ H ├─░─┤1             ├─░─┤ H ├─╫─┤M├───\n",
       "     ├───┤ ░ │              │ ░ ├───┤ ║ └╥┘┌─┐\n",
       "q_2: ┤ H ├─░─┤2             ├─░─┤ H ├─╫──╫─┤M├\n",
       "     └───┘ ░ │  circuit-102 │ ░ └───┘ ║  ║ └╥┘\n",
       "q_3: ──────░─┤3             ├─░───────╫──╫──╫─\n",
       "           ░ │              │ ░       ║  ║  ║ \n",
       "q_4: ──────░─┤4             ├─░───────╫──╫──╫─\n",
       "           ░ │              │ ░       ║  ║  ║ \n",
       "q_5: ──────░─┤5             ├─░───────╫──╫──╫─\n",
       "           ░ └──────────────┘ ░       ║  ║  ║ \n",
       "c: 3/═════════════════════════════════╩══╩══╩═\n",
       "                                      0  1  2 "
      ]
     },
     "execution_count": 6,
     "metadata": {},
     "output_type": "execute_result"
    }
   ],
   "source": [
    "b = '110'\n",
    "\n",
    "n = len(b)\n",
    "simon_circuit = QuantumCircuit(n*2, n)\n",
    "\n",
    "# Apply Hadamard gates before querying the oracle\n",
    "simon_circuit.h(range(n))    \n",
    "    \n",
    "# Apply barrier for visual separation\n",
    "simon_circuit.barrier()\n",
    "\n",
    "simon_circuit.append(simon_oracle(b), range(6))\n",
    "\n",
    "# Apply barrier for visual separation\n",
    "simon_circuit.barrier()\n",
    "\n",
    "# Apply Hadamard gates to the input register\n",
    "simon_circuit.h(range(n))\n",
    "\n",
    "# Measure qubits\n",
    "simon_circuit.measure(range(n), range(n))\n",
    "simon_circuit.draw()"
   ]
  },
  {
   "cell_type": "code",
   "execution_count": 11,
   "id": "253eb2c2",
   "metadata": {},
   "outputs": [
    {
     "data": {
      "image/png": "[encoded data removed]",
      "text/plain": [
       "<Figure size 504x360 with 1 Axes>"
      ]
     },
     "execution_count": 11,
     "metadata": {},
     "output_type": "execute_result"
    }
   ],
   "source": [
    "# use local simulator\n",
    "aer_sim = Aer.get_backend('aer_simulator')\n",
    "#shots = 1024\n",
    "qobj = transpile(simon_circuit, aer_sim)\n",
    "results = aer_sim.run(qobj).result()\n",
    "counts = results.get_counts()\n",
    "plot_histogram(counts)"
   ]
  },
  {
   "cell_type": "code",
   "execution_count": 14,
   "id": "d5a900b6",
   "metadata": {},
   "outputs": [
    {
     "data": {
      "text/html": [
       "<pre style=\"word-wrap: normal;white-space: pre;background: #fff0;line-height: 1.1;font-family: &quot;Courier New&quot;,Courier,monospace\">     ┌───┐┌──────────────┐┌───┐┌─┐   \n",
       "q_0: ┤ H ├┤0             ├┤ H ├┤M├───\n",
       "     ├───┤│              │├───┤└╥┘┌─┐\n",
       "q_1: ┤ H ├┤1             ├┤ H ├─╫─┤M├\n",
       "     └───┘│  circuit-112 │└───┘ ║ └╥┘\n",
       "q_2: ─────┤2             ├──────╫──╫─\n",
       "          │              │      ║  ║ \n",
       "q_3: ─────┤3             ├──────╫──╫─\n",
       "          └──────────────┘      ║  ║ \n",
       "c: 2/═══════════════════════════╩══╩═\n",
       "                                0  1 </pre>"
      ],
      "text/plain": [
       "     ┌───┐┌──────────────┐┌───┐┌─┐   \n",
       "q_0: ┤ H ├┤0             ├┤ H ├┤M├───\n",
       "     ├───┤│              │├───┤└╥┘┌─┐\n",
       "q_1: ┤ H ├┤1             ├┤ H ├─╫─┤M├\n",
       "     └───┘│  circuit-112 │└───┘ ║ └╥┘\n",
       "q_2: ─────┤2             ├──────╫──╫─\n",
       "          │              │      ║  ║ \n",
       "q_3: ─────┤3             ├──────╫──╫─\n",
       "          └──────────────┘      ║  ║ \n",
       "c: 2/═══════════════════════════╩══╩═\n",
       "                                0  1 "
      ]
     },
     "execution_count": 14,
     "metadata": {},
     "output_type": "execute_result"
    }
   ],
   "source": [
    "b = '11'\n",
    "n = len(b)\n",
    "simon_circuit_2 = QuantumCircuit(n*2, n)\n",
    "\n",
    "# Apply Hadamard gates before querying the oracle\n",
    "simon_circuit_2.h(range(n))\n",
    "\n",
    "# Query oracle\n",
    "simon_circuit_2.append(simon_oracle(b), range(2*n))\n",
    "\n",
    "# Apply Hadamard gates to the input register\n",
    "simon_circuit_2.h(range(n))\n",
    "\n",
    "# Measure qubits\n",
    "simon_circuit_2.measure(range(n), range(n))\n",
    "simon_circuit_2.draw()"
   ]
  },
  {
   "cell_type": "code",
   "execution_count": 15,
   "id": "04bbc3ab",
   "metadata": {},
   "outputs": [
    {
     "name": "stderr",
     "output_type": "stream",
     "text": [
      "<ipython-input-15-9a1e4d2aaf40>:2: DeprecationWarning: The qiskit.IBMQ entrypoint and the qiskit-ibmq-provider package (accessible from 'qiskit.providers.ibmq`) are deprecated and will be removed in a future release. Instead you should use the qiskit-ibm-provider package which is accessible from 'qiskit_ibm_provider'. You can install it with 'pip install qiskit_ibm_provider'. Just replace 'qiskit.IBMQ' with 'qiskit_ibm_provider.IBMProvider'\n",
      "  IBMQ.load_account()\n"
     ]
    },
    {
     "name": "stdout",
     "output_type": "stream",
     "text": [
      "least busy backend:  ibmq_belem\n"
     ]
    },
    {
     "name": "stderr",
     "output_type": "stream",
     "text": [
      "<ipython-input-15-9a1e4d2aaf40>:13: DeprecationWarning: Passing a Qobj to Backend.run is deprecated and will be removed in a future release. Please pass in circuits or pulse schedules instead.\n",
      "  job = backend.run(qobj)\n"
     ]
    },
    {
     "name": "stdout",
     "output_type": "stream",
     "text": [
      "Job Status: job has successfully run\n"
     ]
    }
   ],
   "source": [
    "# Load our saved IBMQ accounts and get the least busy backend device with less than or equal to 5 qubits\n",
    "IBMQ.load_account()\n",
    "provider = IBMQ.get_provider(hub='ibm-q')\n",
    "backend = least_busy(provider.backends(filters=lambda x: x.configuration().n_qubits >= n*2 and \n",
    "                                   not x.configuration().simulator and x.status().operational==True))\n",
    "print(\"least busy backend: \", backend)\n",
    "\n",
    "# Execute and monitor the job\n",
    "from qiskit.tools.monitor import job_monitor\n",
    "shots = 1024\n",
    "transpiled_simon_circuit = transpile(simon_circuit_2, backend, optimization_level=3)\n",
    "qobj = assemble(transpiled_simon_circuit, shots=shots)\n",
    "job = backend.run(qobj)\n",
    "job_monitor(job, interval=2)"
   ]
  },
  {
   "cell_type": "code",
   "execution_count": 16,
   "id": "b23679fa",
   "metadata": {},
   "outputs": [
    {
     "data": {
      "image/png": "[encoded data removed]",
      "text/plain": [
       "<Figure size 504x360 with 1 Axes>"
      ]
     },
     "execution_count": 16,
     "metadata": {},
     "output_type": "execute_result"
    }
   ],
   "source": [
    "# Get results and plot counts\n",
    "device_counts = job.result().get_counts()\n",
    "plot_histogram(device_counts)"
   ]
  },
  {
   "cell_type": "code",
   "execution_count": 17,
   "id": "fb8efe42",
   "metadata": {},
   "outputs": [
    {
     "name": "stdout",
     "output_type": "stream",
     "text": [
      "b = 11\n",
      "11.00 = 0 (mod 2) (41.2%)\n",
      "11.01 = 1 (mod 2) (3.7%)\n",
      "11.10 = 1 (mod 2) (3.6%)\n",
      "11.11 = 0 (mod 2) (51.5%)\n"
     ]
    }
   ],
   "source": [
    "# Calculate the dot product of the results\n",
    "def bdotz(b, z):\n",
    "    accum = 0\n",
    "    for i in range(len(b)):\n",
    "        accum += int(b[i]) * int(z[i])\n",
    "    return (accum % 2)\n",
    "\n",
    "print('b = ' + b)\n",
    "for z in device_counts:\n",
    "    print( '{}.{} = {} (mod 2) ({:.1f}%)'.format(b, z, bdotz(b,z), device_counts[z]*100/shots))"
   ]
  },
  {
   "cell_type": "code",
   "execution_count": 18,
   "id": "00bc9d45",
   "metadata": {},
   "outputs": [
    {
     "data": {
      "text/html": [
       "<h3>Version Information</h3><table><tr><th>Qiskit Software</th><th>Version</th></tr><tr><td><code>qiskit-terra</code></td><td>0.23.1</td></tr><tr><td><code>qiskit-aer</code></td><td>0.11.2</td></tr><tr><td><code>qiskit-ignis</code></td><td>0.6.0</td></tr><tr><td><code>qiskit-ibmq-provider</code></td><td>0.20.0</td></tr><tr><td><code>qiskit</code></td><td>0.41.0</td></tr><tr><th>System information</th></tr><tr><td>Python version</td><td>3.8.8</td></tr><tr><td>Python compiler</td><td>MSC v.1916 64 bit (AMD64)</td></tr><tr><td>Python build</td><td>default, Apr 13 2021 15:08:03</td></tr><tr><td>OS</td><td>Windows</td></tr><tr><td>CPUs</td><td>4</td></tr><tr><td>Memory (Gb)</td><td>15.845298767089844</td></tr><tr><td colspan='2'>Fri Feb 10 16:15:46 2023 GMT Standard Time</td></tr></table>"
      ],
      "text/plain": [
       "<IPython.core.display.HTML object>"
      ]
     },
     "metadata": {},
     "output_type": "display_data"
    }
   ],
   "source": [
    "import qiskit.tools.jupyter\n",
    "%qiskit_version_table"
   ]
  },
  {
   "cell_type": "code",
   "execution_count": null,
   "id": "a69108f3",
   "metadata": {},
   "outputs": [],
   "source": []
  }
 ],
 "metadata": {
  "kernelspec": {
   "display_name": "Python 3",
   "language": "python",
   "name": "python3"
  },
  "language_info": {
   "codemirror_mode": {
    "name": "ipython",
    "version": 3
   },
   "file_extension": ".py",
   "mimetype": "text/x-python",
   "name": "python",
   "nbconvert_exporter": "python",
   "pygments_lexer": "ipython3",
   "version": "3.8.8"
  }
 },
 "nbformat": 4,
 "nbformat_minor": 5
}
