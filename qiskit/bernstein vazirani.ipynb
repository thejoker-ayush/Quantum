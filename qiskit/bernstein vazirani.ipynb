{
 "cells": [
  {
   "cell_type": "code",
   "execution_count": 1,
   "id": "8256ed67",
   "metadata": {},
   "outputs": [],
   "source": [
    "from qiskit import *\n",
    "from qiskit.tools.visualization import plot_histogram"
   ]
  },
  {
   "cell_type": "code",
   "execution_count": 2,
   "id": "6ceba222",
   "metadata": {},
   "outputs": [],
   "source": [
    "secretnumber = '101001'"
   ]
  },
  {
   "cell_type": "code",
   "execution_count": 3,
   "id": "ed0bddc5",
   "metadata": {},
   "outputs": [
    {
     "data": {
      "text/plain": [
       "<qiskit.circuit.instructionset.InstructionSet at 0x29d29c0e8b0>"
      ]
     },
     "execution_count": 3,
     "metadata": {},
     "output_type": "execute_result"
    }
   ],
   "source": [
    "circuit = QuantumCircuit(6+1, 6)\n",
    "\n",
    "circuit.h([0,1,2,3,4,5])\n",
    "circuit.x(6)\n",
    "circuit.h(6)"
   ]
  },
  {
   "cell_type": "code",
   "execution_count": 4,
   "id": "43ddbc17",
   "metadata": {},
   "outputs": [
    {
     "data": {
      "text/html": [
       "<pre style=\"word-wrap: normal;white-space: pre;background: #fff0;line-height: 1.1;font-family: &quot;Courier New&quot;,Courier,monospace\">     ┌───┐     \n",
       "q_0: ┤ H ├─────\n",
       "     ├───┤     \n",
       "q_1: ┤ H ├─────\n",
       "     ├───┤     \n",
       "q_2: ┤ H ├─────\n",
       "     ├───┤     \n",
       "q_3: ┤ H ├─────\n",
       "     ├───┤     \n",
       "q_4: ┤ H ├─────\n",
       "     ├───┤     \n",
       "q_5: ┤ H ├─────\n",
       "     ├───┤┌───┐\n",
       "q_6: ┤ X ├┤ H ├\n",
       "     └───┘└───┘\n",
       "c: 6/══════════\n",
       "               </pre>"
      ],
      "text/plain": [
       "     ┌───┐     \n",
       "q_0: ┤ H ├─────\n",
       "     ├───┤     \n",
       "q_1: ┤ H ├─────\n",
       "     ├───┤     \n",
       "q_2: ┤ H ├─────\n",
       "     ├───┤     \n",
       "q_3: ┤ H ├─────\n",
       "     ├───┤     \n",
       "q_4: ┤ H ├─────\n",
       "     ├───┤     \n",
       "q_5: ┤ H ├─────\n",
       "     ├───┤┌───┐\n",
       "q_6: ┤ X ├┤ H ├\n",
       "     └───┘└───┘\n",
       "c: 6/══════════\n",
       "               "
      ]
     },
     "execution_count": 4,
     "metadata": {},
     "output_type": "execute_result"
    }
   ],
   "source": [
    "circuit.draw(output='text')"
   ]
  },
  {
   "cell_type": "code",
   "execution_count": 5,
   "id": "dfa0d7e5",
   "metadata": {},
   "outputs": [
    {
     "data": {
      "text/plain": [
       "<qiskit.circuit.instructionset.InstructionSet at 0x29d29c025b0>"
      ]
     },
     "execution_count": 5,
     "metadata": {},
     "output_type": "execute_result"
    }
   ],
   "source": [
    "circuit.barrier()"
   ]
  },
  {
   "cell_type": "code",
   "execution_count": 6,
   "id": "ede41fed",
   "metadata": {},
   "outputs": [
    {
     "data": {
      "text/plain": [
       "<qiskit.circuit.instructionset.InstructionSet at 0x29d2d8da0a0>"
      ]
     },
     "execution_count": 6,
     "metadata": {},
     "output_type": "execute_result"
    }
   ],
   "source": [
    "circuit.cx(5,6)\n",
    "circuit.cx(3,6)\n",
    "circuit.cx(0,6)"
   ]
  },
  {
   "cell_type": "code",
   "execution_count": 7,
   "id": "8a6debda",
   "metadata": {},
   "outputs": [
    {
     "data": {
      "text/html": [
       "<pre style=\"word-wrap: normal;white-space: pre;background: #fff0;line-height: 1.1;font-family: &quot;Courier New&quot;,Courier,monospace\">     ┌───┐      ░                \n",
       "q_0: ┤ H ├──────░─────────────■──\n",
       "     ├───┤      ░             │  \n",
       "q_1: ┤ H ├──────░─────────────┼──\n",
       "     ├───┤      ░             │  \n",
       "q_2: ┤ H ├──────░─────────────┼──\n",
       "     ├───┤      ░             │  \n",
       "q_3: ┤ H ├──────░────────■────┼──\n",
       "     ├───┤      ░        │    │  \n",
       "q_4: ┤ H ├──────░────────┼────┼──\n",
       "     ├───┤      ░        │    │  \n",
       "q_5: ┤ H ├──────░───■────┼────┼──\n",
       "     ├───┤┌───┐ ░ ┌─┴─┐┌─┴─┐┌─┴─┐\n",
       "q_6: ┤ X ├┤ H ├─░─┤ X ├┤ X ├┤ X ├\n",
       "     └───┘└───┘ ░ └───┘└───┘└───┘\n",
       "c: 6/════════════════════════════\n",
       "                                 </pre>"
      ],
      "text/plain": [
       "     ┌───┐      ░                \n",
       "q_0: ┤ H ├──────░─────────────■──\n",
       "     ├───┤      ░             │  \n",
       "q_1: ┤ H ├──────░─────────────┼──\n",
       "     ├───┤      ░             │  \n",
       "q_2: ┤ H ├──────░─────────────┼──\n",
       "     ├───┤      ░             │  \n",
       "q_3: ┤ H ├──────░────────■────┼──\n",
       "     ├───┤      ░        │    │  \n",
       "q_4: ┤ H ├──────░────────┼────┼──\n",
       "     ├───┤      ░        │    │  \n",
       "q_5: ┤ H ├──────░───■────┼────┼──\n",
       "     ├───┤┌───┐ ░ ┌─┴─┐┌─┴─┐┌─┴─┐\n",
       "q_6: ┤ X ├┤ H ├─░─┤ X ├┤ X ├┤ X ├\n",
       "     └───┘└───┘ ░ └───┘└───┘└───┘\n",
       "c: 6/════════════════════════════\n",
       "                                 "
      ]
     },
     "execution_count": 7,
     "metadata": {},
     "output_type": "execute_result"
    }
   ],
   "source": [
    "circuit.draw(output='text')"
   ]
  },
  {
   "cell_type": "code",
   "execution_count": 8,
   "id": "9216af24",
   "metadata": {},
   "outputs": [
    {
     "data": {
      "text/plain": [
       "<qiskit.circuit.instructionset.InstructionSet at 0x29d2d8c6d30>"
      ]
     },
     "execution_count": 8,
     "metadata": {},
     "output_type": "execute_result"
    }
   ],
   "source": [
    "circuit.barrier()"
   ]
  },
  {
   "cell_type": "code",
   "execution_count": 9,
   "id": "68bf89ed",
   "metadata": {},
   "outputs": [
    {
     "data": {
      "text/plain": [
       "<qiskit.circuit.instructionset.InstructionSet at 0x29d2d8da700>"
      ]
     },
     "execution_count": 9,
     "metadata": {},
     "output_type": "execute_result"
    }
   ],
   "source": [
    "circuit.h([0,1,2,3,4,5])"
   ]
  },
  {
   "cell_type": "code",
   "execution_count": 10,
   "id": "6f0c676b",
   "metadata": {},
   "outputs": [
    {
     "data": {
      "text/html": [
       "<pre style=\"word-wrap: normal;white-space: pre;background: #fff0;line-height: 1.1;font-family: &quot;Courier New&quot;,Courier,monospace\">     ┌───┐      ░                 ░ ┌───┐\n",
       "q_0: ┤ H ├──────░─────────────■───░─┤ H ├\n",
       "     ├───┤      ░             │   ░ ├───┤\n",
       "q_1: ┤ H ├──────░─────────────┼───░─┤ H ├\n",
       "     ├───┤      ░             │   ░ ├───┤\n",
       "q_2: ┤ H ├──────░─────────────┼───░─┤ H ├\n",
       "     ├───┤      ░             │   ░ ├───┤\n",
       "q_3: ┤ H ├──────░────────■────┼───░─┤ H ├\n",
       "     ├───┤      ░        │    │   ░ ├───┤\n",
       "q_4: ┤ H ├──────░────────┼────┼───░─┤ H ├\n",
       "     ├───┤      ░        │    │   ░ ├───┤\n",
       "q_5: ┤ H ├──────░───■────┼────┼───░─┤ H ├\n",
       "     ├───┤┌───┐ ░ ┌─┴─┐┌─┴─┐┌─┴─┐ ░ └───┘\n",
       "q_6: ┤ X ├┤ H ├─░─┤ X ├┤ X ├┤ X ├─░──────\n",
       "     └───┘└───┘ ░ └───┘└───┘└───┘ ░      \n",
       "c: 6/════════════════════════════════════\n",
       "                                         </pre>"
      ],
      "text/plain": [
       "     ┌───┐      ░                 ░ ┌───┐\n",
       "q_0: ┤ H ├──────░─────────────■───░─┤ H ├\n",
       "     ├───┤      ░             │   ░ ├───┤\n",
       "q_1: ┤ H ├──────░─────────────┼───░─┤ H ├\n",
       "     ├───┤      ░             │   ░ ├───┤\n",
       "q_2: ┤ H ├──────░─────────────┼───░─┤ H ├\n",
       "     ├───┤      ░             │   ░ ├───┤\n",
       "q_3: ┤ H ├──────░────────■────┼───░─┤ H ├\n",
       "     ├───┤      ░        │    │   ░ ├───┤\n",
       "q_4: ┤ H ├──────░────────┼────┼───░─┤ H ├\n",
       "     ├───┤      ░        │    │   ░ ├───┤\n",
       "q_5: ┤ H ├──────░───■────┼────┼───░─┤ H ├\n",
       "     ├───┤┌───┐ ░ ┌─┴─┐┌─┴─┐┌─┴─┐ ░ └───┘\n",
       "q_6: ┤ X ├┤ H ├─░─┤ X ├┤ X ├┤ X ├─░──────\n",
       "     └───┘└───┘ ░ └───┘└───┘└───┘ ░      \n",
       "c: 6/════════════════════════════════════\n",
       "                                         "
      ]
     },
     "execution_count": 10,
     "metadata": {},
     "output_type": "execute_result"
    }
   ],
   "source": [
    "circuit.draw(output='text')"
   ]
  },
  {
   "cell_type": "code",
   "execution_count": 11,
   "id": "f73a9350",
   "metadata": {},
   "outputs": [
    {
     "data": {
      "text/plain": [
       "<qiskit.circuit.instructionset.InstructionSet at 0x29d2d8dac40>"
      ]
     },
     "execution_count": 11,
     "metadata": {},
     "output_type": "execute_result"
    }
   ],
   "source": [
    "circuit.barrier()\n",
    "circuit.measure([0,1,2,3,4,5], [0,1,2,3,4,5])"
   ]
  },
  {
   "cell_type": "code",
   "execution_count": 12,
   "id": "517765bb",
   "metadata": {},
   "outputs": [
    {
     "data": {
      "text/html": [
       "<pre style=\"word-wrap: normal;white-space: pre;background: #fff0;line-height: 1.1;font-family: &quot;Courier New&quot;,Courier,monospace\">     ┌───┐      ░                 ░ ┌───┐ ░ ┌─┐               \n",
       "q_0: ┤ H ├──────░─────────────■───░─┤ H ├─░─┤M├───────────────\n",
       "     ├───┤      ░             │   ░ ├───┤ ░ └╥┘┌─┐            \n",
       "q_1: ┤ H ├──────░─────────────┼───░─┤ H ├─░──╫─┤M├────────────\n",
       "     ├───┤      ░             │   ░ ├───┤ ░  ║ └╥┘┌─┐         \n",
       "q_2: ┤ H ├──────░─────────────┼───░─┤ H ├─░──╫──╫─┤M├─────────\n",
       "     ├───┤      ░             │   ░ ├───┤ ░  ║  ║ └╥┘┌─┐      \n",
       "q_3: ┤ H ├──────░────────■────┼───░─┤ H ├─░──╫──╫──╫─┤M├──────\n",
       "     ├───┤      ░        │    │   ░ ├───┤ ░  ║  ║  ║ └╥┘┌─┐   \n",
       "q_4: ┤ H ├──────░────────┼────┼───░─┤ H ├─░──╫──╫──╫──╫─┤M├───\n",
       "     ├───┤      ░        │    │   ░ ├───┤ ░  ║  ║  ║  ║ └╥┘┌─┐\n",
       "q_5: ┤ H ├──────░───■────┼────┼───░─┤ H ├─░──╫──╫──╫──╫──╫─┤M├\n",
       "     ├───┤┌───┐ ░ ┌─┴─┐┌─┴─┐┌─┴─┐ ░ └───┘ ░  ║  ║  ║  ║  ║ └╥┘\n",
       "q_6: ┤ X ├┤ H ├─░─┤ X ├┤ X ├┤ X ├─░───────░──╫──╫──╫──╫──╫──╫─\n",
       "     └───┘└───┘ ░ └───┘└───┘└───┘ ░       ░  ║  ║  ║  ║  ║  ║ \n",
       "c: 6/════════════════════════════════════════╩══╩══╩══╩══╩══╩═\n",
       "                                             0  1  2  3  4  5 </pre>"
      ],
      "text/plain": [
       "     ┌───┐      ░                 ░ ┌───┐ ░ ┌─┐               \n",
       "q_0: ┤ H ├──────░─────────────■───░─┤ H ├─░─┤M├───────────────\n",
       "     ├───┤      ░             │   ░ ├───┤ ░ └╥┘┌─┐            \n",
       "q_1: ┤ H ├──────░─────────────┼───░─┤ H ├─░──╫─┤M├────────────\n",
       "     ├───┤      ░             │   ░ ├───┤ ░  ║ └╥┘┌─┐         \n",
       "q_2: ┤ H ├──────░─────────────┼───░─┤ H ├─░──╫──╫─┤M├─────────\n",
       "     ├───┤      ░             │   ░ ├───┤ ░  ║  ║ └╥┘┌─┐      \n",
       "q_3: ┤ H ├──────░────────■────┼───░─┤ H ├─░──╫──╫──╫─┤M├──────\n",
       "     ├───┤      ░        │    │   ░ ├───┤ ░  ║  ║  ║ └╥┘┌─┐   \n",
       "q_4: ┤ H ├──────░────────┼────┼───░─┤ H ├─░──╫──╫──╫──╫─┤M├───\n",
       "     ├───┤      ░        │    │   ░ ├───┤ ░  ║  ║  ║  ║ └╥┘┌─┐\n",
       "q_5: ┤ H ├──────░───■────┼────┼───░─┤ H ├─░──╫──╫──╫──╫──╫─┤M├\n",
       "     ├───┤┌───┐ ░ ┌─┴─┐┌─┴─┐┌─┴─┐ ░ └───┘ ░  ║  ║  ║  ║  ║ └╥┘\n",
       "q_6: ┤ X ├┤ H ├─░─┤ X ├┤ X ├┤ X ├─░───────░──╫──╫──╫──╫──╫──╫─\n",
       "     └───┘└───┘ ░ └───┘└───┘└───┘ ░       ░  ║  ║  ║  ║  ║  ║ \n",
       "c: 6/════════════════════════════════════════╩══╩══╩══╩══╩══╩═\n",
       "                                             0  1  2  3  4  5 "
      ]
     },
     "execution_count": 12,
     "metadata": {},
     "output_type": "execute_result"
    }
   ],
   "source": [
    "circuit.draw(output='text')"
   ]
  },
  {
   "cell_type": "code",
   "execution_count": 13,
   "id": "90f0d7d3",
   "metadata": {},
   "outputs": [
    {
     "name": "stdout",
     "output_type": "stream",
     "text": [
      "{'101001': 1}\n"
     ]
    }
   ],
   "source": [
    "simulator = Aer.get_backend('qasm_simulator')\n",
    "result = execute(circuit, backend = simulator, shots = 1).result()\n",
    "counts = result.get_counts()\n",
    "print(counts)"
   ]
  },
  {
   "cell_type": "code",
   "execution_count": null,
   "id": "aee07d5f",
   "metadata": {},
   "outputs": [],
   "source": []
  }
 ],
 "metadata": {
  "kernelspec": {
   "display_name": "Python 3",
   "language": "python",
   "name": "python3"
  },
  "language_info": {
   "codemirror_mode": {
    "name": "ipython",
    "version": 3
   },
   "file_extension": ".py",
   "mimetype": "text/x-python",
   "name": "python",
   "nbconvert_exporter": "python",
   "pygments_lexer": "ipython3",
   "version": "3.8.8"
  }
 },
 "nbformat": 4,
 "nbformat_minor": 5
}
