{
 "cells": [
  {
   "cell_type": "code",
   "execution_count": 1,
   "id": "d243a7f9",
   "metadata": {},
   "outputs": [
    {
     "name": "stderr",
     "output_type": "stream",
     "text": [
      "<ipython-input-1-2893a58874b8>:6: DeprecationWarning: The HHL class is deprecated as of Qiskit Terra 0.22.0 and will be removed\n",
      "        no sooner than 3 months after the release date.\n",
      "        It is replaced by the tutorial at https://qiskit.org/textbook/ch-applications/hhl_tutorial.html\"\n",
      "        \n",
      "  naive_hhl_solution = HHL().solve(matrix, vector)\n"
     ]
    }
   ],
   "source": [
    "import numpy as np\n",
    "from qiskit.algorithms.linear_solvers.numpy_linear_solver import NumPyLinearSolver\n",
    "from qiskit.algorithms.linear_solvers.hhl import HHL\n",
    "matrix = np.array([[1, -1/3], [-1/3, 1]])\n",
    "vector = np.array([1, 0])\n",
    "naive_hhl_solution = HHL().solve(matrix, vector)"
   ]
  },
  {
   "cell_type": "code",
   "execution_count": 2,
   "id": "ffed5c32",
   "metadata": {},
   "outputs": [
    {
     "name": "stderr",
     "output_type": "stream",
     "text": [
      "<ipython-input-2-3382615ff061>:1: DeprecationWarning: The NumPyLinearSolver class is deprecated as of Qiskit Terra 0.22.0 and will be removed no sooner than 3 months after the release date. \n",
      "  classical_solution = NumPyLinearSolver().solve(matrix, vector / np.linalg.norm(vector))\n"
     ]
    }
   ],
   "source": [
    "classical_solution = NumPyLinearSolver().solve(matrix, vector / np.linalg.norm(vector))"
   ]
  },
  {
   "cell_type": "code",
   "execution_count": 3,
   "id": "da2ad7fc",
   "metadata": {},
   "outputs": [
    {
     "name": "stderr",
     "output_type": "stream",
     "text": [
      "<ipython-input-3-04ad19476b13>:2: DeprecationWarning: The TridiagonalToeplitz class is deprecated as of Qiskit Terra 0.22.0 and will be removed no sooner than 3 months after the release date. \n",
      "  tridi_matrix = TridiagonalToeplitz(1, 1, -1 / 3)\n",
      "<ipython-input-3-04ad19476b13>:4: DeprecationWarning: The HHL class is deprecated as of Qiskit Terra 0.22.0 and will be removed\n",
      "        no sooner than 3 months after the release date.\n",
      "        It is replaced by the tutorial at https://qiskit.org/textbook/ch-applications/hhl_tutorial.html\"\n",
      "        \n",
      "  tridi_solution = HHL().solve(tridi_matrix, vector)\n"
     ]
    }
   ],
   "source": [
    "from qiskit.algorithms.linear_solvers.matrices.tridiagonal_toeplitz import TridiagonalToeplitz\n",
    "tridi_matrix = TridiagonalToeplitz(1, 1, -1 / 3)\n",
    "\n",
    "tridi_solution = HHL().solve(tridi_matrix, vector)"
   ]
  },
  {
   "cell_type": "code",
   "execution_count": 4,
   "id": "12b9796a",
   "metadata": {},
   "outputs": [
    {
     "name": "stdout",
     "output_type": "stream",
     "text": [
      "classical state: [1.125 0.375]\n"
     ]
    }
   ],
   "source": [
    "print('classical state:', classical_solution.state)"
   ]
  },
  {
   "cell_type": "code",
   "execution_count": 5,
   "id": "f5b2ec53",
   "metadata": {},
   "outputs": [
    {
     "name": "stdout",
     "output_type": "stream",
     "text": [
      "naive state:\n",
      "      ┌────────────┐┌──────┐        ┌─────────┐\n",
      "  q4: ┤ circuit-94 ├┤3     ├────────┤3        ├\n",
      "      └────────────┘│      │┌──────┐│         │\n",
      "q5_0: ──────────────┤0     ├┤2     ├┤0        ├\n",
      "                    │  QPE ││      ││  QPE_dg │\n",
      "q5_1: ──────────────┤1     ├┤1     ├┤1        ├\n",
      "                    │      ││  1/x ││         │\n",
      "q5_2: ──────────────┤2     ├┤0     ├┤2        ├\n",
      "                    └──────┘│      │└─────────┘\n",
      "  q6: ──────────────────────┤3     ├───────────\n",
      "                            └──────┘           \n",
      "tridiagonal state:\n",
      "       ┌─────────────┐┌──────┐        ┌─────────┐\n",
      "  q26: ┤ circuit-307 ├┤3     ├────────┤3        ├\n",
      "       └─────────────┘│      │┌──────┐│         │\n",
      "q27_0: ───────────────┤0     ├┤2     ├┤0        ├\n",
      "                      │  QPE ││      ││  QPE_dg │\n",
      "q27_1: ───────────────┤1     ├┤1     ├┤1        ├\n",
      "                      │      ││  1/x ││         │\n",
      "q27_2: ───────────────┤2     ├┤0     ├┤2        ├\n",
      "                      └──────┘│      │└─────────┘\n",
      "  q28: ───────────────────────┤3     ├───────────\n",
      "                              └──────┘           \n"
     ]
    }
   ],
   "source": [
    "print('naive state:')\n",
    "print(naive_hhl_solution.state)\n",
    "print('tridiagonal state:')\n",
    "print(tridi_solution.state)"
   ]
  },
  {
   "cell_type": "code",
   "execution_count": 6,
   "id": "dd3c47cf",
   "metadata": {},
   "outputs": [
    {
     "name": "stdout",
     "output_type": "stream",
     "text": [
      "classical Euclidean norm: 1.1858541225631423\n",
      "naive Euclidean norm: 1.1858541225631396\n",
      "tridiagonal Euclidean norm: 1.185854122563139\n"
     ]
    }
   ],
   "source": [
    "print('classical Euclidean norm:', classical_solution.euclidean_norm)\n",
    "print('naive Euclidean norm:', naive_hhl_solution.euclidean_norm)\n",
    "print('tridiagonal Euclidean norm:', tridi_solution.euclidean_norm)"
   ]
  },
  {
   "cell_type": "code",
   "execution_count": 7,
   "id": "4a21983b",
   "metadata": {},
   "outputs": [
    {
     "name": "stdout",
     "output_type": "stream",
     "text": [
      "naive raw solution vector: [-1.25936283e-16-4.09019479e-16j -6.86416162e-17+6.70613111e-16j]\n",
      "tridi raw solution vector: [-1.92535646e-16+9.81307787e-17j -2.24504108e-17+6.80168960e-16j]\n"
     ]
    }
   ],
   "source": [
    "from qiskit.quantum_info import Statevector\n",
    "\n",
    "naive_sv = Statevector(naive_hhl_solution.state).data\n",
    "tridi_sv = Statevector(tridi_solution.state).data\n",
    "\n",
    "# Extract the right vector components. 1000 corresponds to the index 8 and 1001 corresponds to the index 9\n",
    "naive_full_vector = np.array([naive_sv[8], naive_sv[9]])\n",
    "tridi_full_vector = np.array([tridi_sv[8], tridi_sv[9]])\n",
    "\n",
    "print('naive raw solution vector:', naive_full_vector)\n",
    "print('tridi raw solution vector:', tridi_full_vector)"
   ]
  },
  {
   "cell_type": "code",
   "execution_count": 8,
   "id": "c4c7ee35",
   "metadata": {},
   "outputs": [
    {
     "name": "stdout",
     "output_type": "stream",
     "text": [
      "full naive solution vector: [-1.04123295 -0.56752439]\n",
      "full tridi solution vector: [-1.17787369 -0.13734469]\n",
      "classical state: [1.125 0.375]\n"
     ]
    }
   ],
   "source": [
    "naive_full_vector = np.real(naive_full_vector)\n",
    "tridi_full_vector = np.real(tridi_full_vector)\n",
    "print('full naive solution vector:', naive_hhl_solution.euclidean_norm*naive_full_vector/np.linalg.norm(naive_full_vector))\n",
    "print('full tridi solution vector:', tridi_solution.euclidean_norm*tridi_full_vector/np.linalg.norm(tridi_full_vector))\n",
    "print('classical state:', classical_solution.state)"
   ]
  },
  {
   "cell_type": "code",
   "execution_count": 9,
   "id": "644a88a1",
   "metadata": {},
   "outputs": [
    {
     "name": "stderr",
     "output_type": "stream",
     "text": [
      "<ipython-input-9-4eeb6b8c7e84>:13: DeprecationWarning: The NumPyLinearSolver class is deprecated as of Qiskit Terra 0.22.0 and will be removed no sooner than 3 months after the release date. \n",
      "  classical_solution = NumPyLinearSolver().solve(matrix, vector / np.linalg.norm(vector))\n",
      "<ipython-input-9-4eeb6b8c7e84>:14: DeprecationWarning: The HHL class is deprecated as of Qiskit Terra 0.22.0 and will be removed\n",
      "        no sooner than 3 months after the release date.\n",
      "        It is replaced by the tutorial at https://qiskit.org/textbook/ch-applications/hhl_tutorial.html\"\n",
      "        \n",
      "  naive_hhl_solution = HHL().solve(matrix, vector)\n",
      "<ipython-input-9-4eeb6b8c7e84>:15: DeprecationWarning: The TridiagonalToeplitz class is deprecated as of Qiskit Terra 0.22.0 and will be removed no sooner than 3 months after the release date. \n",
      "  tridi_matrix = TridiagonalToeplitz(num_qubits, a, b)\n",
      "<ipython-input-9-4eeb6b8c7e84>:16: DeprecationWarning: The HHL class is deprecated as of Qiskit Terra 0.22.0 and will be removed\n",
      "        no sooner than 3 months after the release date.\n",
      "        It is replaced by the tutorial at https://qiskit.org/textbook/ch-applications/hhl_tutorial.html\"\n",
      "        \n",
      "  tridi_solution = HHL().solve(tridi_matrix, vector)\n"
     ]
    },
    {
     "name": "stdout",
     "output_type": "stream",
     "text": [
      "classical euclidean norm: 1.237833351044751\n",
      "naive euclidean norm: 1.2099806231119203\n",
      "tridiagonal euclidean norm: 1.209457721870593\n"
     ]
    }
   ],
   "source": [
    "from scipy.sparse import diags\n",
    "\n",
    "num_qubits = 2\n",
    "matrix_size = 2 ** num_qubits\n",
    "# entries of the tridiagonal Toeplitz symmetric matrix\n",
    "a = 1\n",
    "b = -1/3\n",
    "\n",
    "matrix = diags([b, a, b], [-1, 0, 1], shape=(matrix_size, matrix_size)).toarray()\n",
    "vector = np.array([1] + [0]*(matrix_size - 1))\n",
    "\n",
    "# run the algorithms\n",
    "classical_solution = NumPyLinearSolver().solve(matrix, vector / np.linalg.norm(vector))\n",
    "naive_hhl_solution = HHL().solve(matrix, vector)\n",
    "tridi_matrix = TridiagonalToeplitz(num_qubits, a, b)\n",
    "tridi_solution = HHL().solve(tridi_matrix, vector)\n",
    "\n",
    "print('classical euclidean norm:', classical_solution.euclidean_norm)\n",
    "print('naive euclidean norm:', naive_hhl_solution.euclidean_norm)\n",
    "print('tridiagonal euclidean norm:', tridi_solution.euclidean_norm)"
   ]
  },
  {
   "cell_type": "code",
   "execution_count": 13,
   "id": "db73f965",
   "metadata": {},
   "outputs": [
    {
     "name": "stderr",
     "output_type": "stream",
     "text": [
      "<ipython-input-13-9b602501049c>:15: DeprecationWarning: The HHL class is deprecated as of Qiskit Terra 0.22.0 and will be removed\n",
      "        no sooner than 3 months after the release date.\n",
      "        It is replaced by the tutorial at https://qiskit.org/textbook/ch-applications/hhl_tutorial.html\"\n",
      "        \n",
      "  naive_hhl_solution = HHL().solve(matrix, vector)\n",
      "<ipython-input-13-9b602501049c>:16: DeprecationWarning: The TridiagonalToeplitz class is deprecated as of Qiskit Terra 0.22.0 and will be removed no sooner than 3 months after the release date. \n",
      "  tridi_matrix = TridiagonalToeplitz(nb, a, b)\n",
      "<ipython-input-13-9b602501049c>:17: DeprecationWarning: The HHL class is deprecated as of Qiskit Terra 0.22.0 and will be removed\n",
      "        no sooner than 3 months after the release date.\n",
      "        It is replaced by the tutorial at https://qiskit.org/textbook/ch-applications/hhl_tutorial.html\"\n",
      "        \n",
      "  tridi_solution = HHL().solve(tridi_matrix, vector)\n"
     ]
    }
   ],
   "source": [
    "from qiskit import transpile\n",
    "\n",
    "num_qubits = list(range(1,5))\n",
    "a = 1\n",
    "b = -1/3\n",
    "\n",
    "i=1\n",
    "# calculate the circuit depths for different number of qubits to compare the use of resources\n",
    "naive_depths = []\n",
    "tridi_depths = []\n",
    "for nb in num_qubits:\n",
    "    matrix = diags([b, a, b], [-1, 0, 1], shape=(2**nb, 2**nb)).toarray()\n",
    "    vector = np.array([1] + [0]*(2**nb -1))\n",
    "    \n",
    "    naive_hhl_solution = HHL().solve(matrix, vector)\n",
    "    tridi_matrix = TridiagonalToeplitz(nb, a, b)\n",
    "    tridi_solution = HHL().solve(tridi_matrix, vector)\n",
    "\n",
    "    naive_qc = transpile(naive_hhl_solution.state,basis_gates=['id', 'rz', 'sx', 'x', 'cx'])\n",
    "    tridi_qc = transpile(tridi_solution.state,basis_gates=['id', 'rz', 'sx', 'x', 'cx'])\n",
    "    \n",
    "    naive_depths.append(naive_qc.depth())\n",
    "    tridi_depths.append(tridi_qc.depth())\n",
    "    i +=1"
   ]
  },
  {
   "cell_type": "code",
   "execution_count": 14,
   "id": "2d9a4cd5",
   "metadata": {},
   "outputs": [
    {
     "name": "stderr",
     "output_type": "stream",
     "text": [
      "<ipython-input-14-46feb822fc60>:11: DeprecationWarning: The TridiagonalToeplitz class is deprecated as of Qiskit Terra 0.22.0 and will be removed no sooner than 3 months after the release date. \n",
      "  tridi_matrix = TridiagonalToeplitz(1, a, b)\n",
      "<ipython-input-14-46feb822fc60>:13: DeprecationWarning: The HHL class is deprecated as of Qiskit Terra 0.22.0 and will be removed\n",
      "        no sooner than 3 months after the release date.\n",
      "        It is replaced by the tutorial at https://qiskit.org/textbook/ch-applications/hhl_tutorial.html\"\n",
      "        \n",
      "  average_solution = HHL().solve(tridi_matrix, vector, AbsoluteAverage())\n",
      "<ipython-input-14-46feb822fc60>:13: DeprecationWarning: The AbsoluteAverage class is deprecated as of Qiskit Terra 0.22.0 and will be removed no sooner than 3 months after the release date. \n",
      "  average_solution = HHL().solve(tridi_matrix, vector, AbsoluteAverage())\n",
      "<ipython-input-14-46feb822fc60>:14: DeprecationWarning: The NumPyLinearSolver class is deprecated as of Qiskit Terra 0.22.0 and will be removed no sooner than 3 months after the release date. \n",
      "  classical_average = NumPyLinearSolver().solve(matrix, vector / np.linalg.norm(vector), AbsoluteAverage())\n",
      "<ipython-input-14-46feb822fc60>:14: DeprecationWarning: The AbsoluteAverage class is deprecated as of Qiskit Terra 0.22.0 and will be removed no sooner than 3 months after the release date. \n",
      "  classical_average = NumPyLinearSolver().solve(matrix, vector / np.linalg.norm(vector), AbsoluteAverage())\n",
      "<ipython-input-14-46feb822fc60>:20: DeprecationWarning: The MatrixFunctional class is deprecated as of Qiskit Terra 0.22.0 and will be removed no sooner than 3 months after the release date. \n",
      "  observable = MatrixFunctional(1, 1 / 2)\n",
      "<ipython-input-14-46feb822fc60>:22: DeprecationWarning: The HHL class is deprecated as of Qiskit Terra 0.22.0 and will be removed\n",
      "        no sooner than 3 months after the release date.\n",
      "        It is replaced by the tutorial at https://qiskit.org/textbook/ch-applications/hhl_tutorial.html\"\n",
      "        \n",
      "  functional_solution = HHL().solve(tridi_matrix, vector, observable)\n"
     ]
    },
    {
     "name": "stdout",
     "output_type": "stream",
     "text": [
      "quantum average: 0.7499999999999976\n",
      "classical average: 0.75\n",
      "quantum circuit results: (0.49999999999999706+0j)\n",
      "quantum functional: 1.8281249999999882\n",
      "classical functional: 1.828125\n",
      "quantum circuit results: [(0.6249999999999963+0j), (0.49999999999999706+0j), (0.12499999999999926+0j)]\n"
     ]
    },
    {
     "name": "stderr",
     "output_type": "stream",
     "text": [
      "<ipython-input-14-46feb822fc60>:23: DeprecationWarning: The NumPyLinearSolver class is deprecated as of Qiskit Terra 0.22.0 and will be removed no sooner than 3 months after the release date. \n",
      "  classical_functional = NumPyLinearSolver().solve(matrix, vector / np.linalg.norm(vector), observable)\n"
     ]
    }
   ],
   "source": [
    "from qiskit.algorithms.linear_solvers.observables import AbsoluteAverage, MatrixFunctional\n",
    "\n",
    "num_qubits = 1\n",
    "matrix_size = 2 ** num_qubits\n",
    "# entries of the tridiagonal Toeplitz symmetric matrix\n",
    "a = 1\n",
    "b = -1/3\n",
    "\n",
    "matrix = diags([b, a, b], [-1, 0, 1], shape=(matrix_size, matrix_size)).toarray()\n",
    "vector = np.array([1] + [0]*(matrix_size - 1))\n",
    "tridi_matrix = TridiagonalToeplitz(1, a, b)\n",
    "\n",
    "average_solution = HHL().solve(tridi_matrix, vector, AbsoluteAverage())\n",
    "classical_average = NumPyLinearSolver().solve(matrix, vector / np.linalg.norm(vector), AbsoluteAverage())\n",
    "\n",
    "print('quantum average:', average_solution.observable)\n",
    "print('classical average:', classical_average.observable)\n",
    "print('quantum circuit results:', average_solution.circuit_results)\n",
    "\n",
    "observable = MatrixFunctional(1, 1 / 2)\n",
    "\n",
    "functional_solution = HHL().solve(tridi_matrix, vector, observable)\n",
    "classical_functional = NumPyLinearSolver().solve(matrix, vector / np.linalg.norm(vector), observable)\n",
    "\n",
    "print('quantum functional:', functional_solution.observable)\n",
    "print('classical functional:', classical_functional.observable)\n",
    "print('quantum circuit results:', functional_solution.circuit_results)"
   ]
  },
  {
   "cell_type": "code",
   "execution_count": 17,
   "id": "eaf14a76",
   "metadata": {},
   "outputs": [
    {
     "name": "stdout",
     "output_type": "stream",
     "text": [
      "     size of the system                    2x2                    4x4                    8x8                  16x16\n",
      " quantum_solution depth                    334                   2577                  33172                 349089\n",
      "   tridi_solution depth                    565                   5107                  14756                  46552\n"
     ]
    }
   ],
   "source": [
    "#sizes = [str(2**nb)+\"x\"+str(2**nb) for nb in num_qubits]\n",
    "columns = ['size of the system', 'quantum_solution depth', 'tridi_solution depth']\n",
    "data = np.array([sizes, naive_depths, tridi_depths])\n",
    "row_format =\"{:>23}\" * (len(columns) + 2)\n",
    "for team, row in zip(columns, data):\n",
    "    print(row_format.format(team, *row))"
   ]
  },
  {
   "cell_type": "code",
   "execution_count": 16,
   "id": "cdf6fccc",
   "metadata": {},
   "outputs": [
    {
     "name": "stdout",
     "output_type": "stream",
     "text": [
      "excess: [-231, -2530, 18416, 302537]\n"
     ]
    }
   ],
   "source": [
    "print('excess:', [naive_depths[i] - tridi_depths[i] for i in range(0, len(naive_depths))])"
   ]
  },
  {
   "cell_type": "code",
   "execution_count": 18,
   "id": "8c960b4f",
   "metadata": {},
   "outputs": [],
   "source": [
    "from qiskit.algorithms.linear_solvers.observables import AbsoluteAverage, MatrixFunctional"
   ]
  },
  {
   "cell_type": "code",
   "execution_count": 19,
   "id": "4ffcf70b",
   "metadata": {},
   "outputs": [
    {
     "name": "stderr",
     "output_type": "stream",
     "text": [
      "<ipython-input-19-c7b9e769f964>:9: DeprecationWarning: The TridiagonalToeplitz class is deprecated as of Qiskit Terra 0.22.0 and will be removed no sooner than 3 months after the release date. \n",
      "  tridi_matrix = TridiagonalToeplitz(1, a, b)\n",
      "<ipython-input-19-c7b9e769f964>:11: DeprecationWarning: The HHL class is deprecated as of Qiskit Terra 0.22.0 and will be removed\n",
      "        no sooner than 3 months after the release date.\n",
      "        It is replaced by the tutorial at https://qiskit.org/textbook/ch-applications/hhl_tutorial.html\"\n",
      "        \n",
      "  average_solution = HHL().solve(tridi_matrix, vector, AbsoluteAverage())\n",
      "<ipython-input-19-c7b9e769f964>:11: DeprecationWarning: The AbsoluteAverage class is deprecated as of Qiskit Terra 0.22.0 and will be removed no sooner than 3 months after the release date. \n",
      "  average_solution = HHL().solve(tridi_matrix, vector, AbsoluteAverage())\n"
     ]
    },
    {
     "name": "stdout",
     "output_type": "stream",
     "text": [
      "quantum average: 0.7499999999999976\n",
      "classical average: 0.75\n",
      "quantum circuit results: (0.49999999999999706+0j)\n"
     ]
    },
    {
     "name": "stderr",
     "output_type": "stream",
     "text": [
      "<ipython-input-19-c7b9e769f964>:12: DeprecationWarning: The NumPyLinearSolver class is deprecated as of Qiskit Terra 0.22.0 and will be removed no sooner than 3 months after the release date. \n",
      "  classical_average = NumPyLinearSolver().solve(matrix, vector / np.linalg.norm(vector), AbsoluteAverage())\n",
      "<ipython-input-19-c7b9e769f964>:12: DeprecationWarning: The AbsoluteAverage class is deprecated as of Qiskit Terra 0.22.0 and will be removed no sooner than 3 months after the release date. \n",
      "  classical_average = NumPyLinearSolver().solve(matrix, vector / np.linalg.norm(vector), AbsoluteAverage())\n"
     ]
    }
   ],
   "source": [
    "num_qubits = 1\n",
    "matrix_size = 2 ** num_qubits\n",
    "# entries of the tridiagonal Toeplitz symmetric matrix\n",
    "a = 1\n",
    "b = -1/3\n",
    "\n",
    "matrix = diags([b, a, b], [-1, 0, 1], shape=(matrix_size, matrix_size)).toarray()\n",
    "vector = np.array([1] + [0]*(matrix_size - 1))\n",
    "tridi_matrix = TridiagonalToeplitz(1, a, b)\n",
    "\n",
    "average_solution = HHL().solve(tridi_matrix, vector, AbsoluteAverage())\n",
    "classical_average = NumPyLinearSolver().solve(matrix, vector / np.linalg.norm(vector), AbsoluteAverage())\n",
    "\n",
    "print('quantum average:', average_solution.observable)\n",
    "print('classical average:', classical_average.observable)\n",
    "print('quantum circuit results:', average_solution.circuit_results)"
   ]
  },
  {
   "cell_type": "code",
   "execution_count": 20,
   "id": "02a30980",
   "metadata": {},
   "outputs": [
    {
     "name": "stderr",
     "output_type": "stream",
     "text": [
      "<ipython-input-20-d5db86e9802b>:1: DeprecationWarning: The MatrixFunctional class is deprecated as of Qiskit Terra 0.22.0 and will be removed no sooner than 3 months after the release date. \n",
      "  observable = MatrixFunctional(1, 1 / 2)\n",
      "<ipython-input-20-d5db86e9802b>:3: DeprecationWarning: The HHL class is deprecated as of Qiskit Terra 0.22.0 and will be removed\n",
      "        no sooner than 3 months after the release date.\n",
      "        It is replaced by the tutorial at https://qiskit.org/textbook/ch-applications/hhl_tutorial.html\"\n",
      "        \n",
      "  functional_solution = HHL().solve(tridi_matrix, vector, observable)\n"
     ]
    },
    {
     "name": "stdout",
     "output_type": "stream",
     "text": [
      "quantum functional: 1.8281249999999882\n",
      "classical functional: 1.828125\n",
      "quantum circuit results: [(0.6249999999999963+0j), (0.49999999999999706+0j), (0.12499999999999926+0j)]\n"
     ]
    },
    {
     "name": "stderr",
     "output_type": "stream",
     "text": [
      "<ipython-input-20-d5db86e9802b>:4: DeprecationWarning: The NumPyLinearSolver class is deprecated as of Qiskit Terra 0.22.0 and will be removed no sooner than 3 months after the release date. \n",
      "  classical_functional = NumPyLinearSolver().solve(matrix, vector / np.linalg.norm(vector), observable)\n"
     ]
    }
   ],
   "source": [
    "observable = MatrixFunctional(1, 1 / 2)\n",
    "\n",
    "functional_solution = HHL().solve(tridi_matrix, vector, observable)\n",
    "classical_functional = NumPyLinearSolver().solve(matrix, vector / np.linalg.norm(vector), observable)\n",
    "\n",
    "print('quantum functional:', functional_solution.observable)\n",
    "print('classical functional:', classical_functional.observable)\n",
    "print('quantum circuit results:', functional_solution.circuit_results)"
   ]
  },
  {
   "cell_type": "code",
   "execution_count": 21,
   "id": "9f51450a",
   "metadata": {},
   "outputs": [
    {
     "name": "stderr",
     "output_type": "stream",
     "text": [
      "<ipython-input-21-f2ff45dfe001>:4: DeprecationWarning: The HHL class is deprecated as of Qiskit Terra 0.22.0 and will be removed\n",
      "        no sooner than 3 months after the release date.\n",
      "        It is replaced by the tutorial at https://qiskit.org/textbook/ch-applications/hhl_tutorial.html\"\n",
      "        \n",
      "  hhl = HHL(1e-3, quantum_instance=backend)\n"
     ]
    },
    {
     "name": "stdout",
     "output_type": "stream",
     "text": [
      "1.1858541225631396\n",
      "1.1858541225631423\n"
     ]
    },
    {
     "name": "stderr",
     "output_type": "stream",
     "text": [
      "<ipython-input-21-f2ff45dfe001>:7: DeprecationWarning: The NumPyLinearSolver class is deprecated as of Qiskit Terra 0.22.0 and will be removed no sooner than 3 months after the release date. \n",
      "  classical_solution = NumPyLinearSolver().solve(matrix, vector / np.linalg.norm(vector))\n"
     ]
    }
   ],
   "source": [
    "from qiskit import Aer\n",
    "\n",
    "backend = Aer.get_backend('aer_simulator')\n",
    "hhl = HHL(1e-3, quantum_instance=backend)\n",
    "\n",
    "accurate_solution = hhl.solve(matrix, vector)\n",
    "classical_solution = NumPyLinearSolver().solve(matrix, vector / np.linalg.norm(vector))\n",
    "\n",
    "print(accurate_solution.euclidean_norm)\n",
    "print(classical_solution.euclidean_norm)"
   ]
  },
  {
   "cell_type": "code",
   "execution_count": 23,
   "id": "7232602f",
   "metadata": {},
   "outputs": [
    {
     "name": "stdout",
     "output_type": "stream",
     "text": [
      "Depth: 26\n",
      "CNOTS: 10\n"
     ]
    },
    {
     "data": {
      "image/png": "[encoded data removed]",
      "text/plain": [
       "<Figure size 1657.52x686.28 with 1 Axes>"
      ]
     },
     "execution_count": 23,
     "metadata": {},
     "output_type": "execute_result"
    }
   ],
   "source": [
    "from qiskit import QuantumRegister, QuantumCircuit\n",
    "import numpy as np\n",
    "\n",
    "t = 2  # This is not optimal; As an exercise, set this to the\n",
    "       # value that will get the best results. See section 8 for solution.\n",
    "\n",
    "nqubits = 4  # Total number of qubits\n",
    "nb = 1  # Number of qubits representing the solution\n",
    "nl = 2  # Number of qubits representing the eigenvalues\n",
    "\n",
    "theta = 0  # Angle defining |b>\n",
    "\n",
    "a = 1  # Matrix diagonal\n",
    "b = -1/3  # Matrix off-diagonal\n",
    "\n",
    "# Initialize the quantum and classical registers\n",
    "qr = QuantumRegister(nqubits)\n",
    "\n",
    "# Create a Quantum Circuit\n",
    "qc = QuantumCircuit(qr)\n",
    "\n",
    "qrb = qr[0:nb]\n",
    "qrl = qr[nb:nb+nl]\n",
    "qra = qr[nb+nl:nb+nl+1]\n",
    "\n",
    "# State preparation. \n",
    "qc.ry(2*theta, qrb[0])\n",
    "    \n",
    "# QPE with e^{iAt}\n",
    "for qu in qrl:\n",
    "    qc.h(qu)\n",
    "\n",
    "qc.p(a*t, qrl[0])\n",
    "qc.p(a*t*2, qrl[1])\n",
    "\n",
    "qc.u(b*t, -np.pi/2, np.pi/2, qrb[0])\n",
    "\n",
    "\n",
    "# Controlled e^{iAt} on \\lambda_{1}:\n",
    "params=b*t\n",
    "\n",
    "qc.p(np.pi/2,qrb[0])\n",
    "qc.cx(qrl[0],qrb[0])\n",
    "qc.ry(params,qrb[0])\n",
    "qc.cx(qrl[0],qrb[0])\n",
    "qc.ry(-params,qrb[0])\n",
    "qc.p(3*np.pi/2,qrb[0])\n",
    "\n",
    "# Controlled e^{2iAt} on \\lambda_{2}:\n",
    "params = b*t*2\n",
    "\n",
    "qc.p(np.pi/2,qrb[0])\n",
    "qc.cx(qrl[1],qrb[0])\n",
    "qc.ry(params,qrb[0])\n",
    "qc.cx(qrl[1],qrb[0])\n",
    "qc.ry(-params,qrb[0])\n",
    "qc.p(3*np.pi/2,qrb[0])\n",
    "\n",
    "# Inverse QFT\n",
    "qc.h(qrl[1])\n",
    "qc.rz(-np.pi/4,qrl[1])\n",
    "qc.cx(qrl[0],qrl[1])\n",
    "qc.rz(np.pi/4,qrl[1])\n",
    "qc.cx(qrl[0],qrl[1])\n",
    "qc.rz(-np.pi/4,qrl[0])\n",
    "qc.h(qrl[0])\n",
    "\n",
    "# Eigenvalue rotation\n",
    "t1=(-np.pi +np.pi/3 - 2*np.arcsin(1/3))/4\n",
    "t2=(-np.pi -np.pi/3 + 2*np.arcsin(1/3))/4\n",
    "t3=(np.pi -np.pi/3 - 2*np.arcsin(1/3))/4\n",
    "t4=(np.pi +np.pi/3 + 2*np.arcsin(1/3))/4\n",
    "\n",
    "qc.cx(qrl[1],qra[0])\n",
    "qc.ry(t1,qra[0])\n",
    "qc.cx(qrl[0],qra[0])\n",
    "qc.ry(t2,qra[0])\n",
    "qc.cx(qrl[1],qra[0])\n",
    "qc.ry(t3,qra[0])\n",
    "qc.cx(qrl[0],qra[0])\n",
    "qc.ry(t4,qra[0])\n",
    "qc.measure_all()\n",
    "\n",
    "print(\"Depth: %i\" % qc.depth())\n",
    "print(\"CNOTS: %i\" % qc.count_ops()['cx'])\n",
    "qc.draw('mpl')"
   ]
  },
  {
   "cell_type": "code",
   "execution_count": 24,
   "id": "7066124b",
   "metadata": {},
   "outputs": [],
   "source": [
    "from qiskit import ClassicalRegister, IBMQ\n",
    "from qiskit.compiler import transpile\n",
    "from qiskit.utils.mitigation import (complete_meas_cal,\n",
    "                                     CompleteMeasFitter)\n",
    "\n",
    "from qiskit.providers.fake_provider import FakeYorktown\n",
    "backend = FakeYorktown()\n",
    "layout = [2,3,0,4]\n",
    "chip_qubits = 5\n",
    "\n",
    "# Transpiled circuit for the real hardware\n",
    "qc_qa_cx = transpile(qc, backend=backend, initial_layout=layout)"
   ]
  },
  {
   "cell_type": "code",
   "execution_count": 25,
   "id": "bc7d7c10",
   "metadata": {},
   "outputs": [],
   "source": [
    "meas_cals, state_labels = complete_meas_cal(qubit_list=layout, qr=QuantumRegister(chip_qubits))\n",
    "qcs = meas_cals + [qc_qa_cx]\n",
    "\n",
    "job = backend.run(qcs, shots=10)"
   ]
  },
  {
   "cell_type": "code",
   "execution_count": null,
   "id": "079eb07c",
   "metadata": {},
   "outputs": [],
   "source": []
  }
 ],
 "metadata": {
  "kernelspec": {
   "display_name": "Python 3",
   "language": "python",
   "name": "python3"
  },
  "language_info": {
   "codemirror_mode": {
    "name": "ipython",
    "version": 3
   },
   "file_extension": ".py",
   "mimetype": "text/x-python",
   "name": "python",
   "nbconvert_exporter": "python",
   "pygments_lexer": "ipython3",
   "version": "3.8.8"
  }
 },
 "nbformat": 4,
 "nbformat_minor": 5
}
