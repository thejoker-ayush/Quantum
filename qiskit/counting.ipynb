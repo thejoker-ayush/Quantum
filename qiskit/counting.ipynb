{
 "cells": [
  {
   "cell_type": "code",
   "execution_count": 1,
   "id": "b624e65f",
   "metadata": {},
   "outputs": [],
   "source": [
    "import matplotlib.pyplot as plt\n",
    "import numpy as np\n",
    "import math\n",
    "\n",
    "# importing Qiskit\n",
    "import qiskit\n",
    "from qiskit import QuantumCircuit, transpile, assemble, Aer\n",
    "\n",
    "# import basic plot tools\n",
    "from qiskit.visualization import plot_histogram"
   ]
  },
  {
   "cell_type": "code",
   "execution_count": 2,
   "id": "953f2588",
   "metadata": {},
   "outputs": [],
   "source": [
    "def example_grover_iteration():\n",
    "    \"\"\"Small circuit with 5/16 solutions\"\"\"\n",
    "    # Do circuit\n",
    "    qc = QuantumCircuit(4)\n",
    "    # Oracle\n",
    "    qc.h([2,3])\n",
    "    qc.ccx(0,1,2)\n",
    "    qc.h(2)\n",
    "    qc.x(2)\n",
    "    qc.ccx(0,2,3)\n",
    "    qc.x(2)\n",
    "    qc.h(3)\n",
    "    qc.x([1,3])\n",
    "    qc.h(2)\n",
    "    qc.mct([0,1,3],2)\n",
    "    qc.x([1,3])\n",
    "    qc.h(2)\n",
    "    # Diffuser\n",
    "    qc.h(range(3))\n",
    "    qc.x(range(3))\n",
    "    qc.z(3)\n",
    "    qc.mct([0,1,2],3)\n",
    "    qc.x(range(3))\n",
    "    qc.h(range(3))\n",
    "    qc.z(3)\n",
    "    return qc"
   ]
  },
  {
   "cell_type": "code",
   "execution_count": 3,
   "id": "d6b11fd8",
   "metadata": {},
   "outputs": [],
   "source": [
    "# Create controlled-Grover\n",
    "grit = example_grover_iteration().to_gate()\n",
    "grit.label = \"Grover\"\n",
    "cgrit = grit.control()"
   ]
  },
  {
   "cell_type": "code",
   "execution_count": 4,
   "id": "be8ca7d6",
   "metadata": {},
   "outputs": [],
   "source": [
    "def qft(n):\n",
    "    \"\"\"Creates an n-qubit QFT circuit\"\"\"\n",
    "    circuit = QuantumCircuit(4)\n",
    "    def swap_registers(circuit, n):\n",
    "        for qubit in range(n//2):\n",
    "            circuit.swap(qubit, n-qubit-1)\n",
    "        return circuit\n",
    "    def qft_rotations(circuit, n):\n",
    "        \"\"\"Performs qft on the first n qubits in circuit (without swaps)\"\"\"\n",
    "        if n == 0:\n",
    "            return circuit\n",
    "        n -= 1\n",
    "        circuit.h(n)\n",
    "        for qubit in range(n):\n",
    "            circuit.cp(np.pi/2**(n-qubit), qubit, n)\n",
    "        qft_rotations(circuit, n)\n",
    "    \n",
    "    qft_rotations(circuit, n)\n",
    "    swap_registers(circuit, n)\n",
    "    return circuit"
   ]
  },
  {
   "cell_type": "code",
   "execution_count": 5,
   "id": "4d82e6e8",
   "metadata": {},
   "outputs": [],
   "source": [
    "qft_dagger = qft(4).to_gate().inverse()\n",
    "qft_dagger.label = \"QFT†\""
   ]
  },
  {
   "cell_type": "code",
   "execution_count": 6,
   "id": "202216db",
   "metadata": {},
   "outputs": [
    {
     "data": {
      "text/html": [
       "<pre style=\"word-wrap: normal;white-space: pre;background: #fff0;line-height: 1.1;font-family: &quot;Courier New&quot;,Courier,monospace\">     ┌───┐                                                                  »\n",
       "q_0: ┤ H ├─────■────────────────────────────────────────────────────────────»\n",
       "     ├───┤     │                                                            »\n",
       "q_1: ┤ H ├─────┼──────────■──────────■──────────────────────────────────────»\n",
       "     ├───┤     │          │          │                                      »\n",
       "q_2: ┤ H ├─────┼──────────┼──────────┼──────────■──────────■──────────■─────»\n",
       "     ├───┤     │          │          │          │          │          │     »\n",
       "q_3: ┤ H ├─────┼──────────┼──────────┼──────────┼──────────┼──────────┼─────»\n",
       "     ├───┤┌────┴────┐┌────┴────┐┌────┴────┐┌────┴────┐┌────┴────┐┌────┴────┐»\n",
       "q_4: ┤ H ├┤0        ├┤0        ├┤0        ├┤0        ├┤0        ├┤0        ├»\n",
       "     ├───┤│         ││         ││         ││         ││         ││         │»\n",
       "q_5: ┤ H ├┤1        ├┤1        ├┤1        ├┤1        ├┤1        ├┤1        ├»\n",
       "     ├───┤│  Grover ││  Grover ││  Grover ││  Grover ││  Grover ││  Grover │»\n",
       "q_6: ┤ H ├┤2        ├┤2        ├┤2        ├┤2        ├┤2        ├┤2        ├»\n",
       "     ├───┤│         ││         ││         ││         ││         ││         │»\n",
       "q_7: ┤ H ├┤3        ├┤3        ├┤3        ├┤3        ├┤3        ├┤3        ├»\n",
       "     └───┘└─────────┘└─────────┘└─────────┘└─────────┘└─────────┘└─────────┘»\n",
       "c: 4/═══════════════════════════════════════════════════════════════════════»\n",
       "                                                                            »\n",
       "«                                                                       »\n",
       "«q_0: ──────────────────────────────────────────────────────────────────»\n",
       "«                                                                       »\n",
       "«q_1: ──────────────────────────────────────────────────────────────────»\n",
       "«                                                                       »\n",
       "«q_2: ─────■────────────────────────────────────────────────────────────»\n",
       "«          │                                                            »\n",
       "«q_3: ─────┼──────────■──────────■──────────■──────────■──────────■─────»\n",
       "«     ┌────┴────┐┌────┴────┐┌────┴────┐┌────┴────┐┌────┴────┐┌────┴────┐»\n",
       "«q_4: ┤0        ├┤0        ├┤0        ├┤0        ├┤0        ├┤0        ├»\n",
       "«     │         ││         ││         ││         ││         ││         │»\n",
       "«q_5: ┤1        ├┤1        ├┤1        ├┤1        ├┤1        ├┤1        ├»\n",
       "«     │  Grover ││  Grover ││  Grover ││  Grover ││  Grover ││  Grover │»\n",
       "«q_6: ┤2        ├┤2        ├┤2        ├┤2        ├┤2        ├┤2        ├»\n",
       "«     │         ││         ││         ││         ││         ││         │»\n",
       "«q_7: ┤3        ├┤3        ├┤3        ├┤3        ├┤3        ├┤3        ├»\n",
       "«     └─────────┘└─────────┘└─────────┘└─────────┘└─────────┘└─────────┘»\n",
       "«c: 4/══════════════════════════════════════════════════════════════════»\n",
       "«                                                                       »\n",
       "«                                      ┌───────┐┌─┐         \n",
       "«q_0: ─────────────────────────────────┤0      ├┤M├─────────\n",
       "«                                      │       │└╥┘┌─┐      \n",
       "«q_1: ─────────────────────────────────┤1      ├─╫─┤M├──────\n",
       "«                                      │  QFT† │ ║ └╥┘┌─┐   \n",
       "«q_2: ─────────────────────────────────┤2      ├─╫──╫─┤M├───\n",
       "«                                      │       │ ║  ║ └╥┘┌─┐\n",
       "«q_3: ─────■──────────■──────────■─────┤3      ├─╫──╫──╫─┤M├\n",
       "«     ┌────┴────┐┌────┴────┐┌────┴────┐└───────┘ ║  ║  ║ └╥┘\n",
       "«q_4: ┤0        ├┤0        ├┤0        ├──────────╫──╫──╫──╫─\n",
       "«     │         ││         ││         │          ║  ║  ║  ║ \n",
       "«q_5: ┤1        ├┤1        ├┤1        ├──────────╫──╫──╫──╫─\n",
       "«     │  Grover ││  Grover ││  Grover │          ║  ║  ║  ║ \n",
       "«q_6: ┤2        ├┤2        ├┤2        ├──────────╫──╫──╫──╫─\n",
       "«     │         ││         ││         │          ║  ║  ║  ║ \n",
       "«q_7: ┤3        ├┤3        ├┤3        ├──────────╫──╫──╫──╫─\n",
       "«     └─────────┘└─────────┘└─────────┘          ║  ║  ║  ║ \n",
       "«c: 4/═══════════════════════════════════════════╩══╩══╩══╩═\n",
       "«                                                0  1  2  3 </pre>"
      ],
      "text/plain": [
       "     ┌───┐                                                                  »\n",
       "q_0: ┤ H ├─────■────────────────────────────────────────────────────────────»\n",
       "     ├───┤     │                                                            »\n",
       "q_1: ┤ H ├─────┼──────────■──────────■──────────────────────────────────────»\n",
       "     ├───┤     │          │          │                                      »\n",
       "q_2: ┤ H ├─────┼──────────┼──────────┼──────────■──────────■──────────■─────»\n",
       "     ├───┤     │          │          │          │          │          │     »\n",
       "q_3: ┤ H ├─────┼──────────┼──────────┼──────────┼──────────┼──────────┼─────»\n",
       "     ├───┤┌────┴────┐┌────┴────┐┌────┴────┐┌────┴────┐┌────┴────┐┌────┴────┐»\n",
       "q_4: ┤ H ├┤0        ├┤0        ├┤0        ├┤0        ├┤0        ├┤0        ├»\n",
       "     ├───┤│         ││         ││         ││         ││         ││         │»\n",
       "q_5: ┤ H ├┤1        ├┤1        ├┤1        ├┤1        ├┤1        ├┤1        ├»\n",
       "     ├───┤│  Grover ││  Grover ││  Grover ││  Grover ││  Grover ││  Grover │»\n",
       "q_6: ┤ H ├┤2        ├┤2        ├┤2        ├┤2        ├┤2        ├┤2        ├»\n",
       "     ├───┤│         ││         ││         ││         ││         ││         │»\n",
       "q_7: ┤ H ├┤3        ├┤3        ├┤3        ├┤3        ├┤3        ├┤3        ├»\n",
       "     └───┘└─────────┘└─────────┘└─────────┘└─────────┘└─────────┘└─────────┘»\n",
       "c: 4/═══════════════════════════════════════════════════════════════════════»\n",
       "                                                                            »\n",
       "«                                                                       »\n",
       "«q_0: ──────────────────────────────────────────────────────────────────»\n",
       "«                                                                       »\n",
       "«q_1: ──────────────────────────────────────────────────────────────────»\n",
       "«                                                                       »\n",
       "«q_2: ─────■────────────────────────────────────────────────────────────»\n",
       "«          │                                                            »\n",
       "«q_3: ─────┼──────────■──────────■──────────■──────────■──────────■─────»\n",
       "«     ┌────┴────┐┌────┴────┐┌────┴────┐┌────┴────┐┌────┴────┐┌────┴────┐»\n",
       "«q_4: ┤0        ├┤0        ├┤0        ├┤0        ├┤0        ├┤0        ├»\n",
       "«     │         ││         ││         ││         ││         ││         │»\n",
       "«q_5: ┤1        ├┤1        ├┤1        ├┤1        ├┤1        ├┤1        ├»\n",
       "«     │  Grover ││  Grover ││  Grover ││  Grover ││  Grover ││  Grover │»\n",
       "«q_6: ┤2        ├┤2        ├┤2        ├┤2        ├┤2        ├┤2        ├»\n",
       "«     │         ││         ││         ││         ││         ││         │»\n",
       "«q_7: ┤3        ├┤3        ├┤3        ├┤3        ├┤3        ├┤3        ├»\n",
       "«     └─────────┘└─────────┘└─────────┘└─────────┘└─────────┘└─────────┘»\n",
       "«c: 4/══════════════════════════════════════════════════════════════════»\n",
       "«                                                                       »\n",
       "«                                      ┌───────┐┌─┐         \n",
       "«q_0: ─────────────────────────────────┤0      ├┤M├─────────\n",
       "«                                      │       │└╥┘┌─┐      \n",
       "«q_1: ─────────────────────────────────┤1      ├─╫─┤M├──────\n",
       "«                                      │  QFT† │ ║ └╥┘┌─┐   \n",
       "«q_2: ─────────────────────────────────┤2      ├─╫──╫─┤M├───\n",
       "«                                      │       │ ║  ║ └╥┘┌─┐\n",
       "«q_3: ─────■──────────■──────────■─────┤3      ├─╫──╫──╫─┤M├\n",
       "«     ┌────┴────┐┌────┴────┐┌────┴────┐└───────┘ ║  ║  ║ └╥┘\n",
       "«q_4: ┤0        ├┤0        ├┤0        ├──────────╫──╫──╫──╫─\n",
       "«     │         ││         ││         │          ║  ║  ║  ║ \n",
       "«q_5: ┤1        ├┤1        ├┤1        ├──────────╫──╫──╫──╫─\n",
       "«     │  Grover ││  Grover ││  Grover │          ║  ║  ║  ║ \n",
       "«q_6: ┤2        ├┤2        ├┤2        ├──────────╫──╫──╫──╫─\n",
       "«     │         ││         ││         │          ║  ║  ║  ║ \n",
       "«q_7: ┤3        ├┤3        ├┤3        ├──────────╫──╫──╫──╫─\n",
       "«     └─────────┘└─────────┘└─────────┘          ║  ║  ║  ║ \n",
       "«c: 4/═══════════════════════════════════════════╩══╩══╩══╩═\n",
       "«                                                0  1  2  3 "
      ]
     },
     "execution_count": 6,
     "metadata": {},
     "output_type": "execute_result"
    }
   ],
   "source": [
    "# Create QuantumCircuit\n",
    "t = 4   # no. of counting qubits\n",
    "n = 4   # no. of searching qubits\n",
    "qc = QuantumCircuit(n+t, t) # Circuit with n+t qubits and t classical bits\n",
    "\n",
    "# Initialize all qubits to |+>\n",
    "for qubit in range(t+n):\n",
    "    qc.h(qubit)\n",
    "\n",
    "# Begin controlled Grover iterations\n",
    "iterations = 1\n",
    "for qubit in range(t):\n",
    "    for i in range(iterations):\n",
    "        qc.append(cgrit, [qubit] + [*range(t, n+t)])\n",
    "    iterations *= 2\n",
    "    \n",
    "# Do inverse QFT on counting qubits\n",
    "qc.append(qft_dagger, range(t))\n",
    "\n",
    "# Measure counting qubits\n",
    "qc.measure(range(t), range(t))\n",
    "\n",
    "# Display the circuit\n",
    "qc.draw()"
   ]
  },
  {
   "cell_type": "code",
   "execution_count": 7,
   "id": "d8139383",
   "metadata": {},
   "outputs": [
    {
     "data": {
      "image/png": "[encoded data removed]",
      "text/plain": [
       "<Figure size 504x360 with 1 Axes>"
      ]
     },
     "execution_count": 7,
     "metadata": {},
     "output_type": "execute_result"
    }
   ],
   "source": [
    "# Execute and see results\n",
    "aer_sim = Aer.get_backend('aer_simulator')\n",
    "transpiled_qc = transpile(qc, aer_sim)\n",
    "qobj = assemble(transpiled_qc)\n",
    "job = aer_sim.run(qobj)\n",
    "hist = job.result().get_counts()\n",
    "plot_histogram(hist)"
   ]
  },
  {
   "cell_type": "code",
   "execution_count": 8,
   "id": "99b8fbfa",
   "metadata": {},
   "outputs": [],
   "source": [
    "measured_str = max(hist, key=hist.get)"
   ]
  },
  {
   "cell_type": "code",
   "execution_count": 9,
   "id": "5ffebe71",
   "metadata": {},
   "outputs": [
    {
     "name": "stdout",
     "output_type": "stream",
     "text": [
      "Register Output = 11\n"
     ]
    }
   ],
   "source": [
    "measured_int = int(measured_str,2)\n",
    "print(\"Register Output = %i\" % measured_int)"
   ]
  },
  {
   "cell_type": "code",
   "execution_count": 10,
   "id": "339e92eb",
   "metadata": {},
   "outputs": [
    {
     "name": "stdout",
     "output_type": "stream",
     "text": [
      "Theta = 4.31969\n"
     ]
    }
   ],
   "source": [
    "theta = (measured_int/(2**t))*math.pi*2\n",
    "print(\"Theta = %.5f\" % theta)"
   ]
  },
  {
   "cell_type": "code",
   "execution_count": 11,
   "id": "27573c54",
   "metadata": {},
   "outputs": [
    {
     "name": "stdout",
     "output_type": "stream",
     "text": [
      "No. of Solutions = 4.9\n"
     ]
    }
   ],
   "source": [
    "N = 2**n\n",
    "M = N * (math.sin(theta/2)**2)\n",
    "print(\"No. of Solutions = %.1f\" % (N-M))"
   ]
  },
  {
   "cell_type": "code",
   "execution_count": 12,
   "id": "65328750",
   "metadata": {},
   "outputs": [
    {
     "name": "stdout",
     "output_type": "stream",
     "text": [
      "Error < 2.48\n"
     ]
    }
   ],
   "source": [
    "m = t - 1 # Upper bound: Will be less than this \n",
    "err = (math.sqrt(2*M*N) + N/(2**(m+1)))*(2**(-m))\n",
    "print(\"Error < %.2f\" % err)"
   ]
  },
  {
   "cell_type": "code",
   "execution_count": null,
   "id": "3cc6e043",
   "metadata": {},
   "outputs": [],
   "source": []
  }
 ],
 "metadata": {
  "kernelspec": {
   "display_name": "Python 3",
   "language": "python",
   "name": "python3"
  },
  "language_info": {
   "codemirror_mode": {
    "name": "ipython",
    "version": 3
   },
   "file_extension": ".py",
   "mimetype": "text/x-python",
   "name": "python",
   "nbconvert_exporter": "python",
   "pygments_lexer": "ipython3",
   "version": "3.8.8"
  }
 },
 "nbformat": 4,
 "nbformat_minor": 5
}
