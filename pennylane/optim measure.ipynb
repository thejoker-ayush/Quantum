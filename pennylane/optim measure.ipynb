{
 "cells": [
  {
   "cell_type": "code",
   "execution_count": null,
   "id": "dcbf216d-2232-4af8-a843-f064a05d4fbc",
   "metadata": {},
   "outputs": [],
   "source": []
  },
  {
   "cell_type": "code",
   "execution_count": 1,
   "id": "236820c1-0993-477d-ac13-b31db9ab598d",
   "metadata": {},
   "outputs": [],
   "source": [
    "def check_simplification(op1, op2):\n",
    "    \"\"\"As we have seen in the problem statement, given two Pauli operators, you could obtain the expected value\n",
    "    of each of them by running a single circuit following the two defined rules. This function will determine whether,\n",
    "    given two Pauli operators, such a simplification can be produced.\n",
    "\n",
    "    Args:\n",
    "        - op1 (list(str)): First Pauli word (list of Pauli operators), e.g., [\"Y\", \"I\", \"Z\", \"I\"].\n",
    "        - op2 (list(str)): Second Pauli word (list of Pauli operators), e.g., [\"Y\", \"I\", \"X\", \"I\"].\n",
    "\n",
    "    Returns:\n",
    "        - (bool): 'True' if we can simplify them, 'False' otherwise. For the example args above, the third qubit does not allow simplification, so the function would return `False`.\n",
    "    \"\"\"\n",
    "\n",
    "    # QHACK\n",
    "    for i in range(len(op1)):\n",
    "        # If one of the operators is I, we can simplify that operation\n",
    "        # If the two operators are the same, we can also simplify\n",
    "        # We can only not simplify when the two operators are different to each other and none of them is I\n",
    "        if op1[i] != \"I\" and op2[i] != \"I\":\n",
    "            if op1[i] != op2[i]:\n",
    "                return False\n",
    "    # QHACK\n",
    "    return True"
   ]
  },
  {
   "cell_type": "code",
   "execution_count": 2,
   "id": "17c241b9-c2c3-424a-bc19-e2b9e7fb38cb",
   "metadata": {},
   "outputs": [],
   "source": [
    "def join_operators(op1, op2):\n",
    "    \"\"\"This function will receive two operators that we know can be simplified\n",
    "    and returns the operator corresponding to the union of the two previous ones.\n",
    "\n",
    "    Args:\n",
    "        - op1 (list(str)): First Pauli word (list of Pauli operators), e.g., [\"Y\", \"I\", \"Z\", \"I\"].\n",
    "        - op2 (list(str)): Second Pauli word (list of Pauli operators), e.g., [\"Y\", \"I\", \"X\", \"I\"].\n",
    "\n",
    "    Returns:\n",
    "        - (list(str)): Pauli operator corresponding to the union of op1 and op2.\n",
    "        For the case above the output would be [\"Y\", \"X\", \"Z\", \"I\"]\n",
    "    \"\"\"\n",
    "\n",
    "    # QHACK\n",
    "    output = []\n",
    "    for i in range(len(op1)):\n",
    "        # Since we know that the operators can be simplified we only need to worry about adapting the Is\n",
    "        # The solution is simple, whenever the ith operator of word 1 is I, we will choose th other 1 as rule 1 suggests\n",
    "        if op1[i] == \"I\":\n",
    "            output.append(op2[i])\n",
    "        else:\n",
    "            output.append(op1[i])\n",
    "    # QHACK\n",
    "    return output"
   ]
  },
  {
   "cell_type": "code",
   "execution_count": 3,
   "id": "b22adcae-b12b-44c0-81ea-d94b2ebc87c7",
   "metadata": {},
   "outputs": [],
   "source": [
    "def compression_ratio(obs_hamiltonian, final_solution):\n",
    "    \"\"\"Function that calculates the compression ratio of the procedure.\n",
    "\n",
    "    Args:\n",
    "        - obs_hamiltonian (list(list(str))): Groups of Pauli operators making up the Hamiltonian.\n",
    "        - final_solution (list(list(str))): Your final selection of observables.\n",
    "\n",
    "    Returns:\n",
    "        - (float): Compression ratio your solution.\n",
    "    \"\"\"\n",
    "\n",
    "    # QHACK\n",
    "    # Simply apply the given formula\n",
    "    return 1 - len(final_solution) / len(obs_hamiltonian)\n",
    "    # QHACK"
   ]
  },
  {
   "cell_type": "code",
   "execution_count": 4,
   "id": "00f32941-a709-4e4a-b843-1b80306f143b",
   "metadata": {},
   "outputs": [],
   "source": [
    "def optimize_measurements(obs_hamiltonian):\n",
    "    \"\"\"This function will go through the list of Pauli words provided in the statement, grouping the operators\n",
    "    following the simplification process of the previous functions.\n",
    "\n",
    "    Args:\n",
    "        - obs_hamiltonian (list(list(str))): Groups of Pauli words making up the Hamiltonian.\n",
    "\n",
    "    Returns:\n",
    "        - (list(list(str))): The chosen Pauli operators to measure after grouping.\n",
    "    \"\"\"\n",
    "\n",
    "    final_solution = []\n",
    "\n",
    "    for op1 in obs_hamiltonian:\n",
    "        added = False\n",
    "        for i, op2 in enumerate(final_solution):\n",
    "\n",
    "            if check_simplification(op1, op2):\n",
    "                final_solution[i] = join_operators(op1, op2)\n",
    "                added = True\n",
    "                break\n",
    "        if not added:\n",
    "            final_solution.append(op1)\n",
    "\n",
    "    return final_solution"
   ]
  },
  {
   "cell_type": "code",
   "execution_count": 5,
   "id": "217ef90e-d339-4c02-8d20-b64f130e3366",
   "metadata": {},
   "outputs": [
    {
     "name": "stdout",
     "output_type": "stream",
     "text": [
      "Compression ratio: 0.5\n"
     ]
    }
   ],
   "source": [
    "inputs = \"4,Z,I,I,I,Z,Y,I,I,X,I,X,Y,I,Z,I,I\".split(\",\")\n",
    "obs_hamiltonian = []\n",
    "aux = []\n",
    "for i, line in enumerate(inputs):\n",
    "    if i == 0:\n",
    "        first = int(line)\n",
    "    else:\n",
    "        aux.append(line[0])\n",
    "        if i % first == 0:\n",
    "            obs_hamiltonian.append(aux)\n",
    "            aux = []\n",
    "\n",
    "output = optimize_measurements(obs_hamiltonian)\n",
    "print(\"Compression ratio:\", compression_ratio(obs_hamiltonian, output))"
   ]
  },
  {
   "cell_type": "code",
   "execution_count": 6,
   "id": "2b61a304-504c-4ab1-b812-9f310eede0c5",
   "metadata": {},
   "outputs": [
    {
     "name": "stdout",
     "output_type": "stream",
     "text": [
      "Compression ratio: 0.25\n"
     ]
    }
   ],
   "source": [
    "inputs = \"4,Z,X,I,I,Z,Y,I,I,X,I,X,Y,I,Z,I,I\".split(\",\")\n",
    "obs_hamiltonian = []\n",
    "aux = []\n",
    "for i, line in enumerate(inputs):\n",
    "    if i == 0:\n",
    "        first = int(line)\n",
    "    else:\n",
    "        aux.append(line[0])\n",
    "        if i % first == 0:\n",
    "            obs_hamiltonian.append(aux)\n",
    "            aux = []\n",
    "\n",
    "output = optimize_measurements(obs_hamiltonian)\n",
    "print(\"Compression ratio:\", compression_ratio(obs_hamiltonian, output))"
   ]
  },
  {
   "cell_type": "code",
   "execution_count": null,
   "id": "18e30a27-2d46-44e2-8971-3f77bd0d51b7",
   "metadata": {},
   "outputs": [],
   "source": []
  }
 ],
 "metadata": {
  "kernelspec": {
   "display_name": "PennyLane",
   "language": "python",
   "name": "pennylane"
  },
  "language_info": {
   "codemirror_mode": {
    "name": "ipython",
    "version": 3
   },
   "file_extension": ".py",
   "mimetype": "text/x-python",
   "name": "python",
   "nbconvert_exporter": "python",
   "pygments_lexer": "ipython3",
   "version": "3.9.15"
  }
 },
 "nbformat": 4,
 "nbformat_minor": 5
}
