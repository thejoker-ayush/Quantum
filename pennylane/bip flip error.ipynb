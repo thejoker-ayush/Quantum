{
 "cells": [
  {
   "cell_type": "code",
   "execution_count": 1,
   "id": "6ebb21f2-ba89-4f2e-90a2-4437311f9966",
   "metadata": {},
   "outputs": [],
   "source": [
    "import pennylane as qml\n",
    "from pennylane import numpy as np"
   ]
  },
  {
   "cell_type": "code",
   "execution_count": 2,
   "id": "86c94740-90f2-466b-acc6-970c4674ef4c",
   "metadata": {},
   "outputs": [],
   "source": [
    "def density_matrix(alpha):\n",
    "    \"\"\"Creates a density matrix from a pure state.\"\"\"\n",
    "    # DO NOT MODIFY anything in this code block\n",
    "    psi = alpha * np.array([1, 0], dtype=float) + np.sqrt(1 - alpha**2) * np.array(\n",
    "        [0, 1], dtype=float\n",
    "    )\n",
    "    psi = np.kron(psi, np.array([1, 0, 0, 0], dtype=float))\n",
    "    return np.outer(psi, np.conj(psi))"
   ]
  },
  {
   "cell_type": "code",
   "execution_count": 3,
   "id": "476b9274-e5c5-4386-acbe-26e219722d3b",
   "metadata": {},
   "outputs": [],
   "source": [
    "dev = qml.device(\"default.mixed\", wires=3)\n",
    "\n",
    "\n",
    "@qml.qnode(dev)\n",
    "def circuit(p, alpha, tampered_wire):\n",
    "    \"\"\"A quantum circuit that will be able to identify bitflip errors.\n",
    "\n",
    "    DO NOT MODIFY any already-written lines in this function.\n",
    "\n",
    "    Args:\n",
    "        p (float): The bit flip probability\n",
    "        alpha (float): The parameter used to calculate `density_matrix(alpha)`\n",
    "        tampered_wire (int): The wire that may or may not be flipped (zero-index)\n",
    "\n",
    "    Returns:\n",
    "        Some expectation value, state, probs, ... you decide!\n",
    "    \"\"\"\n",
    "\n",
    "    qml.QubitDensityMatrix(density_matrix(alpha), wires=[0, 1, 2])\n",
    "\n",
    "    # QHACK #\n",
    "    # Preprocessing\n",
    "    others = [i for i in [0, 1, 2] if i != tampered_wire]\n",
    "    qml.CNOT(wires=[tampered_wire, others[0]])\n",
    "    qml.CNOT(wires=[tampered_wire, others[1]])\n",
    "    # QHACK #\n",
    "\n",
    "    qml.BitFlip(p, wires=int(tampered_wire))\n",
    "\n",
    "    # QHACK #  \n",
    "    # Post-processing\n",
    "    qml.CNOT(wires=[tampered_wire, others[0]])\n",
    "    qml.CNOT(wires=[tampered_wire, others[1]])\n",
    "    qml.Toffoli(wires=[others[0], others[1], tampered_wire])\n",
    "    return qml.state()\n",
    "\n",
    "def error_wire(circuit_output):\n",
    "    \"\"\"Function that returns an error readout.\n",
    "\n",
    "    Args:\n",
    "        - circuit_output (?): the output of the `circuit` function.\n",
    "\n",
    "    Returns:\n",
    "        - (np.ndarray): a length-4 array that reveals the statistics of the\n",
    "        error channel. It should display your algorithm's statistical prediction for\n",
    "        whether an error occurred on wire `k` (k in {1,2,3}). The zeroth element represents\n",
    "        the probability that a bitflip error does not occur.\n",
    "\n",
    "        e.g., [0.28, 0.0, 0.72, 0.0] means a 28% chance no bitflip error occurs, but if one\n",
    "        does occur it occurs on qubit #2 with a 72% chance.\n",
    "    \"\"\"\n",
    "\n",
    "    # QHACK #\n",
    "    probs = abs(np.array([circuit_output[i][i] for i in range(0, len(circuit_output))]))\n",
    "    p_, p0, p1, p2 = 0, 0, 0, 0\n",
    "    p_ = probs[0] + probs[4]\n",
    "    if probs[7] != 0:\n",
    "        p0 = probs[7] + probs[3]\n",
    "    if probs[5] != 0:\n",
    "        p1 = probs[5] + probs[3]\n",
    "    if probs[6] != 0:\n",
    "        p2 = probs[6] + probs[3]\n",
    "\n",
    "    # QHACK #\n",
    "    return [p_, p0, p1, p2]"
   ]
  },
  {
   "cell_type": "code",
   "execution_count": 5,
   "id": "a2be0c01-2fcf-40a5-be03-aa5773615f1d",
   "metadata": {},
   "outputs": [
    {
     "name": "stdout",
     "output_type": "stream",
     "text": [
      "Probability of error not happening -> Predicted: 98.03% vs Expected: 98.03%\n",
      "Probability of error happening on wire 0: 0% vs Expected: 0%\n",
      "Probability of error happening on wire 1: 1.97% vs Expected: 1.97%\n",
      "Probability of error happening on wire 2: 0% vs Expected: 0%\n"
     ]
    }
   ],
   "source": [
    "prob = np.random.rand()\n",
    "alpha = np.random.rand()\n",
    "idx = np.random.randint(0, 3)\n",
    "inputs = np.array([prob, alpha, idx], dtype=float)\n",
    "p, alpha, tampered_wire = inputs[0], inputs[1], int(inputs[2])\n",
    "\n",
    "error_readout = np.zeros(4, dtype=float)\n",
    "circuit_output = circuit(p, alpha, tampered_wire)\n",
    "error_readout = error_wire(circuit_output)\n",
    "print(f\"Probability of error not happening -> Predicted: {np.round(error_readout[0]*100, 2)}% vs Expected: {np.round((1 - inputs[0])*100,2)}%\")\n",
    "for i in range(0, 3):\n",
    "    if inputs[-1] == i:\n",
    "        prob = np.round(inputs[0]*100, 2)\n",
    "    else:\n",
    "        prob = 0\n",
    "    print(f\"Probability of error happening on wire {i}: {np.round(error_readout[i+1]*100, 2)}% vs Expected: {prob}%\")"
   ]
  },
  {
   "cell_type": "code",
   "execution_count": 7,
   "id": "53868ed8-99e7-4176-b2ec-7f2bcd26987a",
   "metadata": {},
   "outputs": [
    {
     "name": "stdout",
     "output_type": "stream",
     "text": [
      "Tampering wire 0\n",
      "Expected output = [0.0722, 0.9278, 0, 0]\n",
      " Values for eachs tate\n",
      "  State|000> --> 0.0288\n",
      "  State|001> --> 0.0\n",
      "  State|010> --> 0.0\n",
      "  State|011> --> 0.3705\n",
      "  State|100> --> 0.0434\n",
      "  State|101> --> 0.0\n",
      "  State|110> --> 0.0\n",
      "  State|111> --> 0.5572\n",
      "Tampering wire 1\n",
      "Expected output = [0.0722, 0, 0.9278, 0]\n",
      " Values for eachs tate\n",
      "  State|000> --> 0.0288\n",
      "  State|001> --> 0.0\n",
      "  State|010> --> 0.0\n",
      "  State|011> --> 0.5572\n",
      "  State|100> --> 0.0434\n",
      "  State|101> --> 0.3705\n",
      "  State|110> --> 0.0\n",
      "  State|111> --> 0.0\n",
      "Tampering wire 2\n",
      "Expected output = [0.0722, 0, 0, 0.9278]\n",
      " Values for eachs tate\n",
      "  State|000> --> 0.0288\n",
      "  State|001> --> 0.0\n",
      "  State|010> --> 0.0\n",
      "  State|011> --> 0.5572\n",
      "  State|100> --> 0.0434\n",
      "  State|101> --> 0.0\n",
      "  State|110> --> 0.3705\n",
      "  State|111> --> 0.0\n"
     ]
    }
   ],
   "source": [
    "prob = np.random.rand()\n",
    "alpha = np.random.rand()\n",
    "for idx in [0, 1, 2]:\n",
    "    inputs = np.array([prob, alpha, idx], dtype=float)\n",
    "    p, alpha, tampered_wire = inputs[0], inputs[1], int(inputs[2])\n",
    "    circuit_output = circuit(p, alpha, tampered_wire)\n",
    "    diag = np.array([np.round(circuit_output[i][i].real, 4) for i in range(0, len(circuit_output))])\n",
    "    diag = diag.reshape(2, 2, 2)\n",
    "    print(f\"Tampering wire {idx}\")\n",
    "    expected_output = [np.round((1 - inputs[0]), 4), 0, 0, 0]\n",
    "    expected_output[idx+1] = np.round(inputs[0], 4)\n",
    "    print(f\"Expected output = {expected_output}\")\n",
    "    print(\" Values for eachs tate\")\n",
    "    for i in [0, 1]:\n",
    "        for j in [0, 1]:\n",
    "            for k in [0, 1]:\n",
    "                out = diag[i][j][k]\n",
    "                print(f\"  State|{i}{j}{k}> --> {out}\")"
   ]
  },
  {
   "cell_type": "code",
   "execution_count": null,
   "id": "b539c6c9-48de-483e-8184-7271ebc9a930",
   "metadata": {},
   "outputs": [],
   "source": []
  }
 ],
 "metadata": {
  "kernelspec": {
   "display_name": "PennyLane",
   "language": "python",
   "name": "pennylane"
  },
  "language_info": {
   "codemirror_mode": {
    "name": "ipython",
    "version": 3
   },
   "file_extension": ".py",
   "mimetype": "text/x-python",
   "name": "python",
   "nbconvert_exporter": "python",
   "pygments_lexer": "ipython3",
   "version": "3.9.15"
  }
 },
 "nbformat": 4,
 "nbformat_minor": 5
}
