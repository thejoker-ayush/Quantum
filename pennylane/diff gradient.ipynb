{
 "cells": [
  {
   "cell_type": "code",
   "execution_count": 1,
   "id": "4a5554e9-41de-40a4-937b-f55b08afcb39",
   "metadata": {},
   "outputs": [],
   "source": [
    "import pennylane as qml\n",
    "from pennylane import numpy as np"
   ]
  },
  {
   "cell_type": "code",
   "execution_count": 2,
   "id": "4d079034-d8f8-4a36-bb83-1d4b3af3a35b",
   "metadata": {},
   "outputs": [],
   "source": [
    "dev = qml.device(\"default.qubit\", wires=3)\n",
    "\n",
    "def variational_circuit(params):\n",
    "    \"\"\"A layered variational circuit. The first layer comprises of x, y, and z rotations on wires\n",
    "    0, 1, and 2, respectively. The second layer is a ring of CNOT gates. The final layer comprises \n",
    "    of x, y, and z rotations on wires 0, 1, and 2, respectively.\n",
    "    \"\"\"\n",
    "\n",
    "    # DO NOT MODIFY anything in this code block\n",
    "    qml.RX(params[0], wires=0)\n",
    "    qml.RY(params[1], wires=1)\n",
    "    qml.RZ(params[2], wires=2)\n",
    "\n",
    "    qml.broadcast(qml.CNOT, wires=[0, 1, 2], pattern=\"ring\")\n",
    "\n",
    "    qml.RX(params[3], wires=0)\n",
    "    qml.RY(params[4], wires=1)\n",
    "    qml.RZ(params[5], wires=2)\n",
    "\n",
    "    qml.broadcast(qml.CNOT, wires=[0, 1, 2], pattern=\"ring\")\n",
    "\n",
    "\n",
    "@qml.qnode(dev)\n",
    "def cost(params):\n",
    "    \"\"\"A QNode that pairs the variational_circuit with an expectation value measurement.\n",
    "\n",
    "    Args:\n",
    "        - params (np.ndarray): Variational circuit parameters\n",
    "\n",
    "    Returns:\n",
    "        - (float): qml.expval(qml.PauliY(0) @ qml.PauliZ(2))\n",
    "    \"\"\"\n",
    "\n",
    "    # DO NOT MODIFY anything in this code block\n",
    "    variational_circuit(params)\n",
    "    return qml.expval(qml.PauliY(0) @ qml.PauliZ(2))"
   ]
  },
  {
   "cell_type": "code",
   "execution_count": 3,
   "id": "fa6ed37e-6c71-4da6-a3fc-87336f9dece9",
   "metadata": {},
   "outputs": [],
   "source": [
    "def my_finite_diff_grad(params):\n",
    "    \"\"\"Function that returns the gradients of the cost function (defined below) with respect \n",
    "    to all parameters in params.\n",
    "\n",
    "    Args:\n",
    "        - params (np.ndarray): The parameters needed to create the variational circuit.\n",
    "\n",
    "    Returns:\n",
    "        - gradients (np.ndarray): the gradient w.r.t. each parameter\n",
    "    \"\"\"\n",
    "\n",
    "    gradients = np.zeros([len(params)])\n",
    "    for i in range(len(params)):\n",
    "        # QHACK #\n",
    "        d = 0.001\n",
    "        shifted = params.copy()\n",
    "        shifted[i] += d/2\n",
    "        out_plus = cost(shifted)\n",
    "        shifted[i] -= d\n",
    "        out_minus = cost(shifted)\n",
    "        gradients[i] = (out_plus - out_minus)/d\n",
    "        # QHACK #\n",
    "\n",
    "    return gradients"
   ]
  },
  {
   "cell_type": "code",
   "execution_count": 5,
   "id": "7ab6c50e-b21a-4d2f-8767-9a56943c2bcf",
   "metadata": {},
   "outputs": [
    {
     "name": "stdout",
     "output_type": "stream",
     "text": [
      "Approximated gradient\n",
      "-0.05491569053983625,-0.26711499405873695,2.220446049250313e-13,-0.3589232609479964,-0.026355767961727672,-1.1102230246251565e-13\n",
      "Real gradient\n",
      "-0.05491569282780183\n"
     ]
    }
   ],
   "source": [
    "params = np.random.rand(6)*np.pi*2 - np.pi\n",
    "output = my_finite_diff_grad(params)\n",
    "print(\"Approximated gradient\")\n",
    "print(*output, sep=\",\")\n",
    "print(\"Real gradient\")\n",
    "grad = qml.gradients.param_shift(cost)(params)[0]\n",
    "print(grad, sep=\",\")"
   ]
  },
  {
   "cell_type": "code",
   "execution_count": null,
   "id": "9f870fa1-4b9b-4b45-ae80-b16bd2913bf7",
   "metadata": {},
   "outputs": [],
   "source": []
  }
 ],
 "metadata": {
  "kernelspec": {
   "display_name": "PennyLane",
   "language": "python",
   "name": "pennylane"
  },
  "language_info": {
   "codemirror_mode": {
    "name": "ipython",
    "version": 3
   },
   "file_extension": ".py",
   "mimetype": "text/x-python",
   "name": "python",
   "nbconvert_exporter": "python",
   "pygments_lexer": "ipython3",
   "version": "3.9.15"
  }
 },
 "nbformat": 4,
 "nbformat_minor": 5
}
