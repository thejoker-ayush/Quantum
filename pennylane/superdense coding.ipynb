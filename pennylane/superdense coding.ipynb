{
 "cells": [
  {
   "cell_type": "code",
   "execution_count": 1,
   "id": "2a7ce1de-8a62-42e1-b148-62560aa9d945",
   "metadata": {},
   "outputs": [],
   "source": [
    "import pennylane as qml\n",
    "from pennylane import numpy as np"
   ]
  },
  {
   "cell_type": "code",
   "execution_count": 2,
   "id": "0897c237-d5cd-4abd-8a1b-bb34c99b3efc",
   "metadata": {},
   "outputs": [],
   "source": [
    "dev = qml.device(\"default.qubit\", wires=2)\n",
    "\n",
    "\n",
    "@qml.qnode(dev)\n",
    "def superdense_coding(bits, alpha):\n",
    "    \"\"\"Construct a quantum circuit that implements superdense coding, given a not necessarily maximally entangled state\n",
    "\n",
    "    Args:\n",
    "        - bits (int): 0 (binary: 00), 1 (binary: 01), 2 (binary: 10), or 3 (binary: 11), Alice's bits that she wants to communicate to Bob.\n",
    "        - alpha (float): angle parametrizing the entangled state\n",
    "\n",
    "    Returns:\n",
    "        - (np.tensor): Probability that Bob will guess Alice's bits correctly\n",
    "    \"\"\"\n",
    "\n",
    "    # QHACK #\n",
    "\n",
    "    # Prepare state |ψi = cos(α)|0iA |0iB + sin(α)|1iA |1iB\n",
    "    qml.RY(alpha*2, wires=0)\n",
    "    qml.CNOT(wires=[0, 1])\n",
    "\n",
    "    # Implement Alice's operations on her qubit here\n",
    "    if bits == 0:\n",
    "        pass\n",
    "    elif bits == 1:\n",
    "        qml.PauliX(wires=0)\n",
    "    elif bits == 2:\n",
    "        qml.PauliZ(wires=0)\n",
    "    elif bits == 3:\n",
    "        qml.PauliX(wires=0)\n",
    "        qml.PauliZ(wires=0)\n",
    "\n",
    "    # Implement Bob's measurement procedure here\n",
    "    qml.CNOT(wires=[0, 1])\n",
    "    qml.Hadamard(wires=0)\n",
    "    # QHACK #\n",
    "\n",
    "    return qml.probs(wires=[0, 1])\n",
    "\n",
    "\n",
    "def return_probs(bits, alpha):\n",
    "    \"\"\"Returns the output of the superdense_coding function for a given index (bits)\"\"\"\n",
    "    # DO NOT MODIFY anything in this code block\n",
    "    return superdense_coding(bits, alpha)[bits].numpy()\n"
   ]
  },
  {
   "cell_type": "code",
   "execution_count": 3,
   "id": "d2201d9a-e565-47a1-8614-91615e33277b",
   "metadata": {},
   "outputs": [
    {
     "name": "stdout",
     "output_type": "stream",
     "text": [
      "Bob will read out the correct state with probability 1.0\n"
     ]
    }
   ],
   "source": [
    "#With pi/4 the probability should be 1\n",
    "inputs = \"0,0.7854\".split(\",\")\n",
    "output = return_probs(int(inputs[0]), float(inputs[1]))\n",
    "print(f\"Bob will read out the correct state with probability {round(output, 6)}\")"
   ]
  },
  {
   "cell_type": "code",
   "execution_count": 4,
   "id": "d5fb291b-239e-4261-ab98-40f8a7aed358",
   "metadata": {},
   "outputs": [
    {
     "name": "stdout",
     "output_type": "stream",
     "text": [
      "Bob will read out the correct state with probability 0.858678\n"
     ]
    }
   ],
   "source": [
    "inputs = \"2,0.4\".split(\",\")\n",
    "output = return_probs(int(inputs[0]), float(inputs[1]))\n",
    "print(f\"Bob will read out the correct state with probability {round(output, 6)}\")"
   ]
  },
  {
   "cell_type": "code",
   "execution_count": null,
   "id": "1c10e999-03d8-464d-a49f-a80084053586",
   "metadata": {},
   "outputs": [],
   "source": []
  }
 ],
 "metadata": {
  "kernelspec": {
   "display_name": "PennyLane",
   "language": "python",
   "name": "pennylane"
  },
  "language_info": {
   "codemirror_mode": {
    "name": "ipython",
    "version": 3
   },
   "file_extension": ".py",
   "mimetype": "text/x-python",
   "name": "python",
   "nbconvert_exporter": "python",
   "pygments_lexer": "ipython3",
   "version": "3.9.15"
  }
 },
 "nbformat": 4,
 "nbformat_minor": 5
}
