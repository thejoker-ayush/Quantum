{
 "cells": [
  {
   "cell_type": "code",
   "execution_count": 1,
   "id": "d78b4de3-143c-4e78-8893-3377e6bf0c62",
   "metadata": {},
   "outputs": [],
   "source": [
    "from pennylane import numpy as np\n",
    "import pennylane as qml"
   ]
  },
  {
   "cell_type": "code",
   "execution_count": 2,
   "id": "f43e21eb-d50b-4de8-ab6a-d36ddff96f1f",
   "metadata": {},
   "outputs": [],
   "source": [
    "def qRAM(thetas):\n",
    "    \"\"\"Function that generates the superposition state explained above given the thetas angles.\n",
    "\n",
    "    Args:\n",
    "        - thetas (list(float)): list of angles to apply in the rotations.\n",
    "\n",
    "    Returns:\n",
    "        - (list(complex)): final state.\n",
    "    \"\"\"\n",
    "    dev = qml.device(\"default.qubit\", wires=range(4))\n",
    "    @qml.qnode(dev)\n",
    "    def circuit():\n",
    "        # QHACK #\n",
    "        # Create your circuit: the first three qubits will refer to the index, the fourth to the RY rotation.\n",
    "        # Encode controll qubits in all possible states\n",
    "        for i in range(3):\n",
    "          qml.Hadamard(wires=i)\n",
    "\n",
    "        for i in range(8):\n",
    "          # Generate binary representation of i\n",
    "          bin_i = '{0:03b}'.format(i)\n",
    "          # Each of the possible states of the control qubits will control a specfic R_y rotation on the state\n",
    "          qml.ControlledQubitUnitary(\n",
    "              qml.RY.compute_matrix(thetas[i]), control_wires=[0, 1, 2], wires=3, control_values=bin_i\n",
    "            )\n",
    "        # QHACK #\n",
    "        return qml.state()\n",
    "    return circuit()"
   ]
  },
  {
   "cell_type": "code",
   "execution_count": 3,
   "id": "de5e6889-f235-4479-9ee8-791e2857bc39",
   "metadata": {},
   "outputs": [
    {
     "name": "stdout",
     "output_type": "stream",
     "text": [
      "0.353553,0.0,0.353553,0.0,0.353553,0.0,0.353553,0.0,0.353553,0.0,0.353553,0.0,0.353553,0.0,0.353553,0.0\n"
     ]
    }
   ],
   "source": [
    "inputs = [0,0,0,0,0,0,0,0]\n",
    "thetas = np.array(inputs, dtype=float)\n",
    "output = qRAM(thetas)\n",
    "output = [float(i.real.round(6)) for i in output]\n",
    "print(*output, sep=\",\")"
   ]
  },
  {
   "cell_type": "code",
   "execution_count": 4,
   "id": "6e466349-a7ca-4df2-8c4f-e46f8db12a54",
   "metadata": {},
   "outputs": [
    {
     "name": "stdout",
     "output_type": "stream",
     "text": [
      "0.0,0.353553,0.0,0.353553,0.0,0.353553,0.0,0.353553,0.0,0.353553,0.0,0.353553,0.0,0.353553,0.0,0.353553\n"
     ]
    }
   ],
   "source": [
    "inputs = [3.141592653589793,3.141592653589793,3.141592653589793,3.141592653589793,3.141592653589793,3.141592653589793,3.141592653589793,3.141592653589793]\n",
    "thetas = np.array(inputs, dtype=float)\n",
    "output = qRAM(thetas)\n",
    "output = [float(i.real.round(6)) for i in output]\n",
    "print(*output, sep=\",\")"
   ]
  },
  {
   "cell_type": "code",
   "execution_count": 5,
   "id": "d529e6e2-5792-485e-be23-ce36e5112194",
   "metadata": {},
   "outputs": [
    {
     "name": "stdout",
     "output_type": "stream",
     "text": [
      "0.353553,0.0,0.351787,0.035296,0.342562,0.087471,0.353112,0.01767,0.353112,0.01767,0.351787,0.035296,0.346506,0.07024,0.337762,0.104482\n"
     ]
    }
   ],
   "source": [
    "inputs = [0,0.2,0.5,0.1,0.1,0.2,0.4,0.6]\n",
    "thetas = np.array(inputs, dtype=float)\n",
    "output = qRAM(thetas)\n",
    "output = [float(i.real.round(6)) for i in output]\n",
    "print(*output, sep=\",\")"
   ]
  },
  {
   "cell_type": "code",
   "execution_count": null,
   "id": "32732b32-f005-4599-b91f-5d6be9371470",
   "metadata": {},
   "outputs": [],
   "source": []
  }
 ],
 "metadata": {
  "kernelspec": {
   "display_name": "PennyLane",
   "language": "python",
   "name": "pennylane"
  },
  "language_info": {
   "codemirror_mode": {
    "name": "ipython",
    "version": 3
   },
   "file_extension": ".py",
   "mimetype": "text/x-python",
   "name": "python",
   "nbconvert_exporter": "python",
   "pygments_lexer": "ipython3",
   "version": "3.9.15"
  }
 },
 "nbformat": 4,
 "nbformat_minor": 5
}
