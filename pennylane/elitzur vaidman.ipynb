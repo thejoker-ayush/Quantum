{
 "cells": [
  {
   "cell_type": "code",
   "execution_count": 1,
   "id": "4202f030-038c-4c1e-987c-05b450d5dd88",
   "metadata": {},
   "outputs": [],
   "source": [
    "import pennylane as qml\n",
    "from pennylane import numpy as np\n",
    "\n",
    "dev = qml.device(\"default.qubit\", wires=1, shots=1)"
   ]
  },
  {
   "cell_type": "code",
   "execution_count": 2,
   "id": "87eedb81-e3dd-4ce1-999a-224c13e019da",
   "metadata": {},
   "outputs": [],
   "source": [
    "@qml.qnode(dev)\n",
    "def is_bomb(angle):\n",
    "    \"\"\"Construct a circuit at implements a one shot measurement at the bomb.\n",
    "\n",
    "    Args:\n",
    "        - angle (float): transmissivity of the Beam splitter, corresponding\n",
    "        to a rotation around the Y axis.\n",
    "\n",
    "    Returns:\n",
    "        - (np.ndarray): a length-1 array representing result of the one-shot measurement\n",
    "    \"\"\"\n",
    "\n",
    "    # QHACK #\n",
    "    qml.RY(2 * angle, wires=0)\n",
    "    # QHACK #\n",
    "\n",
    "    return qml.sample(qml.PauliZ(0))"
   ]
  },
  {
   "cell_type": "code",
   "execution_count": 3,
   "id": "56ac34d0-f1c9-4eff-a322-41cd8e387467",
   "metadata": {},
   "outputs": [],
   "source": [
    "@qml.qnode(dev)\n",
    "def bomb_tester(angle):\n",
    "    \"\"\"Construct a circuit that implements a final one-shot measurement, given that the bomb does not explode\n",
    "\n",
    "    Args:\n",
    "        - angle (float): transmissivity of the Beam splitter right before the final detectors\n",
    "\n",
    "    Returns:\n",
    "        - (np.ndarray): a length-1 array representing result of the one-shot measurement\n",
    "    \"\"\"\n",
    "\n",
    "    # QHACK #\n",
    "    qml.RY(2 * angle, wires=0)\n",
    "    # QHACK #\n",
    "\n",
    "    return qml.sample(qml.PauliZ(0))"
   ]
  },
  {
   "cell_type": "code",
   "execution_count": 4,
   "id": "4a448c33-8158-4586-8277-9aa603594ade",
   "metadata": {},
   "outputs": [],
   "source": [
    "def simulate(angle, n):\n",
    "    \"\"\"Concatenate n bomb circuits and a final measurement, and return the results of 10000 one-shot measurements\n",
    "\n",
    "    Args:\n",
    "        - angle (float): transmissivity of all the beam splitters, taken to be identical.\n",
    "        - n (int): number of bomb circuits concatenated\n",
    "\n",
    "    Returns:\n",
    "        - (float): number of bombs successfully tested / number of bombs that didn't explode.\n",
    "    \"\"\"\n",
    "\n",
    "    # QHACK #\n",
    "    results = {'C': 0, 'D': 0, 'explosion': 0}\n",
    "    for k in range(0, 10000):\n",
    "        bomb_exploded = False\n",
    "        for i in range(n):\n",
    "            sample = is_bomb(angle)\n",
    "            if sample == 1:\n",
    "                bomb_exploded = True\n",
    "            if bomb_exploded:\n",
    "                results['explosion'] += 1\n",
    "                break\n",
    "        if bomb_exploded:\n",
    "            continue\n",
    "        if not bomb_exploded:\n",
    "            out = bomb_tester(angle)\n",
    "            if out == 1:\n",
    "                results['C'] += 1\n",
    "            else:\n",
    "                results['D'] += 1\n",
    "\n",
    "    return results['D'] / (10000 - results['explosion'])"
   ]
  },
  {
   "cell_type": "code",
   "execution_count": 5,
   "id": "eb61272f-eb53-4023-9401-543b42a8d9a1",
   "metadata": {},
   "outputs": [
    {
     "name": "stdout",
     "output_type": "stream",
     "text": [
      "0.5027613412228796\n"
     ]
    }
   ],
   "source": [
    "output = simulate(0.78539,1)\n",
    "print(f\"{output}\")"
   ]
  },
  {
   "cell_type": "code",
   "execution_count": 6,
   "id": "74f2be11-083b-4343-951d-2ba57c85a28d",
   "metadata": {},
   "outputs": [
    {
     "name": "stdout",
     "output_type": "stream",
     "text": [
      "0.9005704971475142\n"
     ]
    }
   ],
   "source": [
    "output = simulate(1.256637,5)\n",
    "print(f\"{output}\")"
   ]
  },
  {
   "cell_type": "code",
   "execution_count": null,
   "id": "940f2ee6-996e-4ac8-aec7-bf16a7b6f471",
   "metadata": {},
   "outputs": [],
   "source": []
  }
 ],
 "metadata": {
  "kernelspec": {
   "display_name": "PennyLane",
   "language": "python",
   "name": "pennylane"
  },
  "language_info": {
   "codemirror_mode": {
    "name": "ipython",
    "version": 3
   },
   "file_extension": ".py",
   "mimetype": "text/x-python",
   "name": "python",
   "nbconvert_exporter": "python",
   "pygments_lexer": "ipython3",
   "version": "3.9.15"
  }
 },
 "nbformat": 4,
 "nbformat_minor": 5
}
