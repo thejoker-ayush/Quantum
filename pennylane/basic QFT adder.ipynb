{
 "cells": [
  {
   "cell_type": "code",
   "execution_count": 1,
   "id": "99d6594e-8de6-4233-82c4-ab7386225650",
   "metadata": {},
   "outputs": [],
   "source": [
    "from pennylane import numpy as np\n",
    "import pennylane as qml\n",
    "import random"
   ]
  },
  {
   "cell_type": "code",
   "execution_count": 2,
   "id": "d3382970-3a07-4887-acbc-88d18fa07171",
   "metadata": {},
   "outputs": [],
   "source": [
    "def qfunc_adder(m, wires):\n",
    "    \"\"\"Quantum function capable of adding m units to a basic state given as input.\n",
    "\n",
    "    Args:\n",
    "        - m (int): units to add.\n",
    "        - wires (list(int)): list of wires in which the function will be executed on.\n",
    "    \"\"\"\n",
    "\n",
    "    qml.QFT(wires=wires)\n",
    "\n",
    "    # QHACK #\n",
    "    N = len(wires)\n",
    "    for i in range(N):\n",
    "        qml.PhaseShift(m * (np.pi)/(2**i), wires = list(wires)[::][i] )\n",
    "\n",
    "    # QHACK #\n",
    "\n",
    "    qml.QFT(wires=wires).inv()"
   ]
  },
  {
   "cell_type": "code",
   "execution_count": 5,
   "id": "4f3367bc-4304-45df-8fc4-db88d1e32de1",
   "metadata": {},
   "outputs": [
    {
     "name": "stdout",
     "output_type": "stream",
     "text": [
      " 1 + 64 = 65\n"
     ]
    }
   ],
   "source": [
    "m, n_wires = sorted(random.sample(range(1, 10), 2))\n",
    "wires = range(n_wires)\n",
    "\n",
    "dev = qml.device(\"default.qubit\", wires=wires, shots=1)\n",
    "\n",
    "@qml.qnode(dev)\n",
    "def test_circuit():\n",
    "    # Input:  |2^{N-1}>\n",
    "    qml.PauliX(wires=0)\n",
    "\n",
    "    qfunc_adder(m, wires)\n",
    "    return qml.sample()\n",
    "\n",
    "output = test_circuit()\n",
    "out = 0\n",
    "for i, w in enumerate(output[::-1]):\n",
    "    out += w*2**i\n",
    "print(f\" {m} + {2**(n_wires-1)} = {out}\")\n",
    "     "
   ]
  },
  {
   "cell_type": "code",
   "execution_count": null,
   "id": "2c26d8c2-9284-48f4-9ee5-4cbf722ad629",
   "metadata": {},
   "outputs": [],
   "source": []
  }
 ],
 "metadata": {
  "kernelspec": {
   "display_name": "PennyLane",
   "language": "python",
   "name": "pennylane"
  },
  "language_info": {
   "codemirror_mode": {
    "name": "ipython",
    "version": 3
   },
   "file_extension": ".py",
   "mimetype": "text/x-python",
   "name": "python",
   "nbconvert_exporter": "python",
   "pygments_lexer": "ipython3",
   "version": "3.9.15"
  }
 },
 "nbformat": 4,
 "nbformat_minor": 5
}
