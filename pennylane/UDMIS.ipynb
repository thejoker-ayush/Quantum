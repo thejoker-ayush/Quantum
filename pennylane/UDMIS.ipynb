{
 "cells": [
  {
   "cell_type": "code",
   "execution_count": 1,
   "id": "19887307-447e-442c-8e2d-320abbdf2e9c",
   "metadata": {},
   "outputs": [],
   "source": [
    "import pennylane as qml\n",
    "from pennylane import numpy as np"
   ]
  },
  {
   "cell_type": "code",
   "execution_count": 2,
   "id": "dcd4dcf3-c3ee-4637-8e02-8b6fc6337c18",
   "metadata": {},
   "outputs": [],
   "source": [
    "def edges(graph):\n",
    "    \"\"\"Creates a matrix of bools that are interpreted as the existence/non-existence (True/False)\n",
    "    of edges between vertices (i,j).\n",
    "\n",
    "    Args:\n",
    "        - graph (list((float, float))): A list of x,y coordinates. e.g. graph = [(1.0, 1.1), (4.5, 3.1)]\n",
    "\n",
    "    Returns:\n",
    "        - num_edges (int): The total number of edges in the graph\n",
    "        - E (np.ndarray): A Matrix of edges\n",
    "    \"\"\"\n",
    "\n",
    "    # DO NOT MODIFY anything in this code block\n",
    "    num_vertices = len(graph)\n",
    "    E = np.zeros((num_vertices, num_vertices), dtype=bool)\n",
    "    for vertex_i in range(num_vertices - 1):\n",
    "        xi, yi = graph[vertex_i]  # coordinates\n",
    "\n",
    "        for vertex_j in range(vertex_i + 1, num_vertices):\n",
    "            xj, yj = graph[vertex_j]  # coordinates\n",
    "            dij = np.sqrt((xi - xj) ** 2 + (yi - yj) ** 2)\n",
    "            E[vertex_i, vertex_j] = 1 if dij <= 1.0 else 0\n",
    "\n",
    "    return E, np.sum(E, axis=(0, 1))"
   ]
  },
  {
   "cell_type": "code",
   "execution_count": 3,
   "id": "16e1e637-af03-4931-a641-b59d7d40535c",
   "metadata": {},
   "outputs": [],
   "source": [
    "def hamiltonian_coeffs_and_obs(graph):\n",
    "    \"\"\"Creates an ordered list of coefficients and observables used to construct\n",
    "    the UDMIS Hamiltonian.\n",
    "\n",
    "    Args:\n",
    "        - graph (list((float, float))): A list of x,y coordinates. e.g. graph = [(1.0, 1.1), (4.5, 3.1)]\n",
    "\n",
    "    Returns:\n",
    "        - coeffs (list): List of coefficients for elementary parts of the UDMIS Hamiltonian\n",
    "        - obs (list(qml.ops)): List of qml.ops\n",
    "    \"\"\"\n",
    "\n",
    "    num_vertices = len(graph)\n",
    "    E, num_edges = edges(graph)\n",
    "    u = 1.35\n",
    "    obs = []\n",
    "    coeffs = []\n",
    "\n",
    "    # QHACK #\n",
    "    # First part of the hamiltonian: - sum(n_i) = -sum(1/2 * (Z_i + I_i))\n",
    "    for i in range(0, num_vertices):\n",
    "        coeffs.append(-1/2)\n",
    "        obs.append(qml.PauliZ(i))\n",
    "        coeffs.append(-1 / 2)\n",
    "        obs.append(qml.Identity(i))\n",
    "    # Second part of the Hamiltonian + u * sum( n_i * n_j) = + sum(u * 1/2 * (Z_i + I_i) * 1/2 * (Z_j + I_j))\n",
    "    for i in range(0, len(E)):\n",
    "        for j in range(0, len(E[0])):\n",
    "            if E[i, j]:\n",
    "                coeffs.append(u/4)\n",
    "                obs.append(qml.PauliZ(i) @ qml.PauliZ(j))\n",
    "                coeffs.append(u/4)\n",
    "                obs.append(qml.Identity(i) @ qml.PauliZ(j))\n",
    "                coeffs.append(u / 4)\n",
    "                obs.append(qml.PauliZ(i) @ qml.Identity(j))\n",
    "                coeffs.append(u / 4)\n",
    "                obs.append(qml.Identity(i) @ qml.Identity(j))\n",
    "    # QHACK #\n",
    "    return coeffs, obs"
   ]
  },
  {
   "cell_type": "code",
   "execution_count": 4,
   "id": "2617acac-480e-4ba7-bcc2-a9640e158792",
   "metadata": {},
   "outputs": [],
   "source": [
    "def variational_circuit(params, num_vertices):\n",
    "    \"\"\"A variational circuit.\n",
    "\n",
    "    Args:\n",
    "        - params (np.ndarray): your variational parameters\n",
    "        - num_vertices (int): The number of vertices in the graph. Also used for number of wires.\n",
    "    \"\"\"\n",
    "    # QHACK #\n",
    "    # Since each node can be occupied or not occupied we don't need to worry about phases and we can build VQE out of roations aroun the X axis\n",
    "    for i in range(num_vertices):\n",
    "        qml.RX(params[i], wires=i)\n",
    "    # QHACK #"
   ]
  },
  {
   "cell_type": "code",
   "execution_count": 5,
   "id": "b76a86b3-c7bf-444d-8537-3a3a471bc74f",
   "metadata": {},
   "outputs": [],
   "source": [
    "def train_circuit(num_vertices, H):\n",
    "    \"\"\"Trains a quantum circuit to learn the ground state of the UDMIS Hamiltonian.\n",
    "\n",
    "    Args:\n",
    "        - num_vertices (int): The number of vertices/wires in the graph\n",
    "        - H (qml.Hamiltonian): The result of qml.Hamiltonian(coeffs, obs)\n",
    "\n",
    "    Returns:\n",
    "        - E / num_vertices (float): The ground state energy density.\n",
    "    \"\"\"\n",
    "\n",
    "    dev = qml.device(\"default.qubit\", wires=num_vertices)\n",
    "\n",
    "    @qml.qnode(dev)\n",
    "    def cost(params):\n",
    "        \"\"\"The energy expectation value of a Hamiltonian\"\"\"\n",
    "        variational_circuit(params, num_vertices)\n",
    "        return qml.expval(H)\n",
    "\n",
    "    # QHACK #\n",
    "    epochs = 500\n",
    "\n",
    "    # Define training parameters\n",
    "    num_layers = 3\n",
    "    opt = qml.optimize.QNGOptimizer(stepsize=0.1)\n",
    "    params = np.random.uniform(low=0, high=2 * np.pi, size=(num_vertices))\n",
    "\n",
    "    # Optimize angles\n",
    "    E_hist = []\n",
    "    for i in range(epochs):\n",
    "        params, E = opt.step_and_cost(cost, params)\n",
    "        E_hist.append(E)\n",
    "        if i % 20 == 0:\n",
    "            print(f\"Epoch {i} --> E: {E_hist[-1]}\")\n",
    "        if i > 20 and abs(E_hist[-1] - E_hist[-10]) < 1e-6:\n",
    "            break\n",
    "    # QHACK # \n",
    "    return E / float(num_vertices)"
   ]
  },
  {
   "cell_type": "code",
   "execution_count": 6,
   "id": "0af91486-84db-44f1-b7fd-8f03dd2bef27",
   "metadata": {},
   "outputs": [],
   "source": [
    "# Use this to visualize the graph\n",
    "import networkx as nx\n",
    "import matplotlib.pyplot as plt\n",
    "def get_graph(graph):\n",
    "    E, num_edges = edges(graph)\n",
    "    G = nx.from_numpy_matrix(E)\n",
    "    nx.draw(G, labels={node: str(node) for node in range(0, len(E))}, with_labels=True)\n",
    "    plt.show()\n",
    "\n",
    "def view_graph(graph):\n",
    "    graph_dict = {i: np.array([graph[i][0], graph[i][1]]) for i in range(len(graph))}\n",
    "    edges = []\n",
    "    for i in range(len(graph)):\n",
    "        for j in range(i + 1, len(graph)):\n",
    "            coords_i = graph_dict[i]\n",
    "            coords_j = graph_dict[j]\n",
    "            d = sum((coords_i - coords_j)**2)\n",
    "            if d <= 1.0:\n",
    "                edges.append([coords_i, coords_j])\n",
    "    fig, ax = plt.subplots()\n",
    "    for i in graph_dict.keys():\n",
    "        ax.scatter(graph_dict[i][0], graph_dict[i][1], s=100, c='b')\n",
    "    for edge in edges:\n",
    "        ys = [edge[i][1] for i in range(2)]\n",
    "        xs = [edge[i][0] for i in range(2)]\n",
    "        ax.plot(xs, ys, c='r')\n",
    "    ax.set_title(f\"{len(edges)} edges found\")\n",
    "    plt.show()"
   ]
  },
  {
   "cell_type": "code",
   "execution_count": 7,
   "id": "9007e6c4-003b-4094-83e3-7997397f03a6",
   "metadata": {},
   "outputs": [
    {
     "name": "stdout",
     "output_type": "stream",
     "text": [
      "Epoch 0 --> E: -2.8571752911703463\n",
      "Epoch 20 --> E: -5.986795969608368\n",
      "Epoch 40 --> E: -5.999998222434092\n",
      "Energy density: -1.000000\n"
     ]
    },
    {
     "data": {
      "image/png": "[encoded data removed]",
      "text/plain": [
       "<Figure size 640x480 with 1 Axes>"
      ]
     },
     "metadata": {},
     "output_type": "display_data"
    }
   ],
   "source": [
    "inputs = [4.676495520782796,2.1112909562162763,1.5485936307414583,7.361431893916296,6.832710422152228,5.513534564521993,2.611816925831103,6.054858463854695,5.222428162220638,4.552144597036618,9.630745026546073,7.387891596606659]\n",
    "inputs = np.array(inputs)\n",
    "num_vertices = int(len(inputs) / 2)\n",
    "x = inputs[:num_vertices]\n",
    "y = inputs[num_vertices:]\n",
    "graph = []\n",
    "for n in range(num_vertices):\n",
    "    graph.append((x[n].item(), y[n].item()))\n",
    "\n",
    "coeffs, obs = hamiltonian_coeffs_and_obs(graph)\n",
    "H = qml.Hamiltonian(coeffs, obs)\n",
    "\n",
    "energy_density = train_circuit(num_vertices, H)\n",
    "print(f\"Energy density: {energy_density:.6f}\")\n",
    "\n",
    "view_graph(graph)\n",
    "\n",
    "# Since there are no edges, all vertices can be occupied E = -6 / 6 = 1"
   ]
  },
  {
   "cell_type": "code",
   "execution_count": 8,
   "id": "5d02b10e-bec6-4019-8c06-e3ba428ea7ff",
   "metadata": {},
   "outputs": [
    {
     "name": "stdout",
     "output_type": "stream",
     "text": [
      "Epoch 0 --> E: -1.706322980435637\n",
      "Epoch 20 --> E: -3.990761179239577\n",
      "Epoch 40 --> E: -3.999640142453041\n",
      "Epoch 60 --> E: -3.999980284728015\n",
      "Epoch 80 --> E: -3.9999989182972366\n",
      "Energy density:  -0.666667\n"
     ]
    },
    {
     "data": {
      "image/png": "[encoded data removed]",
      "text/plain": [
       "<Figure size 640x480 with 1 Axes>"
      ]
     },
     "metadata": {},
     "output_type": "display_data"
    }
   ],
   "source": [
    "inputs = [1.971141343837512,1.3175151958757692,1.7743411711379486,0.19884568690295978,1.2411294078770752,4.077451769506551,1.1991102459020841,3.7875893202521675,3.0946479758878165,2.389909455806816,3.2889545392433455,0.5826862970005925]\n",
    "inputs = np.array(inputs)\n",
    "num_vertices = int(len(inputs) / 2)\n",
    "x = inputs[:num_vertices]\n",
    "y = inputs[num_vertices:]\n",
    "graph = []\n",
    "for n in range(num_vertices):\n",
    "    graph.append((x[n].item(), y[n].item()))\n",
    "\n",
    "coeffs, obs = hamiltonian_coeffs_and_obs(graph)\n",
    "H = qml.Hamiltonian(coeffs, obs)\n",
    "\n",
    "energy_density = train_circuit(num_vertices, H)\n",
    "print(f\"Energy density:  {energy_density:.6f}\")\n",
    "\n",
    "view_graph(graph)\n",
    "\n",
    "# Since there are 3 edges forming a triangle, only 4 vertices can be occupied -> E = -4/6 = -0.66667"
   ]
  },
  {
   "cell_type": "code",
   "execution_count": 12,
   "id": "15430d24-2263-4e01-8949-9349f69c2b44",
   "metadata": {},
   "outputs": [
    {
     "name": "stdout",
     "output_type": "stream",
     "text": [
      "Epoch 0 --> E: -2.587553081370767\n",
      "Epoch 20 --> E: -4.591818848732808\n",
      "Epoch 40 --> E: -4.999347005226264\n",
      "Epoch 60 --> E: -4.99996958352343\n",
      "Epoch 80 --> E: -4.999998331691884\n",
      "Energy density:  -0.833333\n"
     ]
    },
    {
     "data": {
      "image/png": "[encoded data removed]",
      "text/plain": [
       "<Figure size 640x480 with 1 Axes>"
      ]
     },
     "metadata": {},
     "output_type": "display_data"
    }
   ],
   "source": [
    "V = np.random.randint(6, 10)\n",
    "dist = 10\n",
    "inputs = np.random.random(V*2)*dist\n",
    "num_vertices = int(len(inputs) / 2)\n",
    "x = inputs[:num_vertices]\n",
    "y = inputs[num_vertices:]\n",
    "graph = []\n",
    "for n in range(num_vertices):\n",
    "    graph.append((x[n].item(), y[n].item()))\n",
    "\n",
    "coeffs, obs = hamiltonian_coeffs_and_obs(graph)\n",
    "H = qml.Hamiltonian(coeffs, obs)\n",
    "\n",
    "energy_density = train_circuit(num_vertices, H)\n",
    "print(f\"Energy density:  {energy_density:.6f}\")\n",
    "\n",
    "view_graph(graph)"
   ]
  },
  {
   "cell_type": "code",
   "execution_count": null,
   "id": "c8fefa32-f70c-48f7-af04-a0f3d7cce383",
   "metadata": {},
   "outputs": [],
   "source": []
  }
 ],
 "metadata": {
  "kernelspec": {
   "display_name": "PennyLane",
   "language": "python",
   "name": "pennylane"
  },
  "language_info": {
   "codemirror_mode": {
    "name": "ipython",
    "version": 3
   },
   "file_extension": ".py",
   "mimetype": "text/x-python",
   "name": "python",
   "nbconvert_exporter": "python",
   "pygments_lexer": "ipython3",
   "version": "3.9.15"
  }
 },
 "nbformat": 4,
 "nbformat_minor": 5
}
