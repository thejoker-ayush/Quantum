{
 "cells": [
  {
   "cell_type": "code",
   "execution_count": 1,
   "id": "607d8b16-5112-4cc8-9396-7a70bb811ee0",
   "metadata": {},
   "outputs": [],
   "source": [
    "import pennylane as qml\n",
    "from pennylane import numpy as np"
   ]
  },
  {
   "cell_type": "code",
   "execution_count": 2,
   "id": "c1602fa4-0ec4-4852-ae91-fa089261fe32",
   "metadata": {},
   "outputs": [],
   "source": [
    "def triple_excitation_matrix(gamma):\n",
    "    \"\"\"The matrix representation of a triple-excitation Givens rotation.\n",
    "\n",
    "    Args:\n",
    "        - gamma (float): The angle of rotation\n",
    "\n",
    "    Returns:\n",
    "        - (np.ndarray): The matrix representation of a triple-excitation\n",
    "    \"\"\"\n",
    "\n",
    "    # QHACK #\n",
    "    # Generate coefficients\n",
    "    c = qml.math.cos(gamma / 2)\n",
    "    s = qml.math.sin(gamma / 2)\n",
    "    # Start with a diagonal matrix\n",
    "    mat = qml.math.diag([1.0] * (2 ** NUM_WIRES))\n",
    "    # Decimal representations of states\n",
    "    i, j = 7, 56\n",
    "    # Alter matrix values that alter only the states 7 and 56\n",
    "    mat[i, i] = c\n",
    "    mat[i, j] = -s\n",
    "    mat[j, i] = s\n",
    "    mat[j, j] = c\n",
    "    return mat"
   ]
  },
  {
   "cell_type": "code",
   "execution_count": 3,
   "id": "ff3985b6-81ec-4ac2-9f0f-795386555c1c",
   "metadata": {},
   "outputs": [],
   "source": [
    "dev = qml.device(\"default.qubit\", wires=6)\n",
    "NUM_WIRES = 6\n",
    "\n",
    "@qml.qnode(dev)\n",
    "def circuit(angles):\n",
    "    \"\"\"Prepares the quantum state in the problem statement and returns qml.probs\n",
    "\n",
    "    Args:\n",
    "        - angles (list(float)): The relevant angles in the problem statement in this order:\n",
    "        [alpha, beta, gamma]\n",
    "\n",
    "    Returns:\n",
    "        - (np.tensor): The probability of each computational basis state\n",
    "    \"\"\"\n",
    "    # QHACK #\n",
    "    alpha, beta, gamma = angles[0], angles[1], angles[2]\n",
    "    # Initialize state\n",
    "    qml.BasisState(np.array([1, 1, 1, 0, 0, 0]), wires=[0, 1, 2, 3, 4, 5])\n",
    "    # SingleExcitation gate\n",
    "    qml.SingleExcitation(alpha, wires=[0, 5])\n",
    "    # DoubleExcitation gate\n",
    "    qml.DoubleExcitation(beta, wires=[0, 1, 4, 5])\n",
    "    # TripleExcitation gate from our implementation\n",
    "    qml.QubitUnitary(triple_excitation_matrix(gamma), wires=[0, 1, 2, 3, 4, 5])\n",
    "    # QHACK #\n",
    "    return qml.probs(wires=range(NUM_WIRES))"
   ]
  },
  {
   "cell_type": "code",
   "execution_count": 4,
   "id": "8f4da0b5-e7f7-43c3-a347-cc13cc50dbda",
   "metadata": {},
   "outputs": [
    {
     "name": "stdout",
     "output_type": "stream",
     "text": [
      "Measured prob |111000> 0.000325 vs expected 0.0003251869843297567\n",
      "Measured prob |000111> 0.00054 vs expected 0.0005396118866232373\n",
      "Measured prob |001011> 0.044911 vs expected 0.04491115090944501\n",
      "Measured prob |011001> 0.954224 vs expected 0.9542240502196023\n"
     ]
    }
   ],
   "source": [
    "inputs = \"2.71035258,2.86582337,4.46182774\".split(\",\")\n",
    "inputs = np.array(inputs, dtype=float)\n",
    "probs = circuit(inputs).round(6)\n",
    "\n",
    "# We interested in the states |111000> = 56, |000111> = 7, |001011> = 11 and |011001> = 25\n",
    "a, b, g = inputs[0], inputs[1], inputs[2]\n",
    "p_56 = probs[56]\n",
    "p_7 = probs[7]\n",
    "p_11 = probs[11]\n",
    "p_25 = probs[25]\n",
    "print(f\"Measured prob |111000> {p_56} vs expected {(np.cos(a/2)*np.cos(b/2)*np.cos(g/2))**2}\")\n",
    "print(f\"Measured prob |000111> {p_7} vs expected {(np.cos(a/2)*np.cos(b/2)*np.sin(g/2))**2}\")\n",
    "print(f\"Measured prob |001011> {p_11} vs expected {(np.cos(a/2)*np.sin(b/2))**2}\")\n",
    "print(f\"Measured prob |011001> {p_25} vs expected {(np.sin(a/2))**2}\")"
   ]
  },
  {
   "cell_type": "code",
   "execution_count": 5,
   "id": "5d653ac7-9929-4579-b508-58a8ba0b24d1",
   "metadata": {},
   "outputs": [
    {
     "name": "stdout",
     "output_type": "stream",
     "text": [
      "Measured prob |111000> 0.043423 vs expected 0.04342292706512467\n",
      "Measured prob |000111> 0.179567 vs expected 0.17956680677628428\n",
      "Measured prob |001011> 0.463535 vs expected 0.4635351746666425\n",
      "Measured prob |011001> 0.313475 vs expected 0.31347509149194847\n"
     ]
    }
   ],
   "source": [
    "inputs = (np.random.rand(3)*2-1)*2*np.pi\n",
    "probs = circuit(inputs).round(6)\n",
    "\n",
    "# We interested in the states |111000> = 56, |000111> = 7, |001011> = 11 and |011001> = 25\n",
    "a, b, g = inputs[0], inputs[1], inputs[2]\n",
    "p_56 = probs[56]\n",
    "p_7 = probs[7]\n",
    "p_11 = probs[11]\n",
    "p_25 = probs[25]\n",
    "print(f\"Measured prob |111000> {p_56} vs expected {(np.cos(a/2)*np.cos(b/2)*np.cos(g/2))**2}\")\n",
    "print(f\"Measured prob |000111> {p_7} vs expected {(np.cos(a/2)*np.cos(b/2)*np.sin(g/2))**2}\")\n",
    "print(f\"Measured prob |001011> {p_11} vs expected {(np.cos(a/2)*np.sin(b/2))**2}\")\n",
    "print(f\"Measured prob |011001> {p_25} vs expected {(np.sin(a/2))**2}\")"
   ]
  },
  {
   "cell_type": "code",
   "execution_count": null,
   "id": "9f5e3bf3-4f0c-495e-9d5b-3357439d3095",
   "metadata": {},
   "outputs": [],
   "source": []
  }
 ],
 "metadata": {
  "kernelspec": {
   "display_name": "PennyLane",
   "language": "python",
   "name": "pennylane"
  },
  "language_info": {
   "codemirror_mode": {
    "name": "ipython",
    "version": 3
   },
   "file_extension": ".py",
   "mimetype": "text/x-python",
   "name": "python",
   "nbconvert_exporter": "python",
   "pygments_lexer": "ipython3",
   "version": "3.9.15"
  }
 },
 "nbformat": 4,
 "nbformat_minor": 5
}
