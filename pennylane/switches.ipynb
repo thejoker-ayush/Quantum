{
 "cells": [
  {
   "cell_type": "code",
   "execution_count": 1,
   "id": "9024d723-4644-4e12-8c1b-94b55f90d893",
   "metadata": {},
   "outputs": [],
   "source": [
    "from pennylane import numpy as np\n",
    "import pennylane as qml"
   ]
  },
  {
   "cell_type": "code",
   "execution_count": 2,
   "id": "3001e9ea-19ba-4cad-8462-d78a23b90f1b",
   "metadata": {},
   "outputs": [],
   "source": [
    "def switch(oracle):\n",
    "    \"\"\"Function that, given an oracle, returns a list of switches that work by executing a\n",
    "    single circuit with a single shot. The code you write for this challenge should be completely\n",
    "    contained within this function between the # QHACK # comment markers.\n",
    "\n",
    "    Args:\n",
    "        - oracle (function): oracle that simulates the behavior of the lights.\n",
    "\n",
    "    Returns:\n",
    "        - (list(int)): List with the switches that work. Example: [0,2].\n",
    "    \"\"\"\n",
    "\n",
    "    dev = qml.device(\"default.qubit\", wires=[0, 1, 2, \"light\"], shots=1)\n",
    "\n",
    "    @qml.qnode(dev)\n",
    "    def circuit():\n",
    "\n",
    "        # QHACK #\n",
    "        # Bernstein-Vazirani preprocessing\n",
    "        for i in range(3):\n",
    "            qml.Hadamard(wires=i)\n",
    "        qml.PauliX(wires=\"light\")\n",
    "        qml.Hadamard(wires=\"light\")\n",
    "        # Oracle\n",
    "        oracle()\n",
    "        # Bernstein-Vazirani postprocessing\n",
    "        for i in range(3):\n",
    "            qml.Hadamard(wires=i)\n",
    "        # QHACK #\n",
    "\n",
    "        return qml.sample(wires=range(3))\n",
    "\n",
    "    sample = circuit()\n",
    "    \n",
    "    # QHACK #\n",
    "    # Getnumber of switches that work\n",
    "    sample = [i for i in range(0, len(sample)) if sample[i] == 1]\n",
    "    # QHACK #\n",
    "    return sample"
   ]
  },
  {
   "cell_type": "code",
   "execution_count": 6,
   "id": "6e90b78f-4fc3-401c-bebe-52ec4ddd7c1d",
   "metadata": {},
   "outputs": [
    {
     "name": "stdout",
     "output_type": "stream",
     "text": [
      "The switches that work are [1, 2]\n"
     ]
    }
   ],
   "source": [
    "inputs = [0,1,2,0]\n",
    "# By this convention, if the switch index appears an even number of times, it will not work. If the switch appears an odd number of times, \n",
    "# the switch will work.\n",
    "\n",
    "numbers = [int(i) for i in inputs]\n",
    "\n",
    "def oracle():\n",
    "    for i in numbers:\n",
    "        qml.CNOT(wires=[i, \"light\"])\n",
    "\n",
    "output = switch(oracle)\n",
    "print(\"The switches that work are\", output)"
   ]
  },
  {
   "cell_type": "code",
   "execution_count": null,
   "id": "050edccf-4c79-4a68-8ea6-009f92600a0e",
   "metadata": {},
   "outputs": [],
   "source": []
  }
 ],
 "metadata": {
  "kernelspec": {
   "display_name": "PennyLane",
   "language": "python",
   "name": "pennylane"
  },
  "language_info": {
   "codemirror_mode": {
    "name": "ipython",
    "version": 3
   },
   "file_extension": ".py",
   "mimetype": "text/x-python",
   "name": "python",
   "nbconvert_exporter": "python",
   "pygments_lexer": "ipython3",
   "version": "3.9.15"
  }
 },
 "nbformat": 4,
 "nbformat_minor": 5
}
