{
 "cells": [
  {
   "cell_type": "code",
   "execution_count": 1,
   "id": "bc72bb01-90e4-4f23-bdd7-8aa0067c4e6e",
   "metadata": {},
   "outputs": [],
   "source": [
    "import numpy as np"
   ]
  },
  {
   "cell_type": "code",
   "execution_count": 2,
   "id": "507b6598-a43a-477b-908c-95d13052a65c",
   "metadata": {},
   "outputs": [],
   "source": [
    "def givens_rotations(a, b, c, d):\n",
    "    \"\"\"Calculates the angles needed for a Givens rotation to out put the state with amplitudes a,b,c and d\n",
    "\n",
    "    Args:\n",
    "        - a,b,c,d (float): real numbers which represent the amplitude of the relevant basis states (see problem statement). Assume they are normalized.\n",
    "\n",
    "    Returns:\n",
    "        - (list(float)): a list of real numbers ranging in the intervals provided in the challenge statement, which represent the angles in the Givens rotations,\n",
    "        in order, that must be applied.\n",
    "    \"\"\"\n",
    "\n",
    "    # QHACK #\n",
    "    # Here we let Z = theta_3/2, Y = theta_2/2 and X = theta_1/2\n",
    "    Z = np.arctan(-d/a)\n",
    "    Y = np.arctan(- c / b)\n",
    "    X = np.arctan(-(c * np.sin(Z)) / (d * np.sin(Y)))\n",
    "    return X*2, Y*2, Z*2"
   ]
  },
  {
   "cell_type": "code",
   "execution_count": 3,
   "id": "2a2e26de-e0ef-42c6-9e47-dcfd43915d43",
   "metadata": {},
   "outputs": [
    {
     "name": "stdout",
     "output_type": "stream",
     "text": [
      "-1.5707963267948966,-1.5707963267948966,-1.5707963267948966\n"
     ]
    }
   ],
   "source": [
    "inputs = \"0.5,0.5,0.5,0.5\".split(\",\")\n",
    "theta_1, theta_2, theta_3 = givens_rotations(\n",
    "    float(inputs[0]), float(inputs[1]), float(inputs[2]), float(inputs[3])\n",
    ")\n",
    "print(*[theta_1, theta_2, theta_3], sep=\",\")"
   ]
  },
  {
   "cell_type": "code",
   "execution_count": 4,
   "id": "0e6d336f-e0b6-4e48-8d5e-0718230b3369",
   "metadata": {},
   "outputs": [],
   "source": [
    "import random\n",
    "import pennylane as qml\n",
    "\n",
    "dev = qml.device(\"default.qubit\", wires=[0, 1, 2, 3, 4, 5])\n",
    "\n",
    "@qml.qnode(dev)\n",
    "def circuit(t1, t2, t3):\n",
    "    # prepares the reference state |100>\n",
    "    qml.BasisState(np.array([1, 1, 0, 0, 0, 0]), wires=[0, 1, 2, 3, 4, 5])\n",
    "    # applies the single excitations\n",
    "    qml.DoubleExcitation(t1, wires=[0, 1, 2, 3])\n",
    "    qml.DoubleExcitation(t2, wires=[2, 3, 4, 5])\n",
    "    qml.ctrl(qml.SingleExcitation, control=0)(t3, wires=[1, 3])\n",
    "    return qml.state()\n",
    "\n",
    "def new_experiment(params=None, print_outputs=False):\n",
    "    if params is not None:\n",
    "        t1, t2, t3 = params[0], params[1], params[2]\n",
    "    else:\n",
    "        t1, t2, t3 = (random.random()*2*np.pi - np.pi)/2, (random.random()*2*np.pi - np.pi)/2, (random.random()*2*np.pi - np.pi)/2\n",
    "    tensor_state = circuit(t1, t2, t3).reshape(2, 2, 2, 2, 2, 2)\n",
    "    \n",
    "    a = tensor_state[1, 1, 0, 0, 0, 0].real\n",
    "    b = tensor_state[0, 0, 1, 1, 0, 0].real\n",
    "    c = tensor_state[0, 0, 0, 0, 1, 1].real\n",
    "    d = tensor_state[1, 0, 0, 1, 0, 0].real\n",
    "    \n",
    "    Z = np.arctan(-d / a)\n",
    "    Y = np.arctan(-c / b)\n",
    "    X = np.arctan(-(c*np.sin(Z))/(d*np.sin(Y)))\n",
    "    \n",
    "    if print_outputs:\n",
    "        print(f\"theta_1, theta_2, theta_3 = {t1},{t2},{t3}\")\n",
    "        print()\n",
    "        print(\"Amplitude of state |110000> = \", tensor_state[1, 1, 0, 0, 0, 0].real)\n",
    "        print(\"Amplitude of state |001100> = \", tensor_state[0, 0, 1, 1, 0, 0].real)\n",
    "        print(\"Amplitude of state |000011> = \", tensor_state[0, 0, 0, 0, 1, 1].real)\n",
    "        print(\"Amplitude of state |100100> = \", tensor_state[1, 0, 0, 1, 0, 0].real)\n",
    "        print()\n",
    "        print(\"a\", a)\n",
    "        print(\"b\", b)\n",
    "        print(\"c\", c)\n",
    "        print(\"d\", d)\n",
    "        print()\n",
    "        print(f\"Real theta_1    : {t1}\")\n",
    "        print(f\"Estimate theta_1: {X*2}\")\n",
    "        print(f\"Real theta_2    : {t2}\")\n",
    "        print(f\"Estimate theta_2: {Y*2}\")\n",
    "        print(f\"Real theta_3    : {t3}\")\n",
    "        print(f\"Estimate theta_3: {Z*2}\")\n",
    "        print()\n",
    "    \n",
    "    if np.round(X*2, 6) == np.round(t1, 6) and np.round(Y*2, 6) == np.round(t2, 6) and np.round(Z*2, 6) == np.round(t3, 6):\n",
    "        print(f\"Found the angles {X*2},{Y*2},{Z*2}!!!!\")\n",
    "    else:\n",
    "        print(\"Couldn't find the angles : (\")\n",
    "        print_outputs = True"
   ]
  },
  {
   "cell_type": "code",
   "execution_count": 5,
   "id": "7f113550-d5b8-40b9-83ce-727fccc49fa8",
   "metadata": {},
   "outputs": [
    {
     "name": "stdout",
     "output_type": "stream",
     "text": [
      "theta_1, theta_2, theta_3 = -0.36486066102021986,-0.3581602934776127,-0.08614443586073484\n",
      "\n",
      "Amplitude of state |110000> =  0.9824936127035108\n",
      "Amplitude of state |001100> =  0.17851882961867488\n",
      "Amplitude of state |000011> =  0.03231536705879838\n",
      "Amplitude of state |100100> =  0.04234436822338739\n",
      "\n",
      "a 0.9824936127035108\n",
      "b 0.17851882961867488\n",
      "c 0.03231536705879838\n",
      "d 0.04234436822338739\n",
      "\n",
      "Real theta_1    : -0.36486066102021986\n",
      "Estimate theta_1: -0.36486066102021975\n",
      "Real theta_2    : -0.3581602934776127\n",
      "Estimate theta_2: -0.3581602934776127\n",
      "Real theta_3    : -0.08614443586073484\n",
      "Estimate theta_3: -0.08614443586073481\n",
      "\n",
      "Found the angles -0.36486066102021975,-0.3581602934776127,-0.08614443586073481!!!!\n"
     ]
    }
   ],
   "source": [
    "new_experiment(print_outputs=True)"
   ]
  },
  {
   "cell_type": "code",
   "execution_count": null,
   "id": "13710d20-cbc6-4f53-9165-1b67ad4b450b",
   "metadata": {},
   "outputs": [],
   "source": []
  }
 ],
 "metadata": {
  "kernelspec": {
   "display_name": "PennyLane",
   "language": "python",
   "name": "pennylane"
  },
  "language_info": {
   "codemirror_mode": {
    "name": "ipython",
    "version": 3
   },
   "file_extension": ".py",
   "mimetype": "text/x-python",
   "name": "python",
   "nbconvert_exporter": "python",
   "pygments_lexer": "ipython3",
   "version": "3.9.15"
  }
 },
 "nbformat": 4,
 "nbformat_minor": 5
}
