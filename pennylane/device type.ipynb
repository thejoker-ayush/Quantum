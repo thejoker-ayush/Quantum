{
 "cells": [
  {
   "cell_type": "code",
   "execution_count": 1,
   "id": "921062a1-2e77-45c7-a908-c1287c962dfc",
   "metadata": {},
   "outputs": [],
   "source": [
    "import pennylane as qml\n",
    "from pennylane import numpy as np"
   ]
  },
  {
   "cell_type": "code",
   "execution_count": 2,
   "id": "88186e14-a5c8-4454-aea7-0bfaec27266d",
   "metadata": {},
   "outputs": [],
   "source": [
    "def matrix_norm(mixed_state, pure_state):\n",
    "    \"\"\"Computes the matrix one-norm of the difference between mixed and pure states.\n",
    "\n",
    "    Args:\n",
    "        - mixed_state (np.tensor): A density matrix\n",
    "        - pure_state (np.tensor): A pure state\n",
    "\n",
    "    Returns:\n",
    "        - (float): The matrix one-norm\n",
    "    \"\"\"\n",
    "\n",
    "    return np.sum(np.abs(mixed_state - np.outer(pure_state, np.conj(pure_state))))\n",
    "\n",
    "def compare_circuits(num_wires, params):\n",
    "    \"\"\"Function that returns the matrix norm between the mixed- and pure-state versions of the same state.\n",
    "\n",
    "    Args:\n",
    "        - num_wires (int): The number of qubits / wires\n",
    "        - params (list(np.ndarray)): Two arrays with num_wires floats that correspond to angles of y-rotations\n",
    "        for each wire\n",
    "\n",
    "    Returns:\n",
    "        - mat_norm (float): The matrix one-norm\n",
    "    \"\"\"\n",
    "\n",
    "    # QHACK #\n",
    "    dev1 = qml.device(\"default.qubit\", wires=num_wires)\n",
    "    dev2 = qml.device(\"default.qubit\", wires=num_wires)\n",
    "\n",
    "    @qml.qnode(dev1)\n",
    "    def pure_circuit():\n",
    "        \"\"\"A circuit that contains `num_wires` y-rotation gates.\n",
    "        The argument params[0] are the parameters you should use here to define the y-rotations.\n",
    "\n",
    "        Returns:\n",
    "            - (np.tensor): A state vector\n",
    "        \"\"\"\n",
    "        for i in range(0, num_wires):\n",
    "            qml.RY(params[0][i], wires=i)\n",
    "        return qml.state()\n",
    "\n",
    "    @qml.qnode(dev2, diff_method=\"backprop\")\n",
    "    def mixed_circuit():\n",
    "        \"\"\"A circuit that contains `num_wires` y-rotation gates.\n",
    "        The argument params[1] are the parameters you should use here to define the y-rotations.\n",
    "\n",
    "        Returns:\n",
    "            - (np.tensor): A density matrix\n",
    "        \"\"\"\n",
    "        for i in range(0, num_wires):\n",
    "            qml.RY(params[1][i], wires=i)\n",
    "        return qml.density_matrix([x for x in range(0, num_wires)])\n",
    "\n",
    "    # QHACK #\n",
    "\n",
    "    # DO NOT MODIFY any of the next lines in this scope\n",
    "    mixed_state = mixed_circuit()\n",
    "    pure_state = pure_circuit()\n",
    "    mat_norm = matrix_norm(mixed_state, pure_state)\n",
    "\n",
    "    return mat_norm"
   ]
  },
  {
   "cell_type": "code",
   "execution_count": 3,
   "id": "03fbbbfb-9f67-48bc-8b38-cc530eae9136",
   "metadata": {},
   "outputs": [
    {
     "name": "stdout",
     "output_type": "stream",
     "text": [
      "1.765778\n"
     ]
    }
   ],
   "source": [
    "inputs = \"2, 0.17085641, 4.69202289, 0.4478956, 3.69402896\".split(\",\")\n",
    "num_wires = int(inputs[0])\n",
    "l = int(len(inputs[1:]) / 2)\n",
    "params = [\n",
    "    np.array(inputs[1 : (l + 1)], dtype=float),  # for pure circuit\n",
    "    np.array(inputs[(l + 1) :], dtype=float),  # for mixed circuit\n",
    "]\n",
    "\n",
    "output = compare_circuits(num_wires, params)\n",
    "print(f\"{output:.6f}\")"
   ]
  },
  {
   "cell_type": "code",
   "execution_count": null,
   "id": "09993181-8f5b-4cfa-9bb5-f89bd5a19c39",
   "metadata": {},
   "outputs": [],
   "source": []
  }
 ],
 "metadata": {
  "kernelspec": {
   "display_name": "PennyLane",
   "language": "python",
   "name": "pennylane"
  },
  "language_info": {
   "codemirror_mode": {
    "name": "ipython",
    "version": 3
   },
   "file_extension": ".py",
   "mimetype": "text/x-python",
   "name": "python",
   "nbconvert_exporter": "python",
   "pygments_lexer": "ipython3",
   "version": "3.9.15"
  }
 },
 "nbformat": 4,
 "nbformat_minor": 5
}
