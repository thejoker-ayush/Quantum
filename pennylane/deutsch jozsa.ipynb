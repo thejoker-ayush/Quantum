{
 "cells": [
  {
   "cell_type": "code",
   "execution_count": 1,
   "id": "1ab162e5-0dbd-4302-ac33-e478998f61ac",
   "metadata": {},
   "outputs": [],
   "source": [
    "import pennylane as qml\n",
    "from pennylane import numpy as np"
   ]
  },
  {
   "cell_type": "code",
   "execution_count": 2,
   "id": "f9223dc5-3a23-45cc-b094-b2bad0afdf1c",
   "metadata": {},
   "outputs": [],
   "source": [
    "def deutsch_jozsa(oracle):\n",
    "    \"\"\"This function will determine whether an oracle defined by a function f is constant or balanced.\n",
    "\n",
    "    Args:\n",
    "        - oracle (function): Encoding of the f function as a quantum gate. The first two qubits refer to the input and the third to the output.\n",
    "\n",
    "    Returns:\n",
    "        - (str): \"constant\" or \"balanced\"\n",
    "    \"\"\"\n",
    "\n",
    "    dev = qml.device(\"default.qubit\", wires=3, shots=1)\n",
    "\n",
    "    @qml.qnode(dev)\n",
    "    def circuit():\n",
    "        \"\"\"Implements the Deutsch Jozsa algorithm.\"\"\"\n",
    "\n",
    "        # QHACK #\n",
    "\n",
    "        # Insert any pre-oracle processing here\n",
    "        qml.Hadamard(wires=0)\n",
    "        qml.Hadamard(wires=1)\n",
    "        qml.PauliX(wires=2)\n",
    "        qml.Hadamard(wires=2)\n",
    "\n",
    "        oracle()  # DO NOT MODIFY this line\n",
    "\n",
    "        # Insert any post-oracle processing here\n",
    "        qml.Hadamard(wires=0)\n",
    "        qml.Hadamard(wires=1)\n",
    "\n",
    "        # QHACK #\n",
    "\n",
    "        return qml.sample(wires=range(2))\n",
    "\n",
    "    sample = circuit()\n",
    "\n",
    "\n",
    "    # QHACK #\n",
    "\n",
    "    # From `sample` (a single call to the circuit), determine whether the function is constant or balanced.\n",
    "    if sum(sample) == 0:\n",
    "        return \"constant\"\n",
    "    else:\n",
    "        return \"balanced\""
   ]
  },
  {
   "cell_type": "code",
   "execution_count": 3,
   "id": "8a8d4e52-b788-4b96-a3bb-9aea7755fde0",
   "metadata": {},
   "outputs": [
    {
     "name": "stdout",
     "output_type": "stream",
     "text": [
      "balanced\n"
     ]
    }
   ],
   "source": [
    "inputs = \"0\".split(\",\")\n",
    "numbers = [int(i) for i in inputs]\n",
    "\n",
    "def oracle():\n",
    "    for i in numbers:\n",
    "        qml.CNOT(wires=[i, 2])\n",
    "\n",
    "output = deutsch_jozsa(oracle)\n",
    "print(output)"
   ]
  },
  {
   "cell_type": "code",
   "execution_count": 4,
   "id": "8aa4f95c-9a0b-4b1a-bb6a-d9500b972f83",
   "metadata": {},
   "outputs": [
    {
     "name": "stdout",
     "output_type": "stream",
     "text": [
      "constant\n"
     ]
    }
   ],
   "source": [
    "inputs = \"1,1\".split(\",\")\n",
    "numbers = [int(i) for i in inputs]\n",
    "\n",
    "def oracle():\n",
    "    for i in numbers:\n",
    "        qml.CNOT(wires=[i, 2])\n",
    "\n",
    "output = deutsch_jozsa(oracle)\n",
    "print(output)"
   ]
  },
  {
   "cell_type": "code",
   "execution_count": null,
   "id": "3b61272e-ea84-4f2b-b436-d2718761ac0d",
   "metadata": {},
   "outputs": [],
   "source": []
  }
 ],
 "metadata": {
  "kernelspec": {
   "display_name": "PennyLane",
   "language": "python",
   "name": "pennylane"
  },
  "language_info": {
   "codemirror_mode": {
    "name": "ipython",
    "version": 3
   },
   "file_extension": ".py",
   "mimetype": "text/x-python",
   "name": "python",
   "nbconvert_exporter": "python",
   "pygments_lexer": "ipython3",
   "version": "3.9.15"
  }
 },
 "nbformat": 4,
 "nbformat_minor": 5
}
