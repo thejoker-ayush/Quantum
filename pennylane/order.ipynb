{
 "cells": [
  {
   "cell_type": "code",
   "execution_count": 1,
   "id": "0d0ee796-93d5-457f-8d8f-9fb87f3f3982",
   "metadata": {},
   "outputs": [],
   "source": [
    "import sys\n",
    "import pennylane as qml\n",
    "from pennylane import numpy as np"
   ]
  },
  {
   "cell_type": "code",
   "execution_count": 2,
   "id": "0c1f21bb-3c4d-4180-a3ad-53082feae111",
   "metadata": {},
   "outputs": [],
   "source": [
    "def compare_circuits(angles):\n",
    "    \"\"\"Given two angles, compare two circuit outputs that have their order of operations flipped: RX then RY VERSUS RY then RX.\n",
    "    Args:\n",
    "        - angles (np.ndarray): Two angles\n",
    "    Returns:\n",
    "        - (float): | < \\sigma^x >_1 - < \\sigma^x >_2 |\n",
    "    \"\"\"\n",
    "\n",
    "    # QHACK #\n",
    "\n",
    "    # Initialize the device\n",
    "    num_wires = 1\n",
    "    dev = qml.device('default.qubit', wires=num_wires)\n",
    "\n",
    "    # Create circuit 1 and generate its output\n",
    "    @qml.qnode(dev)\n",
    "    def circuit1(angles):\n",
    "        qml.RX(angles[0], wires=0)\n",
    "        qml.RY(angles[1], wires=0)\n",
    "        return qml.expval(qml.PauliX(0))\n",
    "    out1 = float(circuit1(angles))\n",
    "\n",
    "    # Create circuit 2 and generate its output\n",
    "    @qml.qnode(dev)\n",
    "    def circuit2(angles):\n",
    "        qml.RY(angles[1], wires=0)\n",
    "        qml.RX(angles[0], wires=0)\n",
    "        return qml.expval(qml.PauliX(0))\n",
    "    out2 = float(circuit2(angles))\n",
    "\n",
    "    # Calculate absolute difference of outputs\n",
    "    absdif = abs(out1 - out2)\n",
    "    # QHACK #\n",
    "\n",
    "    return absdif"
   ]
  },
  {
   "cell_type": "code",
   "execution_count": 3,
   "id": "a30fac03-7ab4-41af-b7dc-b5c614eb2ac4",
   "metadata": {},
   "outputs": [
    {
     "name": "stdout",
     "output_type": "stream",
     "text": [
      "For angles 3.79894785 and 0.71678115 the output difference is 1.1770191366358604\n"
     ]
    }
   ],
   "source": [
    "# Here we check the inputs of 1.in\n",
    "angles = 3.79894785, 0.71678115\n",
    "angles = np.array(angles, dtype=float)\n",
    "output = compare_circuits(angles)\n",
    "print(f\"For angles {angles[0]} and {angles[1]} the output difference is {output}\")"
   ]
  },
  {
   "cell_type": "code",
   "execution_count": null,
   "id": "ec4e37a1-2664-447e-8671-ab4e1ba716b0",
   "metadata": {},
   "outputs": [],
   "source": []
  }
 ],
 "metadata": {
  "kernelspec": {
   "display_name": "PennyLane",
   "language": "python",
   "name": "pennylane"
  },
  "language_info": {
   "codemirror_mode": {
    "name": "ipython",
    "version": 3
   },
   "file_extension": ".py",
   "mimetype": "text/x-python",
   "name": "python",
   "nbconvert_exporter": "python",
   "pygments_lexer": "ipython3",
   "version": "3.9.15"
  }
 },
 "nbformat": 4,
 "nbformat_minor": 5
}
