{
 "cells": [
  {
   "cell_type": "code",
   "execution_count": 1,
   "id": "0e0f616a-d03c-429e-8d0b-467b9247fa24",
   "metadata": {},
   "outputs": [],
   "source": [
    "import pennylane as qml\n",
    "from pennylane import numpy as np\n",
    "from pennylane.templates import QuantumPhaseEstimation\n",
    "\n",
    "dev = qml.device(\"default.qubit\", wires=8)"
   ]
  },
  {
   "cell_type": "code",
   "execution_count": 2,
   "id": "1b171256-bbb4-450d-8232-7cd120f4b548",
   "metadata": {},
   "outputs": [],
   "source": [
    "def diffusion_matrix():\n",
    "\n",
    "    # DO NOT MODIFY anything in this code block\n",
    "\n",
    "    psi_piece = (1 / 2 ** 4) * np.ones(2 ** 4)\n",
    "    ident_piece = np.eye(2 ** 4)\n",
    "    return 2 * psi_piece - ident_piece\n",
    "\n",
    "\n",
    "def grover_operator(indices):\n",
    "\n",
    "    # DO NOT MODIFY anything in this code block\n",
    "\n",
    "    return np.dot(diffusion_matrix(), oracle_matrix(indices))"
   ]
  },
  {
   "cell_type": "code",
   "execution_count": 3,
   "id": "eb75848d-abd9-45ae-a5e1-4537bf7102fc",
   "metadata": {},
   "outputs": [],
   "source": [
    "def oracle_matrix(indices):\n",
    "    \"\"\"Return the oracle matrix for a secret combination.\n",
    "    Args:\n",
    "        - indices (list(int)): A list of bit indices (e.g. [0,3]) representing the elements that are map to 1.\n",
    "    Returns:\n",
    "        - (np.ndarray): The matrix representation of the oracle\n",
    "    \"\"\"\n",
    "\n",
    "    # QHACK #\n",
    "    # Create diagonal matrix\n",
    "    my_array = np.eye(2 ** 4)\n",
    "    # Set elements indicated by index to -1 along the diagonal\n",
    "    for i in indices:\n",
    "      my_array[i, i] = -1\n",
    "    # QHACK #\n",
    "    return my_array"
   ]
  },
  {
   "cell_type": "code",
   "execution_count": 4,
   "id": "1d17ebb4-7081-4381-a230-249bf5a0c4fb",
   "metadata": {},
   "outputs": [],
   "source": [
    "@qml.qnode(dev)\n",
    "def circuit(indices):\n",
    "    \"\"\"Return the probabilities of each basis state after applying QPE to the Grover operator\n",
    "    Args:\n",
    "        - indices (list(int)): A list of bits representing the elements that map to 1.\n",
    "    Returns:\n",
    "        - (np.tensor): Probabilities of measuring each computational basis state\n",
    "    \"\"\"\n",
    "\n",
    "    # QHACK #\n",
    "\n",
    "    target_wires = [0, 1, 2, 3]\n",
    "\n",
    "    estimation_wires = [4, 5, 6, 7]\n",
    "\n",
    "    # Build your circuit here\n",
    "    # Intitialize all qubits to |+>\n",
    "    for i in range(4):\n",
    "      qml.Hadamard(wires = i)\n",
    "    # Do  QPE om the grover operator\n",
    "    qml.QuantumPhaseEstimation(\n",
    "        grover_operator(indices), target_wires, estimation_wires\n",
    "    )\n",
    "    # QHACK #\n",
    "    return qml.probs(estimation_wires)"
   ]
  },
  {
   "cell_type": "code",
   "execution_count": 5,
   "id": "05afaf00-5a51-4b86-8b7d-c175e74d512c",
   "metadata": {},
   "outputs": [],
   "source": [
    "def number_of_solutions(indices):\n",
    "    \"\"\"Implement the formula given in the problem statement to find the number of solutions from the output of your circuit\n",
    "    Args:\n",
    "        - indices (list(int)): A list of bits representing the elements that map to 1.\n",
    "    Returns:\n",
    "        - (float): number of elements as estimated by the quantum counting algorithm\n",
    "    \"\"\"\n",
    "\n",
    "    # QHACK #\n",
    "    results = circuit(indices)\n",
    "    # Calculate M according to formula\n",
    "    theta = np.argmax(results) * np.pi / 8\n",
    "    M = 16 * (np.sin(theta/2) ** 2)\n",
    "    # QHACK #\n",
    "    return M"
   ]
  },
  {
   "cell_type": "code",
   "execution_count": 6,
   "id": "c1f55dd4-e258-4e71-a89d-cb253a4fce57",
   "metadata": {},
   "outputs": [],
   "source": [
    "def relative_error(indices):\n",
    "    \"\"\"Calculate the relative error of the quantum counting estimation\n",
    "    Args:\n",
    "        - indices (list(int)): A list of bits representing the elements that map to 1.\n",
    "    Returns: \n",
    "        - (float): relative error\n",
    "    \"\"\"\n",
    "    # QHACK #\n",
    "    num_sol = number_of_solutions(indices)\n",
    "    # Calculate rel error according to formula\n",
    "    rel_err = (num_sol - len(indices))/(len(indices))\n",
    "    # QHACK #\n",
    "    return rel_err * 100"
   ]
  },
  {
   "cell_type": "code",
   "execution_count": 7,
   "id": "6651ab89-7b1c-49f2-8172-0597839d1980",
   "metadata": {},
   "outputs": [
    {
     "name": "stdout",
     "output_type": "stream",
     "text": [
      "-21.895141649746005\n"
     ]
    }
   ],
   "source": [
    "inputs = [0,1,3]\n",
    "lst=[int(i) for i in inputs]\n",
    "output = relative_error(lst)\n",
    "print(f\"{output}\")"
   ]
  },
  {
   "cell_type": "code",
   "execution_count": 8,
   "id": "f9782e2a-983b-4187-ad26-498cd5026882",
   "metadata": {},
   "outputs": [
    {
     "name": "stdout",
     "output_type": "stream",
     "text": [
      "-1.229349178414374\n"
     ]
    }
   ],
   "source": [
    "inputs = [0,2,3,5,6]\n",
    "lst=[int(i) for i in inputs]\n",
    "output = relative_error(lst)\n",
    "print(f\"{output}\")"
   ]
  },
  {
   "cell_type": "code",
   "execution_count": null,
   "id": "ad4253f0-1c42-4843-ab79-fe18f30a7291",
   "metadata": {},
   "outputs": [],
   "source": []
  }
 ],
 "metadata": {
  "kernelspec": {
   "display_name": "PennyLane",
   "language": "python",
   "name": "pennylane"
  },
  "language_info": {
   "codemirror_mode": {
    "name": "ipython",
    "version": 3
   },
   "file_extension": ".py",
   "mimetype": "text/x-python",
   "name": "python",
   "nbconvert_exporter": "python",
   "pygments_lexer": "ipython3",
   "version": "3.9.15"
  }
 },
 "nbformat": 4,
 "nbformat_minor": 5
}
