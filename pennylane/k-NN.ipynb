{
 "cells": [
  {
   "cell_type": "code",
   "execution_count": 1,
   "id": "5b97a9c3-415a-4354-a2be-c304f4f3caf1",
   "metadata": {},
   "outputs": [],
   "source": [
    "from pennylane import numpy as np\n",
    "import pennylane as qml"
   ]
  },
  {
   "cell_type": "code",
   "execution_count": 3,
   "id": "3b046de9-7fe0-48fc-b158-c9c489bd6c3d",
   "metadata": {},
   "outputs": [],
   "source": [
    "def distance(A, B):\n",
    "    \"\"\"Function that returns the distance between two vectors.\n",
    "\n",
    "    Args:\n",
    "        - A (list[int]): person's information: [age, minutes spent watching TV].\n",
    "        - B (list[int]): person's information: [age, minutes spent watching TV].\n",
    "\n",
    "    Returns:\n",
    "        - (float): distance between the two feature vectors.\n",
    "    \"\"\"\n",
    "\n",
    "    # QHACK #\n",
    "\n",
    "    # The Swap test is a method that allows you to calculate ||^2 , you could use it to help you.\n",
    "    # The qml.AmplitudeEmbedding operator could help you too.\n",
    "\n",
    "    dev = qml.device(\"default.qubit\", 3)\n",
    "    @qml.qnode(dev)\n",
    "    def circuit():\n",
    "        # We use Mottonen state preparation https://arxiv.org/pdf/quant-ph/0504100.pdf to set each qubit into a normalized representation of each data point\n",
    "        qml.templates.state_preparations.MottonenStatePreparation([A[0]/np.sqrt(A[0]**2 + A[1]**2), A[1]/np.sqrt(A[0]**2 + A[1]**2)], wires = 1)\n",
    "        qml.templates.state_preparations.MottonenStatePreparation([B[0]/np.sqrt(B[0]**2 + B[1]**2), B[1]/np.sqrt(B[0]**2 + B[1]**2)], wires = 2)\n",
    "        qml.Hadamard(wires = 0)\n",
    "        qml.CSWAP(wires = [0, 1, 2])\n",
    "        qml.Hadamard(wires = 0)\n",
    "        return qml.probs(wires = 0)\n",
    "\n",
    "    # QHACK #\n",
    "    # Calculate inner product\n",
    "    circ_result = circuit()[0]\n",
    "    swap_test_sq = 2*circ_result - 1\n",
    "    inner_product =  np.sqrt(swap_test_sq)\n",
    "    # Calcualte distance\n",
    "    distance = np.sqrt(2 * (1 - inner_product))\n",
    "    return distance"
   ]
  },
  {
   "cell_type": "code",
   "execution_count": 4,
   "id": "77d516dc-f861-4fd0-a08e-3c5b2ba51541",
   "metadata": {},
   "outputs": [],
   "source": [
    "def predict(dataset, new, k):\n",
    "    \"\"\"Function that given a dataset, determines if a new person do like Beatles or not.\n",
    "\n",
    "    Args:\n",
    "        - dataset (list): List with the age, minutes that different people watch TV, and if they like Beatles.\n",
    "        - new (list(int)): Age and TV minutes of the person we want to classify.\n",
    "        - k (int): number of nearby neighbors to be taken into account.\n",
    "\n",
    "    Returns:\n",
    "        - (str): \"YES\" if they like Beatles, \"NO\" otherwise.\n",
    "    \"\"\"\n",
    "\n",
    "    # DO NOT MODIFY anything in this code block\n",
    "\n",
    "    def k_nearest_classes():\n",
    "        \"\"\"Function that returns a list of k near neighbors.\"\"\"\n",
    "        distances = []\n",
    "        for data in dataset:\n",
    "            distances.append(distance(data[0], new))\n",
    "        nearest = []\n",
    "        for _ in range(k):\n",
    "            indx = np.argmin(distances)\n",
    "            nearest.append(indx)\n",
    "            distances[indx] += 2\n",
    "\n",
    "        return [dataset[i][1] for i in nearest]\n",
    "\n",
    "    output = k_nearest_classes()\n",
    "\n",
    "    return (\n",
    "        \"YES\" if len([i for i in output if i == \"YES\"]) > len(output) / 2 else \"NO\",\n",
    "        float(distance(dataset[0][0], new)),\n",
    "    )"
   ]
  },
  {
   "cell_type": "code",
   "execution_count": 5,
   "id": "5f20ba83-b95a-47f9-8e8b-5f9b3d3b847b",
   "metadata": {},
   "outputs": [
    {
     "name": "stdout",
     "output_type": "stream",
     "text": [
      "0,0.42105289865559953\n"
     ]
    }
   ],
   "source": [
    "inputs = \"23,150,1,13,20,YES,24,200,YES,14,130,NO,50,20,NO\".split(\",\")\n",
    "dataset = []\n",
    "new = [int(inputs[0]), int(inputs[1])]\n",
    "k = int(inputs[2])\n",
    "for i in range(3, len(inputs), 3):\n",
    "    dataset.append([[int(inputs[i + 0]), int(inputs[i + 1])], str(inputs[i + 2])])\n",
    "\n",
    "output = predict(dataset, new, k)\n",
    "sol = 0 if output[0] == \"YES\" else 1\n",
    "print(f\"{sol},{output[1]}\")"
   ]
  },
  {
   "cell_type": "code",
   "execution_count": 6,
   "id": "7fd746f2-6370-4761-8114-d4c71d51b280",
   "metadata": {},
   "outputs": [
    {
     "name": "stdout",
     "output_type": "stream",
     "text": [
      "0,0.9264606253589674\n"
     ]
    }
   ],
   "source": [
    "inputs = \"23,10,1,20,100,YES,25,20,YES,14,130,NO,50,20,YES,60,300,YES,45,30,NO,33,20,NO\".split(\",\")\n",
    "dataset = []\n",
    "new = [int(inputs[0]), int(inputs[1])]\n",
    "k = int(inputs[2])\n",
    "for i in range(3, len(inputs), 3):\n",
    "    dataset.append([[int(inputs[i + 0]), int(inputs[i + 1])], str(inputs[i + 2])])\n",
    "\n",
    "output = predict(dataset, new, k)\n",
    "sol = 0 if output[0] == \"YES\" else 1\n",
    "print(f\"{sol},{output[1]}\")"
   ]
  },
  {
   "cell_type": "code",
   "execution_count": null,
   "id": "5e9ed5d6-0d39-42b8-b1f4-c1a4fdec8d1f",
   "metadata": {},
   "outputs": [],
   "source": []
  }
 ],
 "metadata": {
  "kernelspec": {
   "display_name": "PennyLane",
   "language": "python",
   "name": "pennylane"
  },
  "language_info": {
   "codemirror_mode": {
    "name": "ipython",
    "version": 3
   },
   "file_extension": ".py",
   "mimetype": "text/x-python",
   "name": "python",
   "nbconvert_exporter": "python",
   "pygments_lexer": "ipython3",
   "version": "3.9.15"
  }
 },
 "nbformat": 4,
 "nbformat_minor": 5
}
