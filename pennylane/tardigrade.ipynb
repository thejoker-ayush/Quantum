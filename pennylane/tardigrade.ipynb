{
 "cells": [
  {
   "cell_type": "code",
   "execution_count": 1,
   "id": "5a9eeada-1ad9-46c0-9d6f-f856f378848f",
   "metadata": {},
   "outputs": [],
   "source": [
    "import pennylane as qml\n",
    "from pennylane import numpy as np"
   ]
  },
  {
   "cell_type": "code",
   "execution_count": 2,
   "id": "57c16d63-b724-40b9-8df0-9e28a68429c1",
   "metadata": {},
   "outputs": [],
   "source": [
    "def second_renyi_entropy(rho):\n",
    "    \"\"\"Computes the second Renyi entropy of a given density matrix.\"\"\"\n",
    "    # DO NOT MODIFY anything in this code block\n",
    "    rho_diag_2 = np.diagonal(rho) ** 2.0\n",
    "    return -np.real(np.log(np.sum(rho_diag_2)))\n",
    "\n",
    "\n",
    "def compute_entanglement(theta):\n",
    "    \"\"\"Computes the second Renyi entropy of circuits with and without a tardigrade present.\n",
    "\n",
    "    Args:\n",
    "        - theta (float): the angle that defines the state psi_ABT\n",
    "\n",
    "    Returns:\n",
    "        - (float): The entanglement entropy of qubit B with no tardigrade\n",
    "        initially present\n",
    "        - (float): The entanglement entropy of qubit B where the tardigrade\n",
    "        was initially present\n",
    "    \"\"\"\n",
    "\n",
    "    dev = qml.device(\"default.qubit\", wires=3)\n",
    "\n",
    "    # QHACK #\n",
    "    G = np.identity(4)\n",
    "    G[1, 1] = np.cos(theta / 2)\n",
    "    G[1, 2] = np.sin(theta / 2)\n",
    "    G[2, 1] = -np.sin(theta / 2)\n",
    "    G[2, 2] = np.cos(theta / 2)\n",
    "\n",
    "    # QHACK #\n",
    "    @qml.qnode(dev)\n",
    "    def circuit_ab():\n",
    "        # Prepare maximally entangled state\n",
    "        qml.Hadamard(wires=0)\n",
    "        qml.PauliX(wires=1)\n",
    "        qml.CNOT(wires=[0, 1])\n",
    "        # return qml.state()\n",
    "        return qml.density_matrix([1])\n",
    "\n",
    "    @qml.qnode(dev)\n",
    "    def circuit_abt():\n",
    "        # Prepare maximally entangled state\n",
    "        qml.Hadamard(wires=0)\n",
    "        qml.PauliX(wires=1)\n",
    "        qml.CNOT(wires=[0, 1])\n",
    "        # Add tardigrade entanglement\n",
    "        qml.QubitUnitary(G, wires=[1, 2])\n",
    "        return qml.density_matrix([1])\n",
    "\n",
    "    return second_renyi_entropy(circuit_ab()), second_renyi_entropy(circuit_abt())"
   ]
  },
  {
   "cell_type": "code",
   "execution_count": 3,
   "id": "06424eca-a783-49e6-8242-67fc9209efc6",
   "metadata": {},
   "outputs": [
    {
     "name": "stdout",
     "output_type": "stream",
     "text": [
      "0.6931471805599457,0.6730064814954019\n"
     ]
    }
   ],
   "source": [
    "theta = np.array(0.7745598277086928, dtype=float)\n",
    "\n",
    "S2_without_tardigrade, S2_with_tardigrade = compute_entanglement(theta)\n",
    "print(*[S2_without_tardigrade, S2_with_tardigrade], sep=\",\")"
   ]
  },
  {
   "cell_type": "code",
   "execution_count": null,
   "id": "38695911-ecde-4767-9ed3-c70185145ef1",
   "metadata": {},
   "outputs": [],
   "source": []
  }
 ],
 "metadata": {
  "kernelspec": {
   "display_name": "PennyLane",
   "language": "python",
   "name": "pennylane"
  },
  "language_info": {
   "codemirror_mode": {
    "name": "ipython",
    "version": 3
   },
   "file_extension": ".py",
   "mimetype": "text/x-python",
   "name": "python",
   "nbconvert_exporter": "python",
   "pygments_lexer": "ipython3",
   "version": "3.9.15"
  }
 },
 "nbformat": 4,
 "nbformat_minor": 5
}
