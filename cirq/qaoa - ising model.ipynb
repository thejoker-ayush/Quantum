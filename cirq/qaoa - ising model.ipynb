{
 "cells": [
  {
   "cell_type": "code",
   "execution_count": 1,
   "id": "6315b436",
   "metadata": {},
   "outputs": [],
   "source": [
    "import cirq\n",
    "from typing import Sequence, Tuple\n",
    "import numpy as np\n",
    "import sympy\n",
    "import matplotlib.pyplot as plt"
   ]
  },
  {
   "cell_type": "code",
   "execution_count": 2,
   "id": "3f9e2aa6",
   "metadata": {},
   "outputs": [
    {
     "name": "stdout",
     "output_type": "stream",
     "text": [
      "a: ───ZZ───────\n",
      "      │\n",
      "b: ───ZZ^0.3───\n"
     ]
    }
   ],
   "source": [
    "\"\"\"Example of using the ZZ gate.\"\"\"\n",
    "# Get two qubits.\n",
    "a = cirq.NamedQubit(\"a\")\n",
    "b = cirq.NamedQubit(\"b\")\n",
    "\n",
    "# Pick a value for gamma.\n",
    "gamma = 0.3\n",
    "\n",
    "# Display the circuit.\n",
    "circuit = cirq.Circuit(cirq.ZZ(a, b) ** gamma)\n",
    "print(circuit)"
   ]
  },
  {
   "cell_type": "code",
   "execution_count": 3,
   "id": "0608cb12",
   "metadata": {},
   "outputs": [],
   "source": [
    "\"\"\"Check the unitary of the ZZ gate.\"\"\"\n",
    "# Unitary we want to implement.\n",
    "expected_unitary = np.array(\n",
    "    [\n",
    "        [np.exp(-1j * np.pi * gamma / 2), 0, 0, 0],\n",
    "        [0, np.exp(1j * np.pi * gamma / 2), 0, 0],\n",
    "        [0, 0, np.exp(1j * np.pi * gamma / 2), 0],\n",
    "        [0, 0, 0, np.exp(-1j * np.pi * gamma / 2)],\n",
    "    ]\n",
    ")\n",
    "\n",
    "# Unitary we are implementing.\n",
    "actual_unitary = cirq.unitary(circuit)\n",
    "\n",
    "# Check that they are equal up to global phase.\n",
    "cirq.testing.assert_allclose_up_to_global_phase(\n",
    "    actual_unitary, expected_unitary, atol=1e-5\n",
    ")"
   ]
  },
  {
   "cell_type": "code",
   "execution_count": 4,
   "id": "bd1713cf",
   "metadata": {},
   "outputs": [
    {
     "name": "stdout",
     "output_type": "stream",
     "text": [
      "a: ───Z^0.39───\n"
     ]
    }
   ],
   "source": [
    "\"\"\"Example of using the Z gate.\"\"\"\n",
    "# Value of the external magenetic field.\n",
    "h = 1.3\n",
    "\n",
    "# Display the circuit.\n",
    "circuit = cirq.Circuit(cirq.Z(a) ** (gamma * h))\n",
    "print(circuit)"
   ]
  },
  {
   "cell_type": "code",
   "execution_count": 5,
   "id": "c99770ff",
   "metadata": {},
   "outputs": [],
   "source": [
    "\"\"\"Check the unitary of the Z gate.\"\"\"\n",
    "# Unitary we want to implement.\n",
    "expected_unitary = np.array(\n",
    "    [[np.exp(-1j * np.pi * gamma * h / 2), 0], [0, np.exp(1j * np.pi * gamma * h / 2)]]\n",
    ")\n",
    "\n",
    "# Unitary we are implementing.\n",
    "actual_unitary = cirq.unitary(circuit)\n",
    "\n",
    "# Check that they are equal up to global phase.\n",
    "cirq.testing.assert_allclose_up_to_global_phase(\n",
    "    expected_unitary, actual_unitary, atol=1e-5\n",
    ")"
   ]
  },
  {
   "cell_type": "code",
   "execution_count": 6,
   "id": "909a3d8c",
   "metadata": {},
   "outputs": [],
   "source": [
    "\"\"\"Define problem parameters and get a set of GridQubits.\"\"\"\n",
    "# Set the dimensions of the grid.\n",
    "n_cols = 3\n",
    "n_rows = 3\n",
    "\n",
    "# Set the value of the external magnetic field at each site.\n",
    "h = 0.5 * np.ones((n_rows, n_cols))\n",
    "\n",
    "# Arranging the qubits in a list-of-lists like this makes them easy to refer to later.\n",
    "qubits = [[cirq.GridQubit(i, j) for j in range(n_cols)] for i in range(n_rows)]"
   ]
  },
  {
   "cell_type": "code",
   "execution_count": 7,
   "id": "1b323cf9",
   "metadata": {},
   "outputs": [],
   "source": [
    "def gamma_layer(gamma_value: float, h: np.ndarray) -> Sequence[cirq.Operation]:\n",
    "    \"\"\"Generator for U(gamma, C) layer of QAOA\n",
    "\n",
    "    Args:\n",
    "        gamma: Float variational parameter for the circuit\n",
    "        h: Array of floats of external magnetic field values\n",
    "    \"\"\"\n",
    "    for i in range(n_rows):\n",
    "        for j in range(n_cols):\n",
    "            if i < n_rows - 1:\n",
    "                yield cirq.ZZ(qubits[i][j], qubits[i + 1][j]) ** gamma_value\n",
    "            if j < n_cols - 1:\n",
    "                yield cirq.ZZ(qubits[i][j], qubits[i][j + 1]) ** gamma_value\n",
    "            yield cirq.Z(qubits[i][j]) ** (gamma_value * h[i, j])"
   ]
  },
  {
   "cell_type": "code",
   "execution_count": 8,
   "id": "1d114b3a",
   "metadata": {},
   "outputs": [],
   "source": [
    "def beta_layer(beta_value: float) -> Sequence[cirq.Operation]:\n",
    "    \"\"\"Generator for U(beta, B) layer (mixing layer) of QAOA\"\"\"\n",
    "    for row in qubits:\n",
    "        for qubit in row:\n",
    "            yield cirq.X(qubit) ** beta_value"
   ]
  },
  {
   "cell_type": "code",
   "execution_count": 10,
   "id": "88649460",
   "metadata": {},
   "outputs": [
    {
     "data": {
      "text/html": [
       "<pre style=\"overflow: auto; white-space: pre;\">                                                      ┌──────────────────┐               ┌──────────────────┐\n",
       "(0, 0): ───H───ZZ───────ZZ───────Z^(0.5*𝛄)──────────────────────────────────────────────────────────────────────────────────────────────X^(β)───\n",
       "               │        │\n",
       "(0, 1): ───H───┼────────ZZ^(𝛄)───ZZ──────────ZZ────────Z^(0.5*𝛄)────────────────────────────────────────────────────────────────────────X^(β)───\n",
       "               │                 │           │\n",
       "(0, 2): ───H───┼─────────────────┼───────────ZZ^(𝛄)────ZZ────────────────────Z^(0.5*𝛄)──────────────────────────────────────────────────X^(β)───\n",
       "               │                 │                     │\n",
       "(1, 0): ───H───ZZ^(𝛄)───ZZ───────┼───────────ZZ────────┼────────Z^(0.5*𝛄)───────────────────────────────────────────────────────────────X^(β)───\n",
       "                        │        │           │         │\n",
       "(1, 1): ───H────────────┼────────ZZ^(𝛄)──────ZZ^(𝛄)────┼────────ZZ───────────ZZ───────────Z^(0.5*𝛄)─────────────────────────────────────X^(β)───\n",
       "                        │                              │        │            │\n",
       "(1, 2): ───H────────────┼──────────────────────────────ZZ^(𝛄)───┼────────────ZZ^(𝛄)───────ZZ────────────────────Z^(0.5*𝛄)───────────────X^(β)───\n",
       "                        │                                       │                         │\n",
       "(2, 0): ───H────────────ZZ^(𝛄)──────────────────────────────────┼────────────ZZ───────────┼────────Z^(0.5*𝛄)────────────────────────────X^(β)───\n",
       "                                                                │            │            │\n",
       "(2, 1): ───H────────────────────────────────────────────────────ZZ^(𝛄)───────ZZ^(𝛄)───────┼─────────────────────ZZ──────────Z^(0.5*𝛄)───X^(β)───\n",
       "                                                                                          │                     │\n",
       "(2, 2): ───H──────────────────────────────────────────────────────────────────────────────ZZ^(𝛄)────────────────ZZ^(𝛄)──────Z^(0.5*𝛄)───X^(β)───\n",
       "                                                      └──────────────────┘               └──────────────────┘</pre>"
      ],
      "text/plain": [
       "                                                      ┌──────────────────┐               ┌──────────────────┐\n",
       "(0, 0): ───H───ZZ───────ZZ───────Z^(0.5*𝛄)──────────────────────────────────────────────────────────────────────────────────────────────X^(β)───\n",
       "               │        │\n",
       "(0, 1): ───H───┼────────ZZ^(𝛄)───ZZ──────────ZZ────────Z^(0.5*𝛄)────────────────────────────────────────────────────────────────────────X^(β)───\n",
       "               │                 │           │\n",
       "(0, 2): ───H───┼─────────────────┼───────────ZZ^(𝛄)────ZZ────────────────────Z^(0.5*𝛄)──────────────────────────────────────────────────X^(β)───\n",
       "               │                 │                     │\n",
       "(1, 0): ───H───ZZ^(𝛄)───ZZ───────┼───────────ZZ────────┼────────Z^(0.5*𝛄)───────────────────────────────────────────────────────────────X^(β)───\n",
       "                        │        │           │         │\n",
       "(1, 1): ───H────────────┼────────ZZ^(𝛄)──────ZZ^(𝛄)────┼────────ZZ───────────ZZ───────────Z^(0.5*𝛄)─────────────────────────────────────X^(β)───\n",
       "                        │                              │        │            │\n",
       "(1, 2): ───H────────────┼──────────────────────────────ZZ^(𝛄)───┼────────────ZZ^(𝛄)───────ZZ────────────────────Z^(0.5*𝛄)───────────────X^(β)───\n",
       "                        │                                       │                         │\n",
       "(2, 0): ───H────────────ZZ^(𝛄)──────────────────────────────────┼────────────ZZ───────────┼────────Z^(0.5*𝛄)────────────────────────────X^(β)───\n",
       "                                                                │            │            │\n",
       "(2, 1): ───H────────────────────────────────────────────────────ZZ^(𝛄)───────ZZ^(𝛄)───────┼─────────────────────ZZ──────────Z^(0.5*𝛄)───X^(β)───\n",
       "                                                                                          │                     │\n",
       "(2, 2): ───H──────────────────────────────────────────────────────────────────────────────ZZ^(𝛄)────────────────ZZ^(𝛄)──────Z^(0.5*𝛄)───X^(β)───\n",
       "                                                      └──────────────────┘               └──────────────────┘"
      ]
     },
     "execution_count": 10,
     "metadata": {},
     "output_type": "execute_result"
    }
   ],
   "source": [
    "\"\"\"Create the QAOA circuit.\"\"\"\n",
    "# Use sympy.Symbols for the 𝛾 and β parameters.\n",
    "gamma = sympy.Symbol(\"𝛄\")\n",
    "beta = sympy.Symbol(\"β\")\n",
    "\n",
    "# Start in the H|0> state.\n",
    "qaoa = cirq.Circuit(cirq.H.on_each(qubits))\n",
    "\n",
    "# Implement the U(gamma, C) operator.\n",
    "qaoa.append(gamma_layer(gamma, h))\n",
    "\n",
    "# Implement the U(beta, B) operator.\n",
    "qaoa.append(beta_layer(beta), strategy=cirq.InsertStrategy.NEW_THEN_INLINE)\n",
    "\n",
    "# Display the QAOA circuit.\n",
    "qaoa"
   ]
  },
  {
   "cell_type": "code",
   "execution_count": 11,
   "id": "f768ce6c",
   "metadata": {},
   "outputs": [],
   "source": [
    "def energy_from_wavefunction(wf: np.ndarray, h: np.ndarray) -> float:\n",
    "    \"\"\"Computes the energy-per-site of the Ising model directly from the\n",
    "    a given wavefunction.\n",
    "\n",
    "    Args:\n",
    "        wf: Array of size 2**(n_rows * n_cols) specifying the wavefunction.\n",
    "        h: Array of shape (n_rows, n_cols) giving the magnetic field values.\n",
    "\n",
    "    Returns:\n",
    "        energy: Float equal to the expectation value of the energy per site\n",
    "    \"\"\"\n",
    "    n_sites = n_rows * n_cols\n",
    "\n",
    "    # Z is an array of shape (n_sites, 2**n_sites). Each row consists of the\n",
    "    # 2**n_sites non-zero entries in the operator that is the Pauli-Z matrix on\n",
    "    # one of the qubits times the identities on the other qubits. The\n",
    "    # (i*n_cols + j)th row corresponds to qubit (i,j).\n",
    "    Z = np.array(\n",
    "        [(-1) ** (np.arange(2**n_sites) >> i) for i in range(n_sites - 1, -1, -1)]\n",
    "    )\n",
    "\n",
    "    # Create the operator corresponding to the interaction energy summed over all\n",
    "    # nearest-neighbor pairs of qubits\n",
    "    ZZ_filter = np.zeros_like(wf, dtype=float)\n",
    "    for i in range(n_rows):\n",
    "        for j in range(n_cols):\n",
    "            if i < n_rows - 1:\n",
    "                ZZ_filter += Z[i * n_cols + j] * Z[(i + 1) * n_cols + j]\n",
    "            if j < n_cols - 1:\n",
    "                ZZ_filter += Z[i * n_cols + j] * Z[i * n_cols + (j + 1)]\n",
    "\n",
    "    energy_operator = -ZZ_filter - h.reshape(n_sites).dot(Z)\n",
    "\n",
    "    # Expectation value of the energy divided by the number of sites\n",
    "    return np.sum(np.abs(wf) ** 2 * energy_operator) / n_sites"
   ]
  },
  {
   "cell_type": "code",
   "execution_count": 12,
   "id": "80e1895f",
   "metadata": {},
   "outputs": [],
   "source": [
    "def energy_from_params(\n",
    "    gamma_value: float, beta_value: float, qaoa: cirq.Circuit, h: np.ndarray\n",
    ") -> float:\n",
    "    \"\"\"Returns the energy given values of the parameters.\"\"\"\n",
    "    sim = cirq.Simulator()\n",
    "    params = cirq.ParamResolver({\"𝛄\": gamma_value, \"β\": beta_value})\n",
    "    wf = sim.simulate(qaoa, param_resolver=params).final_state_vector\n",
    "    return energy_from_wavefunction(wf, h)"
   ]
  },
  {
   "cell_type": "code",
   "execution_count": 13,
   "id": "5ef973e8",
   "metadata": {},
   "outputs": [],
   "source": [
    "\"\"\"Do a grid search over values of 𝛄 and β.\"\"\"\n",
    "# Set the grid size and range of parameters.\n",
    "grid_size = 50\n",
    "gamma_max = 2\n",
    "beta_max = 2\n",
    "\n",
    "# Do the grid search.\n",
    "energies = np.zeros((grid_size, grid_size))\n",
    "for i in range(grid_size):\n",
    "    for j in range(grid_size):\n",
    "        energies[i, j] = energy_from_params(\n",
    "            i * gamma_max / grid_size, j * beta_max / grid_size, qaoa, h\n",
    "        )"
   ]
  },
  {
   "cell_type": "code",
   "execution_count": 14,
   "id": "ff189870",
   "metadata": {},
   "outputs": [
    {
     "data": {
      "image/png": "[encoded data removed]",
      "text/plain": [
       "<Figure size 432x288 with 2 Axes>"
      ]
     },
     "metadata": {
      "needs_background": "light"
     },
     "output_type": "display_data"
    }
   ],
   "source": [
    "\"\"\"Plot the energy as a function of the parameters 𝛄 and β found in the grid search.\"\"\"\n",
    "plt.ylabel(r\"$\\gamma$\")\n",
    "plt.xlabel(r\"$\\beta$\")\n",
    "plt.title(\"Energy as a function of parameters\")\n",
    "plt.imshow(energies, extent=(0, beta_max, gamma_max, 0))\n",
    "plt.colorbar()\n",
    "plt.show()"
   ]
  },
  {
   "cell_type": "code",
   "execution_count": 15,
   "id": "bfcde73f",
   "metadata": {},
   "outputs": [],
   "source": [
    "def gradient_energy(\n",
    "    gamma: float, beta: float, qaoa: cirq.Circuit, h: np.ndarray\n",
    ") -> Tuple[float, float]:\n",
    "    \"\"\"Uses a symmetric difference to calulate the gradient.\"\"\"\n",
    "    eps = 10**-3  # Try different values of the discretization parameter\n",
    "\n",
    "    # Gamma-component of the gradient\n",
    "    grad_g = energy_from_params(gamma + eps, beta, qaoa, h)\n",
    "    grad_g -= energy_from_params(gamma - eps, beta, qaoa, h)\n",
    "    grad_g /= 2 * eps\n",
    "\n",
    "    # Beta-compoonent of the gradient\n",
    "    grad_b = energy_from_params(gamma, beta + eps, qaoa, h)\n",
    "    grad_b -= energy_from_params(gamma, beta - eps, qaoa, h)\n",
    "    grad_b /= 2 * eps\n",
    "\n",
    "    return grad_g, grad_b"
   ]
  },
  {
   "cell_type": "code",
   "execution_count": 16,
   "id": "ffca3933",
   "metadata": {},
   "outputs": [
    {
     "name": "stdout",
     "output_type": "stream",
     "text": [
      "Step: 0 Energy: 0.35551795996348623\n",
      "Step: 25 Energy: -0.6065682760005429\n",
      "Step: 50 Energy: -0.6068781635796969\n",
      "Step: 75 Energy: -0.6068779948701982\n",
      "Step: 100 Energy: -0.6068779526168934\n",
      "Step: 125 Energy: -0.606878341706508\n",
      "Step: 150 Energy: -0.6068780815188196\n",
      "\n",
      "Learned gamma: 0.19753264071127577\n",
      "Learned beta: 0.26843984831165874\n"
     ]
    }
   ],
   "source": [
    "\"\"\"Run a simple gradient descent optimizer.\"\"\"\n",
    "gamma, beta = 0.2, 0.7  # Try different initializations\n",
    "eta = 10**-2  # Try adjusting the learning rate.\n",
    "\n",
    "# Perform gradient descent for a given number of steps.\n",
    "num_steps = 150\n",
    "for i in range(num_steps + 1):\n",
    "    # Compute the gradient.\n",
    "    grad_g, grad_b = gradient_energy(gamma, beta, qaoa, h)\n",
    "\n",
    "    # Update the parameters.\n",
    "    gamma -= eta * grad_g\n",
    "    beta -= eta * grad_b\n",
    "\n",
    "    # Status updates.\n",
    "    if not i % 25:\n",
    "        print(\"Step: {} Energy: {}\".format(i, energy_from_params(gamma, beta, qaoa, h)))\n",
    "\n",
    "print(\"\\nLearned gamma: {}\\nLearned beta: {}\".format(gamma, beta, qaoa, h))"
   ]
  },
  {
   "cell_type": "code",
   "execution_count": 17,
   "id": "c85dbe37",
   "metadata": {},
   "outputs": [
    {
     "data": {
      "text/html": [
       "<pre style=\"overflow: auto; white-space: pre;\">                                                      ┌──────────────────┐               ┌──────────────────┐\n",
       "(0, 0): ───H───ZZ───────ZZ───────Z^(0.5*𝛄)──────────────────────────────────────────────────────────────────────────────────────────────X^(β)───M(&#x27;m&#x27;)───\n",
       "               │        │                                                                                                                       │\n",
       "(0, 1): ───H───┼────────ZZ^(𝛄)───ZZ──────────ZZ────────Z^(0.5*𝛄)────────────────────────────────────────────────────────────────────────X^(β)───M────────\n",
       "               │                 │           │                                                                                                  │\n",
       "(0, 2): ───H───┼─────────────────┼───────────ZZ^(𝛄)────ZZ────────────────────Z^(0.5*𝛄)──────────────────────────────────────────────────X^(β)───M────────\n",
       "               │                 │                     │                                                                                        │\n",
       "(1, 0): ───H───ZZ^(𝛄)───ZZ───────┼───────────ZZ────────┼────────Z^(0.5*𝛄)───────────────────────────────────────────────────────────────X^(β)───M────────\n",
       "                        │        │           │         │                                                                                        │\n",
       "(1, 1): ───H────────────┼────────ZZ^(𝛄)──────ZZ^(𝛄)────┼────────ZZ───────────ZZ───────────Z^(0.5*𝛄)─────────────────────────────────────X^(β)───M────────\n",
       "                        │                              │        │            │                                                                  │\n",
       "(1, 2): ───H────────────┼──────────────────────────────ZZ^(𝛄)───┼────────────ZZ^(𝛄)───────ZZ────────────────────Z^(0.5*𝛄)───────────────X^(β)───M────────\n",
       "                        │                                       │                         │                                                     │\n",
       "(2, 0): ───H────────────ZZ^(𝛄)──────────────────────────────────┼────────────ZZ───────────┼────────Z^(0.5*𝛄)────────────────────────────X^(β)───M────────\n",
       "                                                                │            │            │                                                     │\n",
       "(2, 1): ───H────────────────────────────────────────────────────ZZ^(𝛄)───────ZZ^(𝛄)───────┼─────────────────────ZZ──────────Z^(0.5*𝛄)───X^(β)───M────────\n",
       "                                                                                          │                     │                               │\n",
       "(2, 2): ───H──────────────────────────────────────────────────────────────────────────────ZZ^(𝛄)────────────────ZZ^(𝛄)──────Z^(0.5*𝛄)───X^(β)───M────────\n",
       "                                                      └──────────────────┘               └──────────────────┘</pre>"
      ],
      "text/plain": [
       "                                                      ┌──────────────────┐               ┌──────────────────┐\n",
       "(0, 0): ───H───ZZ───────ZZ───────Z^(0.5*𝛄)──────────────────────────────────────────────────────────────────────────────────────────────X^(β)───M('m')───\n",
       "               │        │                                                                                                                       │\n",
       "(0, 1): ───H───┼────────ZZ^(𝛄)───ZZ──────────ZZ────────Z^(0.5*𝛄)────────────────────────────────────────────────────────────────────────X^(β)───M────────\n",
       "               │                 │           │                                                                                                  │\n",
       "(0, 2): ───H───┼─────────────────┼───────────ZZ^(𝛄)────ZZ────────────────────Z^(0.5*𝛄)──────────────────────────────────────────────────X^(β)───M────────\n",
       "               │                 │                     │                                                                                        │\n",
       "(1, 0): ───H───ZZ^(𝛄)───ZZ───────┼───────────ZZ────────┼────────Z^(0.5*𝛄)───────────────────────────────────────────────────────────────X^(β)───M────────\n",
       "                        │        │           │         │                                                                                        │\n",
       "(1, 1): ───H────────────┼────────ZZ^(𝛄)──────ZZ^(𝛄)────┼────────ZZ───────────ZZ───────────Z^(0.5*𝛄)─────────────────────────────────────X^(β)───M────────\n",
       "                        │                              │        │            │                                                                  │\n",
       "(1, 2): ───H────────────┼──────────────────────────────ZZ^(𝛄)───┼────────────ZZ^(𝛄)───────ZZ────────────────────Z^(0.5*𝛄)───────────────X^(β)───M────────\n",
       "                        │                                       │                         │                                                     │\n",
       "(2, 0): ───H────────────ZZ^(𝛄)──────────────────────────────────┼────────────ZZ───────────┼────────Z^(0.5*𝛄)────────────────────────────X^(β)───M────────\n",
       "                                                                │            │            │                                                     │\n",
       "(2, 1): ───H────────────────────────────────────────────────────ZZ^(𝛄)───────ZZ^(𝛄)───────┼─────────────────────ZZ──────────Z^(0.5*𝛄)───X^(β)───M────────\n",
       "                                                                                          │                     │                               │\n",
       "(2, 2): ───H──────────────────────────────────────────────────────────────────────────────ZZ^(𝛄)────────────────ZZ^(𝛄)──────Z^(0.5*𝛄)───X^(β)───M────────\n",
       "                                                      └──────────────────┘               └──────────────────┘"
      ]
     },
     "execution_count": 17,
     "metadata": {},
     "output_type": "execute_result"
    }
   ],
   "source": [
    "\"\"\"Add measurements to the QAOA circuit.\"\"\"\n",
    "measurement_circuit = qaoa.copy()\n",
    "measurement_circuit.append(\n",
    "    cirq.measure(*[qubit for row in qubits for qubit in row], key=\"m\")\n",
    ")\n",
    "measurement_circuit"
   ]
  },
  {
   "cell_type": "code",
   "execution_count": 18,
   "id": "5c68d448",
   "metadata": {},
   "outputs": [],
   "source": [
    "\"\"\"Sample from the QAOA circuit.\"\"\"\n",
    "num_reps = 1000  # Try different numbers of repetitions.\n",
    "gamma_value, beta_value = 0.2, 0.25  # Try different values of the parameters.\n",
    "\n",
    "# Sample from the circuit.\n",
    "simulator = cirq.Simulator()\n",
    "params = cirq.ParamResolver({\"𝛄\": gamma_value, \"β\": beta_value})\n",
    "result = simulator.run(measurement_circuit, param_resolver=params, repetitions=num_reps)"
   ]
  },
  {
   "cell_type": "code",
   "execution_count": 19,
   "id": "1c770008",
   "metadata": {},
   "outputs": [],
   "source": [
    "def compute_energy(meas: np.ndarray) -> float:\n",
    "    \"\"\"Returns the energy computed from measurements.\n",
    "\n",
    "    Args:\n",
    "        meas: Measurements/samples.\n",
    "    \"\"\"\n",
    "    Z_vals = 1 - 2 * meas.reshape(n_rows, n_cols)\n",
    "    energy = 0\n",
    "    for i in range(n_rows):\n",
    "        for j in range(n_cols):\n",
    "            if i < n_rows - 1:\n",
    "                energy -= Z_vals[i, j] * Z_vals[i + 1, j]\n",
    "            if j < n_cols - 1:\n",
    "                energy -= Z_vals[i, j] * Z_vals[i, j + 1]\n",
    "            energy -= h[i, j] * Z_vals[i, j]\n",
    "    return energy / (n_rows * n_cols)"
   ]
  },
  {
   "cell_type": "code",
   "execution_count": 20,
   "id": "aace3281",
   "metadata": {},
   "outputs": [],
   "source": [
    "\"\"\"Compute the energies of the most common measurement results.\"\"\"\n",
    "# Get a histogram of the measurement results.\n",
    "hist = result.histogram(key=\"m\")\n",
    "\n",
    "# Consider the top 10 of them.\n",
    "num = 10\n",
    "\n",
    "# Get the most common measurement results and their probabilities.\n",
    "configs = [c for c, _ in hist.most_common(num)]\n",
    "probs = [v / result.repetitions for _, v in hist.most_common(num)]"
   ]
  },
  {
   "cell_type": "code",
   "execution_count": 21,
   "id": "f186c3a4",
   "metadata": {},
   "outputs": [
    {
     "data": {
      "image/png": "[encoded data removed]",
      "text/plain": [
       "<Figure size 432x288 with 1 Axes>"
      ]
     },
     "metadata": {
      "needs_background": "light"
     },
     "output_type": "display_data"
    },
    {
     "data": {
      "image/png": "[encoded data removed]",
      "text/plain": [
       "<Figure size 432x288 with 1 Axes>"
      ]
     },
     "metadata": {
      "needs_background": "light"
     },
     "output_type": "display_data"
    },
    {
     "name": "stdout",
     "output_type": "stream",
     "text": [
      "Fraction of outputs displayed: 0.27\n"
     ]
    }
   ],
   "source": [
    "\"\"\"Plot the most common measurement results and their energies.\"\"\"\n",
    "# Plot probabilities of the most common bitstrings.\n",
    "plt.title(\"Probability of {} Most Common Outputs\".format(num))\n",
    "plt.bar([x for x in range(len(probs))], probs)\n",
    "plt.show()\n",
    "meas = [\n",
    "    [int(s) for s in \"\".join([str(b) for b in bin(k)[2:]]).zfill(n_rows * n_cols)]\n",
    "    for k in configs\n",
    "]\n",
    "costs = [compute_energy(np.array(m)) for m in meas]\n",
    "\n",
    "# Plot energies of the most common bitstrings.\n",
    "plt.title(\"Energy of {} Most Common Outputs\".format(num))\n",
    "plt.bar([x for x in range(len(costs))], costs)\n",
    "plt.show()\n",
    "print(\"Fraction of outputs displayed: {}\".format(np.sum(probs).round(2)))"
   ]
  },
  {
   "cell_type": "code",
   "execution_count": null,
   "id": "d63b0b8e",
   "metadata": {},
   "outputs": [],
   "source": []
  }
 ],
 "metadata": {
  "kernelspec": {
   "display_name": "Python 3 (ipykernel)",
   "language": "python",
   "name": "python3"
  },
  "language_info": {
   "codemirror_mode": {
    "name": "ipython",
    "version": 3
   },
   "file_extension": ".py",
   "mimetype": "text/x-python",
   "name": "python",
   "nbconvert_exporter": "python",
   "pygments_lexer": "ipython3",
   "version": "3.9.7"
  }
 },
 "nbformat": 4,
 "nbformat_minor": 5
}
