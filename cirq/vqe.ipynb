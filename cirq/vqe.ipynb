{
 "cells": [
  {
   "cell_type": "code",
   "execution_count": 1,
   "id": "66275be2",
   "metadata": {},
   "outputs": [],
   "source": [
    "import cirq"
   ]
  },
  {
   "cell_type": "code",
   "execution_count": 2,
   "id": "71a9b7d6",
   "metadata": {},
   "outputs": [
    {
     "name": "stdout",
     "output_type": "stream",
     "text": [
      "[cirq.GridQubit(0, 0), cirq.GridQubit(0, 1), cirq.GridQubit(0, 2), cirq.GridQubit(1, 0), cirq.GridQubit(1, 1), cirq.GridQubit(1, 2), cirq.GridQubit(2, 0), cirq.GridQubit(2, 1), cirq.GridQubit(2, 2)]\n"
     ]
    }
   ],
   "source": [
    "# define the length and width of the grid.\n",
    "length = 3\n",
    "\n",
    "# define qubits on the grid.\n",
    "qubits = cirq.GridQubit.square(length)\n",
    "\n",
    "print(qubits)"
   ]
  },
  {
   "cell_type": "code",
   "execution_count": 3,
   "id": "3e3174af",
   "metadata": {},
   "outputs": [
    {
     "name": "stdout",
     "output_type": "stream",
     "text": [
      "(0, 0): ───H───\n",
      "\n",
      "(0, 1): ───X───\n",
      "\n",
      "(0, 2): ───H───\n",
      "\n",
      "(1, 0): ───X───\n",
      "\n",
      "(1, 1): ───H───\n",
      "\n",
      "(1, 2): ───X───\n",
      "\n",
      "(2, 0): ───H───\n",
      "\n",
      "(2, 1): ───X───\n",
      "\n",
      "(2, 2): ───H───\n"
     ]
    }
   ],
   "source": [
    "circuit = cirq.Circuit()\n",
    "circuit.append(cirq.H(q) for q in qubits if (q.row + q.col) % 2 == 0)\n",
    "circuit.append(cirq.X(q) for q in qubits if (q.row + q.col) % 2 == 1)\n",
    "\n",
    "print(circuit)"
   ]
  },
  {
   "cell_type": "code",
   "execution_count": 4,
   "id": "24f57a0c",
   "metadata": {},
   "outputs": [
    {
     "name": "stdout",
     "output_type": "stream",
     "text": [
      "(0, 0): ───X^0.1───\n",
      "\n",
      "(0, 1): ───X^0.1───\n",
      "\n",
      "(1, 0): ───X^0.1───\n",
      "\n",
      "(1, 1): ───X^0.1───\n"
     ]
    }
   ],
   "source": [
    "def rot_x_layer(length, half_turns):\n",
    "    \"\"\"Yields X rotations by half_turns on a square grid of given length.\"\"\"\n",
    "\n",
    "    # Define the gate once and then re-use it for each Operation.\n",
    "    rot = cirq.XPowGate(exponent=half_turns)\n",
    "\n",
    "    # Create an X rotation Operation for each qubit in the grid.\n",
    "    for i in range(length):\n",
    "        for j in range(length):\n",
    "            yield rot(cirq.GridQubit(i, j))\n",
    "\n",
    "# Create the circuit using the rot_x_layer generator\n",
    "circuit = cirq.Circuit()\n",
    "circuit.append(rot_x_layer(2, 0.1))\n",
    "print(circuit)"
   ]
  },
  {
   "cell_type": "code",
   "execution_count": 5,
   "id": "5e66eda3",
   "metadata": {},
   "outputs": [
    {
     "name": "stdout",
     "output_type": "stream",
     "text": [
      "transverse fields: [[-1, -1, -1], [1, 1, -1], [-1, -1, -1]]\n",
      "row j fields: [[-1, -1, 1], [1, 1, 1]]\n",
      "column j fields: [[1, -1], [1, -1], [1, -1]]\n"
     ]
    }
   ],
   "source": [
    "import random\n",
    "def rand2d(rows, cols):\n",
    "    return [[random.choice([+1, -1]) for _ in range(cols)] for _ in range(rows)]\n",
    "\n",
    "def random_instance(length):\n",
    "    # transverse field terms\n",
    "    h = rand2d(length, length)\n",
    "    # links within a row\n",
    "    jr = rand2d(length - 1, length)\n",
    "    # links within a column\n",
    "    jc = rand2d(length, length - 1)\n",
    "    return (h, jr, jc)\n",
    "\n",
    "h, jr, jc = random_instance(3)\n",
    "print(f'transverse fields: {h}')\n",
    "print(f'row j fields: {jr}')\n",
    "print(f'column j fields: {jc}')"
   ]
  },
  {
   "cell_type": "code",
   "execution_count": 6,
   "id": "11e1ef6b",
   "metadata": {},
   "outputs": [],
   "source": [
    "def prepare_plus_layer(length):\n",
    "    for i in range(length):\n",
    "        for j in range(length):\n",
    "            yield cirq.H(cirq.GridQubit(i, j))"
   ]
  },
  {
   "cell_type": "code",
   "execution_count": 7,
   "id": "13f51ed6",
   "metadata": {},
   "outputs": [],
   "source": [
    "def rot_z_layer(h, half_turns):\n",
    "    \"\"\"Yields Z rotations by half_turns conditioned on the field h.\"\"\"\n",
    "    gate = cirq.ZPowGate(exponent=half_turns)\n",
    "    for i, h_row in enumerate(h):\n",
    "        for j, h_ij in enumerate(h_row):\n",
    "            if h_ij == 1:\n",
    "                yield gate(cirq.GridQubit(i, j))"
   ]
  },
  {
   "cell_type": "code",
   "execution_count": 8,
   "id": "b44f560d",
   "metadata": {},
   "outputs": [],
   "source": [
    "def rot_11_layer(jr, jc, half_turns):\n",
    "    \"\"\"Yields rotations about |11> conditioned on the jr and jc fields.\"\"\"\n",
    "    cz_gate = cirq.CZPowGate(exponent=half_turns)    \n",
    "    for i, jr_row in enumerate(jr):\n",
    "        for j, jr_ij in enumerate(jr_row):\n",
    "            q = cirq.GridQubit(i, j)\n",
    "            q_1 = cirq.GridQubit(i + 1, j)\n",
    "            if jr_ij == -1:\n",
    "                yield cirq.X(q)\n",
    "                yield cirq.X(q_1)\n",
    "            yield cz_gate(q, q_1)\n",
    "            if jr_ij == -1:\n",
    "                yield cirq.X(q)\n",
    "                yield cirq.X(q_1)\n",
    "\n",
    "    for i, jc_row in enumerate(jc):\n",
    "        for j, jc_ij in enumerate(jc_row):\n",
    "            q = cirq.GridQubit(i, j)\n",
    "            q_1 = cirq.GridQubit(i, j + 1)\n",
    "            if jc_ij == -1:\n",
    "                yield cirq.X(q)\n",
    "                yield cirq.X(q_1)\n",
    "            yield cz_gate(q, q_1)\n",
    "            if jc_ij == -1:\n",
    "                yield cirq.X(q)\n",
    "                yield cirq.X(q_1)"
   ]
  },
  {
   "cell_type": "code",
   "execution_count": 9,
   "id": "91d805f2",
   "metadata": {},
   "outputs": [
    {
     "name": "stdout",
     "output_type": "stream",
     "text": [
      "                       ┌──────┐   ┌──────────┐   ┌──────┐   ┌──────┐   ┌──────┐\n",
      "(0, 0): ───H───X───────────────────@──────────────X──────────@──────────X^0.1─────────────────────────────────────────────────\n",
      "                                   │                         │\n",
      "(0, 1): ───H───Z^0.2─────@─────────┼─────────────────────────@^0.3──────@─────────X^0.1───────────────────────────────────────\n",
      "                         │         │                                    │\n",
      "(0, 2): ───H───Z^0.2────X┼─────────┼────@─────────X─────────────────────@^0.3─────X^0.1───────────────────────────────────────\n",
      "                         │         │    │\n",
      "(1, 0): ───H───Z^0.2────X┼─────────@^0.3┼─────────X──────────@──────────@─────────X^0.1───────────────────────────────────────\n",
      "                         │              │                    │          │\n",
      "(1, 1): ───H─────────────@^0.3─────X────┼──────────@─────────┼────X─────@^0.3─────X───────────@───────X───────X^0.1───────────\n",
      "                                        │          │         │                                │\n",
      "(1, 2): ───H───X────────────────────────@^0.3─────X┼─────────┼────X─────@─────────X───────X───@^0.3───X───────X^0.1───────────\n",
      "                                                   │         │          │\n",
      "(2, 0): ───H───────────────────────────────────────┼─────────@^0.3──────┼────X────@───────X───X^0.1───────────────────────────\n",
      "                                                   │                    │         │\n",
      "(2, 1): ───H───Z^0.2────X──────────────────────────@^0.3─────X──────────┼────X────@^0.3───X───X───────@───────X───────X^0.1───\n",
      "                                                                        │                             │\n",
      "(2, 2): ───H───X────────────────────────────────────────────────────────@^0.3─────X───────X───────────@^0.3───X───────X^0.1───\n",
      "                       └──────┘   └──────────┘   └──────┘   └──────┘   └──────┘\n"
     ]
    }
   ],
   "source": [
    "def initial_step(length):\n",
    "    yield prepare_plus_layer(length)\n",
    "\n",
    "def one_step(h, jr, jc, x_half_turns, h_half_turns, j_half_turns):\n",
    "    length = len(h)\n",
    "    yield rot_z_layer(h, h_half_turns)\n",
    "    yield rot_11_layer(jr, jc, j_half_turns)\n",
    "    yield rot_x_layer(length, x_half_turns)\n",
    "\n",
    "h, jr, jc = random_instance(3)\n",
    "\n",
    "circuit = cirq.Circuit()  \n",
    "circuit.append(initial_step(len(h)))\n",
    "circuit.append(one_step(h, jr, jc, 0.1, 0.2, 0.3))\n",
    "print(circuit)"
   ]
  },
  {
   "cell_type": "code",
   "execution_count": 10,
   "id": "5a7c9fb8",
   "metadata": {},
   "outputs": [
    {
     "name": "stdout",
     "output_type": "stream",
     "text": [
      "Counter({175: 3, 399: 2, 301: 2, 30: 2, 415: 2, 59: 2, 269: 2, 139: 2, 371: 2, 21: 2, 31: 2, 140: 1, 283: 1, 380: 1, 45: 1, 58: 1, 17: 1, 271: 1, 130: 1, 256: 1, 333: 1, 280: 1, 329: 1, 138: 1, 158: 1, 270: 1, 84: 1, 508: 1, 477: 1, 381: 1, 145: 1, 456: 1, 187: 1, 13: 1, 402: 1, 111: 1, 179: 1, 189: 1, 506: 1, 291: 1, 411: 1, 216: 1, 427: 1, 397: 1, 434: 1, 331: 1, 345: 1, 501: 1, 107: 1, 467: 1, 34: 1, 99: 1, 286: 1, 323: 1, 341: 1, 285: 1, 146: 1, 79: 1, 53: 1, 303: 1, 222: 1, 279: 1, 332: 1, 221: 1, 462: 1, 343: 1, 281: 1, 376: 1, 94: 1, 465: 1, 478: 1, 313: 1, 155: 1, 81: 1, 347: 1, 298: 1, 211: 1, 160: 1, 115: 1, 439: 1, 282: 1, 479: 1, 68: 1, 67: 1, 297: 1, 203: 1, 277: 1, 312: 1})\n"
     ]
    }
   ],
   "source": [
    "simulator = cirq.Simulator()\n",
    "circuit = cirq.Circuit()\n",
    "circuit.append(initial_step(len(h)))\n",
    "circuit.append(one_step(h, jr, jc, 0.1, 0.2, 0.3))\n",
    "circuit.append(cirq.measure(*qubits, key='x'))\n",
    "results = simulator.run(circuit, repetitions=100)\n",
    "print(results.histogram(key='x'))"
   ]
  },
  {
   "cell_type": "code",
   "execution_count": 11,
   "id": "b0943779",
   "metadata": {},
   "outputs": [
    {
     "name": "stdout",
     "output_type": "stream",
     "text": [
      "Counter({1: 19, -3: 19, 3: 16, -1: 14, 7: 10, 9: 6, 5: 6, 11: 4, -5: 4, -7: 1, -15: 1})\n"
     ]
    }
   ],
   "source": [
    "import numpy as np\n",
    "\n",
    "def energy_func(length, h, jr, jc):\n",
    "    def energy(measurements):\n",
    "        # Reshape measurement into array that matches grid shape.\n",
    "        meas_list_of_lists = [measurements[i * length:(i + 1) * length]\n",
    "                              for i in range(length)]\n",
    "        # Convert true/false to +1/-1.\n",
    "        pm_meas = 1 - 2 * np.array(meas_list_of_lists).astype(np.int32)\n",
    "\n",
    "        tot_energy = np.sum(pm_meas * h)\n",
    "        for i, jr_row in enumerate(jr):\n",
    "            for j, jr_ij in enumerate(jr_row):\n",
    "                tot_energy += jr_ij * pm_meas[i, j] * pm_meas[i + 1, j]\n",
    "        for i, jc_row in enumerate(jc):\n",
    "            for j, jc_ij in enumerate(jc_row):\n",
    "                tot_energy += jc_ij * pm_meas[i, j] * pm_meas[i, j + 1]\n",
    "        return tot_energy\n",
    "    return energy\n",
    "print(results.histogram(key='x', fold_func=energy_func(3, h, jr, jc)))"
   ]
  },
  {
   "cell_type": "code",
   "execution_count": 12,
   "id": "91a7d07f",
   "metadata": {},
   "outputs": [
    {
     "name": "stdout",
     "output_type": "stream",
     "text": [
      "Value of the objective function 1.52\n"
     ]
    }
   ],
   "source": [
    "def obj_func(result):\n",
    "    energy_hist = result.histogram(key='x', fold_func=energy_func(3, h, jr, jc))\n",
    "    return np.sum([k * v for k,v in energy_hist.items()]) / result.repetitions\n",
    "print(f'Value of the objective function {obj_func(results)}')"
   ]
  },
  {
   "cell_type": "code",
   "execution_count": 13,
   "id": "dc27e103",
   "metadata": {},
   "outputs": [
    {
     "name": "stdout",
     "output_type": "stream",
     "text": [
      "                        ┌────────┐   ┌──────────────┐   ┌────────┐   ┌────────┐   ┌────────┐\n",
      "(0, 0): ───H───X──────────────────────@──────────────────X────────────@────────────X^alpha───────────────────────────────────────────────────────────M('x')───\n",
      "                                      │                               │                                                                              │\n",
      "(0, 1): ───H───Z^beta─────@───────────┼───────────────────────────────@^gamma──────@───────────X^alpha───────────────────────────────────────────────M────────\n",
      "                          │           │                                            │                                                                 │\n",
      "(0, 2): ───H───Z^beta────X┼───────────┼──────@───────────X─────────────────────────@^gamma─────X^alpha───────────────────────────────────────────────M────────\n",
      "                          │           │      │                                                                                                       │\n",
      "(1, 0): ───H───Z^beta────X┼───────────@^gamma┼───────────X────────────@────────────@───────────X^alpha───────────────────────────────────────────────M────────\n",
      "                          │                  │                        │            │                                                                 │\n",
      "(1, 1): ───H──────────────@^gamma─────X──────┼────────────@───────────┼──────X─────@^gamma─────X─────────────@─────────X─────────X^alpha─────────────M────────\n",
      "                                             │            │           │                                      │                                       │\n",
      "(1, 2): ───H───X─────────────────────────────@^gamma─────X┼───────────┼──────X─────@───────────X─────────X───@^gamma───X─────────X^alpha─────────────M────────\n",
      "                                                          │           │            │                                                                 │\n",
      "(2, 0): ───H──────────────────────────────────────────────┼───────────@^gamma──────┼──────X────@─────────X───X^alpha─────────────────────────────────M────────\n",
      "                                                          │                        │           │                                                     │\n",
      "(2, 1): ───H───Z^beta────X────────────────────────────────@^gamma─────X────────────┼──────X────@^gamma───X───X─────────@─────────X─────────X^alpha───M────────\n",
      "                                                                                   │                                   │                             │\n",
      "(2, 2): ───H───X───────────────────────────────────────────────────────────────────@^gamma─────X─────────X─────────────@^gamma───X─────────X^alpha───M────────\n",
      "                        └────────┘   └──────────────┘   └────────┘   └────────┘   └────────┘\n"
     ]
    }
   ],
   "source": [
    "import sympy\n",
    "circuit = cirq.Circuit()\n",
    "alpha = sympy.Symbol('alpha')\n",
    "beta = sympy.Symbol('beta')\n",
    "gamma = sympy.Symbol('gamma')\n",
    "circuit.append(initial_step(len(h)))\n",
    "circuit.append(one_step(h, jr, jc, alpha, beta, gamma))\n",
    "circuit.append(cirq.measure(*qubits, key='x'))\n",
    "print(circuit)"
   ]
  },
  {
   "cell_type": "code",
   "execution_count": 14,
   "id": "7d214096",
   "metadata": {},
   "outputs": [],
   "source": [
    "resolver = cirq.ParamResolver({'alpha': 0.1, 'beta': 0.3, 'gamma': 0.7})\n",
    "resolved_circuit = cirq.resolve_parameters(circuit, resolver)"
   ]
  },
  {
   "cell_type": "code",
   "execution_count": 15,
   "id": "db44083d",
   "metadata": {},
   "outputs": [
    {
     "name": "stdout",
     "output_type": "stream",
     "text": [
      "OrderedDict([('alpha', 0.1), ('beta', 0.1), ('gamma', 0.1)]) -0.48\n",
      "OrderedDict([('alpha', 0.1), ('beta', 0.1), ('gamma', 0.30000000000000004)]) 0.96\n",
      "OrderedDict([('alpha', 0.1), ('beta', 0.1), ('gamma', 0.5)]) 0.24\n",
      "OrderedDict([('alpha', 0.1), ('beta', 0.1), ('gamma', 0.7000000000000001)]) -1.22\n",
      "OrderedDict([('alpha', 0.1), ('beta', 0.1), ('gamma', 0.9)]) -0.78\n",
      "OrderedDict([('alpha', 0.1), ('beta', 0.30000000000000004), ('gamma', 0.1)]) 1.96\n",
      "OrderedDict([('alpha', 0.1), ('beta', 0.30000000000000004), ('gamma', 0.30000000000000004)]) 1.32\n",
      "OrderedDict([('alpha', 0.1), ('beta', 0.30000000000000004), ('gamma', 0.5)]) 0.68\n",
      "OrderedDict([('alpha', 0.1), ('beta', 0.30000000000000004), ('gamma', 0.7000000000000001)]) -0.3\n",
      "OrderedDict([('alpha', 0.1), ('beta', 0.30000000000000004), ('gamma', 0.9)]) 0.12\n",
      "OrderedDict([('alpha', 0.1), ('beta', 0.5), ('gamma', 0.1)]) 2.08\n",
      "OrderedDict([('alpha', 0.1), ('beta', 0.5), ('gamma', 0.30000000000000004)]) 1.38\n",
      "OrderedDict([('alpha', 0.1), ('beta', 0.5), ('gamma', 0.5)]) 0.54\n",
      "OrderedDict([('alpha', 0.1), ('beta', 0.5), ('gamma', 0.7000000000000001)]) -0.4\n",
      "OrderedDict([('alpha', 0.1), ('beta', 0.5), ('gamma', 0.9)]) -0.22\n",
      "OrderedDict([('alpha', 0.1), ('beta', 0.7000000000000001), ('gamma', 0.1)]) 0.58\n",
      "OrderedDict([('alpha', 0.1), ('beta', 0.7000000000000001), ('gamma', 0.30000000000000004)]) 2.2\n",
      "OrderedDict([('alpha', 0.1), ('beta', 0.7000000000000001), ('gamma', 0.5)]) 0.8\n",
      "OrderedDict([('alpha', 0.1), ('beta', 0.7000000000000001), ('gamma', 0.7000000000000001)]) -0.26\n",
      "OrderedDict([('alpha', 0.1), ('beta', 0.7000000000000001), ('gamma', 0.9)]) -1.16\n",
      "OrderedDict([('alpha', 0.1), ('beta', 0.9), ('gamma', 0.1)]) 1.1\n",
      "OrderedDict([('alpha', 0.1), ('beta', 0.9), ('gamma', 0.30000000000000004)]) 1.08\n",
      "OrderedDict([('alpha', 0.1), ('beta', 0.9), ('gamma', 0.5)]) 0.48\n",
      "OrderedDict([('alpha', 0.1), ('beta', 0.9), ('gamma', 0.7000000000000001)]) -0.8\n",
      "OrderedDict([('alpha', 0.1), ('beta', 0.9), ('gamma', 0.9)]) -0.98\n",
      "OrderedDict([('alpha', 0.30000000000000004), ('beta', 0.1), ('gamma', 0.1)]) 2.46\n",
      "OrderedDict([('alpha', 0.30000000000000004), ('beta', 0.1), ('gamma', 0.30000000000000004)]) 2.1\n",
      "OrderedDict([('alpha', 0.30000000000000004), ('beta', 0.1), ('gamma', 0.5)]) 0.28\n",
      "OrderedDict([('alpha', 0.30000000000000004), ('beta', 0.1), ('gamma', 0.7000000000000001)]) -0.18\n",
      "OrderedDict([('alpha', 0.30000000000000004), ('beta', 0.1), ('gamma', 0.9)]) -0.56\n",
      "OrderedDict([('alpha', 0.30000000000000004), ('beta', 0.30000000000000004), ('gamma', 0.1)]) 4.0\n",
      "OrderedDict([('alpha', 0.30000000000000004), ('beta', 0.30000000000000004), ('gamma', 0.30000000000000004)]) 3.64\n",
      "OrderedDict([('alpha', 0.30000000000000004), ('beta', 0.30000000000000004), ('gamma', 0.5)]) 0.98\n",
      "OrderedDict([('alpha', 0.30000000000000004), ('beta', 0.30000000000000004), ('gamma', 0.7000000000000001)]) 0.12\n",
      "OrderedDict([('alpha', 0.30000000000000004), ('beta', 0.30000000000000004), ('gamma', 0.9)]) -0.38\n",
      "OrderedDict([('alpha', 0.30000000000000004), ('beta', 0.5), ('gamma', 0.1)]) 4.34\n",
      "OrderedDict([('alpha', 0.30000000000000004), ('beta', 0.5), ('gamma', 0.30000000000000004)]) 4.1\n",
      "OrderedDict([('alpha', 0.30000000000000004), ('beta', 0.5), ('gamma', 0.5)]) 1.14\n",
      "OrderedDict([('alpha', 0.30000000000000004), ('beta', 0.5), ('gamma', 0.7000000000000001)]) 0.48\n",
      "OrderedDict([('alpha', 0.30000000000000004), ('beta', 0.5), ('gamma', 0.9)]) -0.78\n",
      "OrderedDict([('alpha', 0.30000000000000004), ('beta', 0.7000000000000001), ('gamma', 0.1)]) 3.84\n",
      "OrderedDict([('alpha', 0.30000000000000004), ('beta', 0.7000000000000001), ('gamma', 0.30000000000000004)]) 3.44\n",
      "OrderedDict([('alpha', 0.30000000000000004), ('beta', 0.7000000000000001), ('gamma', 0.5)]) 0.94\n",
      "OrderedDict([('alpha', 0.30000000000000004), ('beta', 0.7000000000000001), ('gamma', 0.7000000000000001)]) -0.64\n",
      "OrderedDict([('alpha', 0.30000000000000004), ('beta', 0.7000000000000001), ('gamma', 0.9)]) 0.7\n",
      "OrderedDict([('alpha', 0.30000000000000004), ('beta', 0.9), ('gamma', 0.1)]) 1.9\n",
      "OrderedDict([('alpha', 0.30000000000000004), ('beta', 0.9), ('gamma', 0.30000000000000004)]) 1.98\n",
      "OrderedDict([('alpha', 0.30000000000000004), ('beta', 0.9), ('gamma', 0.5)]) 1.36\n",
      "OrderedDict([('alpha', 0.30000000000000004), ('beta', 0.9), ('gamma', 0.7000000000000001)]) -0.94\n",
      "OrderedDict([('alpha', 0.30000000000000004), ('beta', 0.9), ('gamma', 0.9)]) -0.08\n",
      "OrderedDict([('alpha', 0.5), ('beta', 0.1), ('gamma', 0.1)]) 2.58\n",
      "OrderedDict([('alpha', 0.5), ('beta', 0.1), ('gamma', 0.30000000000000004)]) 1.9\n",
      "OrderedDict([('alpha', 0.5), ('beta', 0.1), ('gamma', 0.5)]) 0.94\n",
      "OrderedDict([('alpha', 0.5), ('beta', 0.1), ('gamma', 0.7000000000000001)]) -0.62\n",
      "OrderedDict([('alpha', 0.5), ('beta', 0.1), ('gamma', 0.9)]) 0.2\n",
      "OrderedDict([('alpha', 0.5), ('beta', 0.30000000000000004), ('gamma', 0.1)]) 4.36\n",
      "OrderedDict([('alpha', 0.5), ('beta', 0.30000000000000004), ('gamma', 0.30000000000000004)]) 3.38\n",
      "OrderedDict([('alpha', 0.5), ('beta', 0.30000000000000004), ('gamma', 0.5)]) 0.04\n",
      "OrderedDict([('alpha', 0.5), ('beta', 0.30000000000000004), ('gamma', 0.7000000000000001)]) 0.1\n",
      "OrderedDict([('alpha', 0.5), ('beta', 0.30000000000000004), ('gamma', 0.9)]) 0.16\n",
      "OrderedDict([('alpha', 0.5), ('beta', 0.5), ('gamma', 0.1)]) 5.02\n",
      "OrderedDict([('alpha', 0.5), ('beta', 0.5), ('gamma', 0.30000000000000004)]) 3.54\n",
      "OrderedDict([('alpha', 0.5), ('beta', 0.5), ('gamma', 0.5)]) -0.18\n",
      "OrderedDict([('alpha', 0.5), ('beta', 0.5), ('gamma', 0.7000000000000001)]) -0.28\n",
      "OrderedDict([('alpha', 0.5), ('beta', 0.5), ('gamma', 0.9)]) -0.78\n",
      "OrderedDict([('alpha', 0.5), ('beta', 0.7000000000000001), ('gamma', 0.1)]) 4.76\n",
      "OrderedDict([('alpha', 0.5), ('beta', 0.7000000000000001), ('gamma', 0.30000000000000004)]) 2.54\n",
      "OrderedDict([('alpha', 0.5), ('beta', 0.7000000000000001), ('gamma', 0.5)]) -0.02\n",
      "OrderedDict([('alpha', 0.5), ('beta', 0.7000000000000001), ('gamma', 0.7000000000000001)]) -0.48\n",
      "OrderedDict([('alpha', 0.5), ('beta', 0.7000000000000001), ('gamma', 0.9)]) 0.38\n",
      "OrderedDict([('alpha', 0.5), ('beta', 0.9), ('gamma', 0.1)]) 1.54\n",
      "OrderedDict([('alpha', 0.5), ('beta', 0.9), ('gamma', 0.30000000000000004)]) 1.46\n",
      "OrderedDict([('alpha', 0.5), ('beta', 0.9), ('gamma', 0.5)]) 0.64\n",
      "OrderedDict([('alpha', 0.5), ('beta', 0.9), ('gamma', 0.7000000000000001)]) -0.18\n",
      "OrderedDict([('alpha', 0.5), ('beta', 0.9), ('gamma', 0.9)]) 0.04\n",
      "OrderedDict([('alpha', 0.7000000000000001), ('beta', 0.1), ('gamma', 0.1)]) 1.86\n",
      "OrderedDict([('alpha', 0.7000000000000001), ('beta', 0.1), ('gamma', 0.30000000000000004)]) 1.24\n",
      "OrderedDict([('alpha', 0.7000000000000001), ('beta', 0.1), ('gamma', 0.5)]) 0.74\n",
      "OrderedDict([('alpha', 0.7000000000000001), ('beta', 0.1), ('gamma', 0.7000000000000001)]) 1.48\n",
      "OrderedDict([('alpha', 0.7000000000000001), ('beta', 0.1), ('gamma', 0.9)]) 0.68\n",
      "OrderedDict([('alpha', 0.7000000000000001), ('beta', 0.30000000000000004), ('gamma', 0.1)]) 4.12\n",
      "OrderedDict([('alpha', 0.7000000000000001), ('beta', 0.30000000000000004), ('gamma', 0.30000000000000004)]) 1.16\n",
      "OrderedDict([('alpha', 0.7000000000000001), ('beta', 0.30000000000000004), ('gamma', 0.5)]) 0.0\n",
      "OrderedDict([('alpha', 0.7000000000000001), ('beta', 0.30000000000000004), ('gamma', 0.7000000000000001)]) 0.8\n",
      "OrderedDict([('alpha', 0.7000000000000001), ('beta', 0.30000000000000004), ('gamma', 0.9)]) 1.68\n",
      "OrderedDict([('alpha', 0.7000000000000001), ('beta', 0.5), ('gamma', 0.1)]) 3.34\n",
      "OrderedDict([('alpha', 0.7000000000000001), ('beta', 0.5), ('gamma', 0.30000000000000004)]) 0.82\n",
      "OrderedDict([('alpha', 0.7000000000000001), ('beta', 0.5), ('gamma', 0.5)]) -0.42\n",
      "OrderedDict([('alpha', 0.7000000000000001), ('beta', 0.5), ('gamma', 0.7000000000000001)]) -0.2\n",
      "OrderedDict([('alpha', 0.7000000000000001), ('beta', 0.5), ('gamma', 0.9)]) 0.08\n",
      "OrderedDict([('alpha', 0.7000000000000001), ('beta', 0.7000000000000001), ('gamma', 0.1)]) 3.4\n",
      "OrderedDict([('alpha', 0.7000000000000001), ('beta', 0.7000000000000001), ('gamma', 0.30000000000000004)]) 1.86\n",
      "OrderedDict([('alpha', 0.7000000000000001), ('beta', 0.7000000000000001), ('gamma', 0.5)]) 0.38\n",
      "OrderedDict([('alpha', 0.7000000000000001), ('beta', 0.7000000000000001), ('gamma', 0.7000000000000001)]) 0.1\n",
      "OrderedDict([('alpha', 0.7000000000000001), ('beta', 0.7000000000000001), ('gamma', 0.9)]) -0.24\n",
      "OrderedDict([('alpha', 0.7000000000000001), ('beta', 0.9), ('gamma', 0.1)]) 0.38\n",
      "OrderedDict([('alpha', 0.7000000000000001), ('beta', 0.9), ('gamma', 0.30000000000000004)]) 0.74\n",
      "OrderedDict([('alpha', 0.7000000000000001), ('beta', 0.9), ('gamma', 0.5)]) 0.5\n",
      "OrderedDict([('alpha', 0.7000000000000001), ('beta', 0.9), ('gamma', 0.7000000000000001)]) 0.9\n",
      "OrderedDict([('alpha', 0.7000000000000001), ('beta', 0.9), ('gamma', 0.9)]) -0.6\n"
     ]
    },
    {
     "name": "stdout",
     "output_type": "stream",
     "text": [
      "OrderedDict([('alpha', 0.9), ('beta', 0.1), ('gamma', 0.1)]) 0.64\n",
      "OrderedDict([('alpha', 0.9), ('beta', 0.1), ('gamma', 0.30000000000000004)]) 0.02\n",
      "OrderedDict([('alpha', 0.9), ('beta', 0.1), ('gamma', 0.5)]) 0.66\n",
      "OrderedDict([('alpha', 0.9), ('beta', 0.1), ('gamma', 0.7000000000000001)]) 0.04\n",
      "OrderedDict([('alpha', 0.9), ('beta', 0.1), ('gamma', 0.9)]) 0.68\n",
      "OrderedDict([('alpha', 0.9), ('beta', 0.30000000000000004), ('gamma', 0.1)]) 0.88\n",
      "OrderedDict([('alpha', 0.9), ('beta', 0.30000000000000004), ('gamma', 0.30000000000000004)]) 0.3\n",
      "OrderedDict([('alpha', 0.9), ('beta', 0.30000000000000004), ('gamma', 0.5)]) -0.14\n",
      "OrderedDict([('alpha', 0.9), ('beta', 0.30000000000000004), ('gamma', 0.7000000000000001)]) 0.42\n",
      "OrderedDict([('alpha', 0.9), ('beta', 0.30000000000000004), ('gamma', 0.9)]) 0.16\n",
      "OrderedDict([('alpha', 0.9), ('beta', 0.5), ('gamma', 0.1)]) 1.44\n",
      "OrderedDict([('alpha', 0.9), ('beta', 0.5), ('gamma', 0.30000000000000004)]) 0.78\n",
      "OrderedDict([('alpha', 0.9), ('beta', 0.5), ('gamma', 0.5)]) -0.34\n",
      "OrderedDict([('alpha', 0.9), ('beta', 0.5), ('gamma', 0.7000000000000001)]) 0.82\n",
      "OrderedDict([('alpha', 0.9), ('beta', 0.5), ('gamma', 0.9)]) 0.66\n",
      "OrderedDict([('alpha', 0.9), ('beta', 0.7000000000000001), ('gamma', 0.1)]) 1.3\n",
      "OrderedDict([('alpha', 0.9), ('beta', 0.7000000000000001), ('gamma', 0.30000000000000004)]) -0.14\n",
      "OrderedDict([('alpha', 0.9), ('beta', 0.7000000000000001), ('gamma', 0.5)]) -0.14\n",
      "OrderedDict([('alpha', 0.9), ('beta', 0.7000000000000001), ('gamma', 0.7000000000000001)]) 0.72\n",
      "OrderedDict([('alpha', 0.9), ('beta', 0.7000000000000001), ('gamma', 0.9)]) 0.54\n",
      "OrderedDict([('alpha', 0.9), ('beta', 0.9), ('gamma', 0.1)]) -0.2\n",
      "OrderedDict([('alpha', 0.9), ('beta', 0.9), ('gamma', 0.30000000000000004)]) -0.14\n",
      "OrderedDict([('alpha', 0.9), ('beta', 0.9), ('gamma', 0.5)]) 0.1\n",
      "OrderedDict([('alpha', 0.9), ('beta', 0.9), ('gamma', 0.7000000000000001)]) 0.16\n",
      "OrderedDict([('alpha', 0.9), ('beta', 0.9), ('gamma', 0.9)]) 0.1\n"
     ]
    }
   ],
   "source": [
    "sweep = (cirq.Linspace(key='alpha', start=0.1, stop=0.9, length=5)\n",
    "         * cirq.Linspace(key='beta', start=0.1, stop=0.9, length=5)\n",
    "         * cirq.Linspace(key='gamma', start=0.1, stop=0.9, length=5))\n",
    "results = simulator.run_sweep(circuit, params=sweep, repetitions=100)\n",
    "for result in results:\n",
    "    print(result.params.param_dict, obj_func(result))"
   ]
  },
  {
   "cell_type": "code",
   "execution_count": 16,
   "id": "b5159990",
   "metadata": {},
   "outputs": [
    {
     "name": "stdout",
     "output_type": "stream",
     "text": [
      "Minimum objective value is -1.7.\n"
     ]
    }
   ],
   "source": [
    "sweep_size = 10\n",
    "sweep = (cirq.Linspace(key='alpha', start=0.0, stop=1.0, length=sweep_size)\n",
    "         * cirq.Linspace(key='beta', start=0.0, stop=1.0, length=sweep_size)\n",
    "         * cirq.Linspace(key='gamma', start=0.0, stop=1.0, length=sweep_size))\n",
    "results = simulator.run_sweep(circuit, params=sweep, repetitions=100)\n",
    "\n",
    "min = None\n",
    "min_params = None\n",
    "for result in results:\n",
    "    value = obj_func(result)\n",
    "    if min is None or value < min:\n",
    "        min = value\n",
    "        min_params = result.params\n",
    "print(f'Minimum objective value is {min}.')"
   ]
  },
  {
   "cell_type": "code",
   "execution_count": null,
   "id": "d1af1106",
   "metadata": {},
   "outputs": [],
   "source": []
  }
 ],
 "metadata": {
  "kernelspec": {
   "display_name": "Python 3 (ipykernel)",
   "language": "python",
   "name": "python3"
  },
  "language_info": {
   "codemirror_mode": {
    "name": "ipython",
    "version": 3
   },
   "file_extension": ".py",
   "mimetype": "text/x-python",
   "name": "python",
   "nbconvert_exporter": "python",
   "pygments_lexer": "ipython3",
   "version": "3.9.7"
  }
 },
 "nbformat": 4,
 "nbformat_minor": 5
}
