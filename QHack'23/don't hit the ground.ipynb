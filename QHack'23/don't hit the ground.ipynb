{
 "cells": [
  {
   "cell_type": "code",
   "execution_count": 1,
   "id": "91df14fc",
   "metadata": {},
   "outputs": [],
   "source": [
    "import json\n",
    "import pennylane as qml\n",
    "from pennylane import numpy as np"
   ]
  },
  {
   "cell_type": "code",
   "execution_count": 2,
   "id": "c6f1f97f",
   "metadata": {},
   "outputs": [],
   "source": [
    "# Uneditable section #\n",
    "def half_life(gamma, p):\n",
    "    \"\"\"Calculates the relaxation half-life of a quantum system that exchanges energy with its environment.\n",
    "    This process is modeled via Generalized Amplitude Damping.\n",
    "\n",
    "    Args:\n",
    "        gamma (float): \n",
    "            The probability per unit time of the system losing a quantum of energy\n",
    "            to the environment.\n",
    "        p (float): The de-excitation probability due to environmental effect\n",
    "\n",
    "    Returns:\n",
    "        (float): The relaxation haf-life of the system, as explained in the problem statement.\n",
    "    \"\"\"\n",
    "\n",
    "    num_wires = 1\n",
    "\n",
    "    dev = qml.device(\"default.mixed\", wires=num_wires)\n",
    "\n",
    "    # End of uneditable section #\n",
    "\n",
    "\n",
    "    # Feel free to write helper functions or global variables here\n",
    "    \n",
    "    dt = 0.001\n",
    "    tmin = 0\n",
    "    tmax = 100\n",
    "\n",
    "    @qml.qnode(dev)\n",
    "    def noise(\n",
    "        gamma, p, dt, n # add optional parameters, delete if you don't need any\n",
    "    ):\n",
    "        \"\"\"Implement the sequence of Generalized Amplitude Damping channels in this QNode\n",
    "        You may pass instead of return if you solved this problem analytically, it's possible!\n",
    "\n",
    "        Args:\n",
    "            gamma (float): The probability per unit time of the system losing a quantum of energy\n",
    "            to the environment.\n",
    "        \n",
    "        Returns:\n",
    "            (float): The relaxation half-life.\n",
    "        \"\"\"\n",
    "        # Don't forget to initialize the state\n",
    "        # Put your code here #\n",
    "        qml.Hadamard(wires=0)\n",
    "        for _ in range(n):\n",
    "            qml.GeneralizedAmplitudeDamping(gamma*dt, p, wires=0)\n",
    "\n",
    "        # Return something or pass if you solved this analytically!\n",
    "        return qml.probs(wires=0)\n",
    "\n",
    "    # Write any subroutines you may need to find the relaxation time here \n",
    " \n",
    "    while(tmax - tmin) > dt:\n",
    "        tmid = (tmax + tmin)/2\n",
    "        prob = noise(gamma, p, dt, int(tmid/dt))[1]\n",
    "        if prob > 1/4:\n",
    "            tmin = tmid\n",
    "        else:\n",
    "            tmax = tmid\n",
    "\n",
    "    # Return the relaxation half-life\n",
    "    return tmid"
   ]
  },
  {
   "cell_type": "code",
   "execution_count": 3,
   "id": "937cae98",
   "metadata": {},
   "outputs": [],
   "source": [
    "def run(test_case_input: str) -> str:\n",
    "\n",
    "    ins = json.loads(test_case_input)\n",
    "    output = half_life(*ins)\n",
    "\n",
    "    return str(output)\n",
    "\n",
    "def check(solution_output: str, expected_output: str) -> None:\n",
    "    solution_output = json.loads(solution_output)\n",
    "    expected_output = json.loads(expected_output)\n",
    "    assert np.allclose(\n",
    "        solution_output, expected_output, atol=2e-1\n",
    "    ), \"The relaxation half-life is not quite right.\""
   ]
  },
  {
   "cell_type": "code",
   "execution_count": 4,
   "id": "0987b246",
   "metadata": {},
   "outputs": [],
   "source": [
    "test_cases = [['[0.1,0.92]', '9.05'], ['[0.2,0.83]', '7.09'], ['[0.15,0.95]', '5.41'], ['[0.08,0.87]', '14.08']]"
   ]
  },
  {
   "cell_type": "code",
   "execution_count": 5,
   "id": "89db0450",
   "metadata": {},
   "outputs": [
    {
     "name": "stdout",
     "output_type": "stream",
     "text": [
      "Running test case 0 with input '[0.1,0.92]'...\n",
      "Correct!\n",
      "Running test case 1 with input '[0.2,0.83]'...\n",
      "Correct!\n",
      "Running test case 2 with input '[0.15,0.95]'...\n",
      "Correct!\n",
      "Running test case 3 with input '[0.08,0.87]'...\n",
      "Correct!\n"
     ]
    }
   ],
   "source": [
    "for i, (input_, expected_output) in enumerate(test_cases):\n",
    "    print(f\"Running test case {i} with input '{input_}'...\")\n",
    "\n",
    "    try:\n",
    "        output = run(input_)\n",
    "\n",
    "    except Exception as exc:\n",
    "        print(f\"Runtime Error. {exc}\")\n",
    "\n",
    "    else:\n",
    "        if message := check(output, expected_output):\n",
    "            print(f\"Wrong Answer. Have: '{output}'. Want: '{expected_output}'.\")\n",
    "\n",
    "        else:\n",
    "            print(\"Correct!\")"
   ]
  },
  {
   "cell_type": "code",
   "execution_count": null,
   "id": "3d0b4caa",
   "metadata": {},
   "outputs": [],
   "source": []
  }
 ],
 "metadata": {
  "kernelspec": {
   "display_name": "Python 3 (ipykernel)",
   "language": "python",
   "name": "python3"
  },
  "language_info": {
   "codemirror_mode": {
    "name": "ipython",
    "version": 3
   },
   "file_extension": ".py",
   "mimetype": "text/x-python",
   "name": "python",
   "nbconvert_exporter": "python",
   "pygments_lexer": "ipython3",
   "version": "3.9.7"
  }
 },
 "nbformat": 4,
 "nbformat_minor": 5
}
