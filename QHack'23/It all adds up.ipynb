{
 "cells": [
  {
   "cell_type": "code",
   "execution_count": 1,
   "id": "3485211c",
   "metadata": {},
   "outputs": [],
   "source": [
    "import pennylane as qml\n",
    "from pennylane import numpy as np\n",
    "import json\n",
    "dev = qml.device(\"default.qubit\", wires=2)"
   ]
  },
  {
   "cell_type": "code",
   "execution_count": 2,
   "id": "b88452a8",
   "metadata": {},
   "outputs": [],
   "source": [
    "# Welcome to the QHack 2023 coding challenges!\n",
    "def add_numbers(x, y):\n",
    "    \"\"\"This function adds two numbers together.\n",
    "\n",
    "    Args:\n",
    "        x (float): A number.\n",
    "        y (float): A number.\n",
    "\n",
    "    Returns:\n",
    "        (float): The result of adding x and y.\n",
    "    \"\"\"\n",
    "    # End of uneditable section #\n",
    "\n",
    "    # Put your code here # \n",
    "    return x+y"
   ]
  },
  {
   "cell_type": "code",
   "execution_count": 3,
   "id": "034d36c5",
   "metadata": {},
   "outputs": [],
   "source": [
    "def run(test_case_input: str) -> str:\n",
    "    x, y = json.loads(test_case_input)\n",
    "    result = add_numbers(x, y)\n",
    "    return str(result)\n",
    "\n",
    "def check(solution_output: str, expected_output: str) -> None:\n",
    "    solution_output = json.loads(solution_output)\n",
    "    expected_output = json.loads(expected_output)\n",
    "    assert np.allclose(\n",
    "        solution_output, expected_output, rtol=1e-4\n",
    "    ), \"Your addition function isn't quite right!\""
   ]
  },
  {
   "cell_type": "code",
   "execution_count": 4,
   "id": "ee08311b",
   "metadata": {},
   "outputs": [],
   "source": [
    "test_cases = [['[0.2, -0.2]', '0.0'], ['[400, 166]', '566']]"
   ]
  },
  {
   "cell_type": "code",
   "execution_count": 5,
   "id": "f16d65d7",
   "metadata": {},
   "outputs": [
    {
     "name": "stdout",
     "output_type": "stream",
     "text": [
      "Running test case 0 with input '[0.2, -0.2]'...\n",
      "Correct!\n",
      "Running test case 1 with input '[400, 166]'...\n",
      "Correct!\n"
     ]
    }
   ],
   "source": [
    "for i, (input_, expected_output) in enumerate(test_cases):\n",
    "    print(f\"Running test case {i} with input '{input_}'...\")\n",
    "\n",
    "    try:\n",
    "        output = run(input_)\n",
    "\n",
    "    except Exception as exc:\n",
    "        print(f\"Runtime Error. {exc}\")\n",
    "\n",
    "    else:\n",
    "        if message := check(output, expected_output):\n",
    "            print(f\"Wrong Answer. Have: '{output}'. Want: '{expected_output}'.\")\n",
    "\n",
    "        else:\n",
    "            print(\"Correct!\")"
   ]
  }
 ],
 "metadata": {
  "kernelspec": {
   "display_name": "Python 3 (ipykernel)",
   "language": "python",
   "name": "python3"
  },
  "language_info": {
   "codemirror_mode": {
    "name": "ipython",
    "version": 3
   },
   "file_extension": ".py",
   "mimetype": "text/x-python",
   "name": "python",
   "nbconvert_exporter": "python",
   "pygments_lexer": "ipython3",
   "version": "3.9.7"
  }
 },
 "nbformat": 4,
 "nbformat_minor": 5
}
