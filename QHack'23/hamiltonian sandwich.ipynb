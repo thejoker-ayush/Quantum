{
 "cells": [
  {
   "cell_type": "code",
   "execution_count": 1,
   "id": "50dca5d3",
   "metadata": {},
   "outputs": [],
   "source": [
    "import json\n",
    "import pennylane as qml\n",
    "from pennylane import numpy as np"
   ]
  },
  {
   "cell_type": "code",
   "execution_count": 2,
   "id": "1f292637",
   "metadata": {},
   "outputs": [],
   "source": [
    "# Uneditable section #\n",
    "def hamiltonian(num_wires):\n",
    "    \"\"\"A function for creating the Hamiltonian in question for a general\n",
    "    number of qubits.\n",
    "\n",
    "    Args:\n",
    "        num_wires (int): The number of qubits.\n",
    "\n",
    "    Returns:\n",
    "        (qml.Hamiltonian): A PennyLane Hamiltonian.\n",
    "    \"\"\"\n",
    "    # End of uneditable section #\n",
    "\n",
    "    # Put your solution here #\n",
    "    coeffs = []\n",
    "    obs = []\n",
    "    \n",
    "    for i in range(0,num_wires-1):\n",
    "        for j in range(i+1, num_wires):\n",
    "            coeffs.append(1/3)\n",
    "            obs.append(qml.PauliX(i) @ qml.PauliX(j))\n",
    "    \n",
    "    for i in range(num_wires):\n",
    "        coeffs.append(-1)\n",
    "        obs.append(qml.PauliZ(i))\n",
    "\n",
    "    return qml.Hamiltonian(coeffs,obs)\n",
    "\n",
    "# Uneditable section #\n",
    "def expectation_value(num_wires):\n",
    "    \"\"\"Simulates the circuit in question and returns the expectation value of the \n",
    "    Hamiltonian in question.\n",
    "\n",
    "    Args:\n",
    "        num_wires (int): The number of qubits.\n",
    "\n",
    "    Returns:\n",
    "        (float): The expectation value of the Hamiltonian.\n",
    "    \"\"\"\n",
    "    # End of uneditable section #\n",
    "\n",
    "    # Put your solution here #\n",
    " \n",
    "    # Define a device using qml.device\n",
    "    dev = qml.device('default.qubit',wires=num_wires)\n",
    "\n",
    "\n",
    "    # Uneditable section #\n",
    "    @qml.qnode(dev)\n",
    "    def circuit(num_wires):\n",
    "        \"\"\"A quantum circuit with Hadamard gates on every qubit and that measures\n",
    "        the expectation value of the Hamiltonian in question. \n",
    "        \"\"\"\n",
    "\n",
    "        # End of uneditable section #\n",
    "\n",
    "        # Put Hadamard gates here #\n",
    "        qml.broadcast(qml.Hadamard,wires=range(num_wires),pattern='single')\n",
    "\n",
    "        # Then return the expectation value of the Hamiltonian using qml.expval\n",
    "        return qml.expval(hamiltonian(num_wires))\n",
    "\n",
    "    # Uneditable section #\n",
    "    return circuit(num_wires)"
   ]
  },
  {
   "cell_type": "code",
   "execution_count": 3,
   "id": "065e4769",
   "metadata": {},
   "outputs": [],
   "source": [
    "def run(test_case_input: str) -> str:\n",
    "    num_wires = json.loads(test_case_input)\n",
    "    output = expectation_value(num_wires)\n",
    "\n",
    "    return str(output)\n",
    "\n",
    "def check(solution_output: str, expected_output: str) -> None:\n",
    "    solution_output = json.loads(solution_output)\n",
    "    expected_output = json.loads(expected_output)\n",
    "    assert np.allclose(solution_output, expected_output, rtol=1e-4)"
   ]
  },
  {
   "cell_type": "code",
   "execution_count": 4,
   "id": "66ea8659",
   "metadata": {},
   "outputs": [],
   "source": [
    "test_cases = [['8', '9.33333'], ['5', '3.33333']]"
   ]
  },
  {
   "cell_type": "code",
   "execution_count": 5,
   "id": "56704985",
   "metadata": {},
   "outputs": [
    {
     "name": "stdout",
     "output_type": "stream",
     "text": [
      "Running test case 0 with input '8'...\n",
      "Correct!\n",
      "Running test case 1 with input '5'...\n",
      "Correct!\n"
     ]
    }
   ],
   "source": [
    "for i, (input_, expected_output) in enumerate(test_cases):\n",
    "    print(f\"Running test case {i} with input '{input_}'...\")\n",
    "\n",
    "    try:\n",
    "        output = run(input_)\n",
    "\n",
    "    except Exception as exc:\n",
    "        print(f\"Runtime Error. {exc}\")\n",
    "\n",
    "    else:\n",
    "        if message := check(output, expected_output):\n",
    "            print(f\"Wrong Answer. Have: '{output}'. Want: '{expected_output}'.\")\n",
    "\n",
    "        else:\n",
    "            print(\"Correct!\")"
   ]
  }
 ],
 "metadata": {
  "kernelspec": {
   "display_name": "Python 3 (ipykernel)",
   "language": "python",
   "name": "python3"
  },
  "language_info": {
   "codemirror_mode": {
    "name": "ipython",
    "version": 3
   },
   "file_extension": ".py",
   "mimetype": "text/x-python",
   "name": "python",
   "nbconvert_exporter": "python",
   "pygments_lexer": "ipython3",
   "version": "3.9.7"
  }
 },
 "nbformat": 4,
 "nbformat_minor": 5
}
