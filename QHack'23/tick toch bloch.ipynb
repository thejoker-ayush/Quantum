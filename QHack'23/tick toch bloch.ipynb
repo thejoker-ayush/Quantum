{
 "cells": [
  {
   "cell_type": "code",
   "execution_count": 3,
   "id": "6db58d1f",
   "metadata": {},
   "outputs": [],
   "source": [
    "import json\n",
    "import pennylane as qml\n",
    "from pennylane import numpy as np"
   ]
  },
  {
   "cell_type": "code",
   "execution_count": 4,
   "id": "2cbe7bdf",
   "metadata": {},
   "outputs": [],
   "source": [
    "# Uneditable section #\n",
    "dev = qml.device(\"default.qubit\", wires=[\"hour\", \"minute\"])\n",
    "# End of uneditable section #\n",
    "\n",
    "@qml.qnode(dev)\n",
    "def time(hour, minute):\n",
    "    \"\"\"Generates the quantum state associated with the time passed as argument.\n",
    "\n",
    "    Args:\n",
    "        hour (int): Hour associated with the requested time\n",
    "        minute (int): Minutes associated with the requested time\n",
    "\n",
    "    Returns:\n",
    "        (numpy.tensor): Probabilities associated with the state created.\n",
    "    \"\"\"\n",
    "    # Put your code here #\n",
    "    qml.RY(-2*np.pi/12*hour, wires=['hour'])\n",
    "    qml.RY(-2*np.pi/60*minute, wires=['minute'])\n",
    "    return qml.probs(wires=[\"hour\", \"minute\"])"
   ]
  },
  {
   "cell_type": "code",
   "execution_count": 5,
   "id": "b8a87509",
   "metadata": {},
   "outputs": [],
   "source": [
    "def run(test_case_input: str) -> str:\n",
    "    hour, minute = json.loads(test_case_input)\n",
    "    state = [float(x) for x in time(hour, minute)]\n",
    "    return str(state)\n",
    "\n",
    "def check(solution_output, expected_output: str) -> None:\n",
    "\n",
    "    solution_output = json.loads(solution_output)\n",
    "    expected_output = json.loads(expected_output)\n",
    "\n",
    "    assert np.allclose(\n",
    "        solution_output, expected_output, atol=0.1\n",
    "    ), \"The solution does not seem to be correct.\""
   ]
  },
  {
   "cell_type": "code",
   "execution_count": 6,
   "id": "a27b018b",
   "metadata": {},
   "outputs": [],
   "source": [
    "test_cases = [['[12, 0]', '[1.0, 0.0, 0.0, 0.0]'], ['[1, 30]', '[0.0, 0.85355339, 0.0, 1.46446609e-01]'], ['[2, 45]', '[0.28263155, 0.28263155, 0.21736845, 0.21736845]'], ['[10, 25]', '[0.05612163, 0.78167347, 0.01086567, 0.15133923]']]     "
   ]
  },
  {
   "cell_type": "code",
   "execution_count": 7,
   "id": "663a5fce",
   "metadata": {},
   "outputs": [
    {
     "name": "stdout",
     "output_type": "stream",
     "text": [
      "Running test case 0 with input '[12, 0]'...\n",
      "Correct!\n",
      "Running test case 1 with input '[1, 30]'...\n",
      "Correct!\n",
      "Running test case 2 with input '[2, 45]'...\n",
      "Correct!\n",
      "Running test case 3 with input '[10, 25]'...\n",
      "Correct!\n"
     ]
    }
   ],
   "source": [
    "for i, (input_, expected_output) in enumerate(test_cases):\n",
    "    print(f\"Running test case {i} with input '{input_}'...\")\n",
    "\n",
    "    try:\n",
    "        output = run(input_)\n",
    "\n",
    "    except Exception as exc:\n",
    "        print(f\"Runtime Error. {exc}\")\n",
    "\n",
    "    else:\n",
    "        if message := check(output, expected_output):\n",
    "            print(f\"Wrong Answer. Have: '{output}'. Want: '{expected_output}'.\")\n",
    "\n",
    "        else:\n",
    "            print(\"Correct!\")"
   ]
  },
  {
   "cell_type": "code",
   "execution_count": null,
   "id": "b69f6c9d",
   "metadata": {},
   "outputs": [],
   "source": []
  }
 ],
 "metadata": {
  "kernelspec": {
   "display_name": "Python 3 (ipykernel)",
   "language": "python",
   "name": "python3"
  },
  "language_info": {
   "codemirror_mode": {
    "name": "ipython",
    "version": 3
   },
   "file_extension": ".py",
   "mimetype": "text/x-python",
   "name": "python",
   "nbconvert_exporter": "python",
   "pygments_lexer": "ipython3",
   "version": "3.9.7"
  }
 },
 "nbformat": 4,
 "nbformat_minor": 5
}
