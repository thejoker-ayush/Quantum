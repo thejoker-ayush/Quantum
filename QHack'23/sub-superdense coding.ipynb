{
 "cells": [
  {
   "cell_type": "code",
   "execution_count": 1,
   "id": "60aa4aea",
   "metadata": {},
   "outputs": [],
   "source": [
    "import pennylane as qml\n",
    "from pennylane import numpy as np"
   ]
  },
  {
   "cell_type": "code",
   "execution_count": 2,
   "id": "5963e3f2",
   "metadata": {},
   "outputs": [],
   "source": [
    "# Uneditable section #\n",
    "def encode(i, j, k):\n",
    "    \"\"\"\n",
    "    Quantum encoding function. It must act only on the first two qubits.\n",
    "    This function does not return anything, it simply applies gates.\n",
    "\n",
    "    Args:\n",
    "        i, j, k (int): The three encoding bits. They will take the values 1 or 0.\n",
    "\n",
    "    \"\"\"\n",
    "    # End of uneditable section #\n",
    "\n",
    "    # Put your code here #\n",
    "    if (i,j,k) == (0,0,0):\n",
    "        pass\n",
    "    elif (i,j,k) == (0,0,1):\n",
    "        qml.PauliX(0)\n",
    "        qml.PauliX(1)\n",
    "    elif (i,j,k) == (0,1,0):\n",
    "        qml.PauliX(1)\n",
    "    elif (i,j,k) == (0,1,1):\n",
    "        qml.PauliX(0)\n",
    "    elif (i,j,k) == (1,0,0):\n",
    "        qml.PauliZ(0)\n",
    "    elif (i,j,k) == (1,0,1):\n",
    "        qml.PauliX(0)\n",
    "        qml.PauliX(1)\n",
    "        qml.PauliZ(0)\n",
    "    elif (i,j,k) == (1,1,0):\n",
    "        qml.PauliZ(0)\n",
    "        qml.PauliX(1)\n",
    "    elif (i,j,k) == (1,1,1):\n",
    "        qml.PauliX(0)\n",
    "        qml.PauliZ(1)\n",
    "\n",
    "# Uneditable section #\n",
    "def decode():\n",
    "    \"\"\"\n",
    "    Quantum decoding function. It can act on the three qubits.\n",
    "    This function does not return anything, it simply applies gates.\n",
    "    \"\"\"\n",
    "\n",
    "    # End of uneditable section #\n",
    "\n",
    "    # Put your code here #\n",
    "    qml.CNOT([0,2])\n",
    "    qml.CNOT([0,1])\n",
    "    qml.Hadamard(0)\n",
    "\n",
    "# Uneditable section #\n",
    "dev = qml.device(\"default.qubit\", wires=3)\n",
    "\n",
    "@qml.qnode(dev)\n",
    "def circuit(i, j, k):\n",
    "    \"\"\"\n",
    "    Circuit that generates the complete communication protocol.\n",
    "\n",
    "    Args:\n",
    "        i, j, k (int): The three encoding bits. They will take the value 1 or 0.\n",
    "    \"\"\"\n",
    "\n",
    "    # We prepare the state 1/sqrt(2)(|000> + |111>)\n",
    "    qml.Hadamard(wires=0)\n",
    "    qml.CNOT(wires=[0, 1])\n",
    "    qml.CNOT(wires=[0, 2])\n",
    "\n",
    "    # Zenda encodes the bits\n",
    "    encode(i, j, k)\n",
    "\n",
    "    # Reece decode the information\n",
    "    decode()\n",
    "\n",
    "    return qml.probs(wires=range(3))"
   ]
  },
  {
   "cell_type": "code",
   "execution_count": 3,
   "id": "f054d9e2",
   "metadata": {},
   "outputs": [],
   "source": [
    "def run(test_case_input: str) -> str:\n",
    "\n",
    "    return None\n",
    "\n",
    "def check(solution_output: str, expected_output: str) -> None:\n",
    "\n",
    "    for i in range(2):\n",
    "        for j in range(2):\n",
    "            for k in range(2):\n",
    "                assert np.isclose(circuit(i, j , k)[4 * i + 2 * j + k],1)\n",
    "\n",
    "                dev = qml.device(\"default.qubit\", wires=3)\n",
    "\n",
    "                @qml.qnode(dev)\n",
    "                def circuit2(i, j, k):\n",
    "                    encode(i, j, k)\n",
    "                    return qml.probs(wires=range(3))\n",
    "\n",
    "                circuit2(i, j, k)\n",
    "                ops = circuit2.tape.operations\n",
    "\n",
    "                for op in ops:\n",
    "                    assert not (2 in op.wires), \"Invalid connection between qubits.\""
   ]
  },
  {
   "cell_type": "code",
   "execution_count": 4,
   "id": "9b108427",
   "metadata": {},
   "outputs": [],
   "source": [
    "test_cases = [['No input', 'No output'], ['No input', 'No output']]"
   ]
  },
  {
   "cell_type": "code",
   "execution_count": 5,
   "id": "830f8bb1",
   "metadata": {},
   "outputs": [
    {
     "name": "stdout",
     "output_type": "stream",
     "text": [
      "Running test case 0 with input 'No input'...\n",
      "Correct!\n",
      "Running test case 1 with input 'No input'...\n",
      "Correct!\n"
     ]
    }
   ],
   "source": [
    "for i, (input_, expected_output) in enumerate(test_cases):\n",
    "    print(f\"Running test case {i} with input '{input_}'...\")\n",
    "\n",
    "    try:\n",
    "        output = run(input_)\n",
    "\n",
    "    except Exception as exc:\n",
    "        print(f\"Runtime Error. {exc}\")\n",
    "\n",
    "    else:\n",
    "        if message := check(output, expected_output):\n",
    "            print(f\"Wrong Answer. Have: '{output}'. Want: '{expected_output}'.\")\n",
    "\n",
    "        else:\n",
    "            print(\"Correct!\")"
   ]
  },
  {
   "cell_type": "code",
   "execution_count": null,
   "id": "b7c68d52",
   "metadata": {},
   "outputs": [],
   "source": []
  }
 ],
 "metadata": {
  "kernelspec": {
   "display_name": "Python 3 (ipykernel)",
   "language": "python",
   "name": "python3"
  },
  "language_info": {
   "codemirror_mode": {
    "name": "ipython",
    "version": 3
   },
   "file_extension": ".py",
   "mimetype": "text/x-python",
   "name": "python",
   "nbconvert_exporter": "python",
   "pygments_lexer": "ipython3",
   "version": "3.9.7"
  }
 },
 "nbformat": 4,
 "nbformat_minor": 5
}
