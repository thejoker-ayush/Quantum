{
 "cells": [
  {
   "cell_type": "code",
   "execution_count": 1,
   "id": "e06b3763",
   "metadata": {},
   "outputs": [],
   "source": [
    "import json\n",
    "import pennylane as qml\n",
    "from pennylane import numpy as np"
   ]
  },
  {
   "cell_type": "code",
   "execution_count": 2,
   "id": "0b9820dc",
   "metadata": {},
   "outputs": [],
   "source": [
    "# Uneditable section #\n",
    "def W(alpha, beta):\n",
    "    \"\"\" This function returns the matrix W in terms of\n",
    "    the coefficients alpha and beta\n",
    "\n",
    "    Args:\n",
    "        - alpha (float): The prefactor alpha of U in the linear combination, as in the\n",
    "        challenge statement.\n",
    "        - beta (float): The prefactor beta of V in the linear combination, as in the\n",
    "        challenge statement.\n",
    "    Returns \n",
    "        -(numpy.ndarray): A 2x2 matrix representing the operator W,\n",
    "        as defined in the challenge statement\n",
    "    \"\"\"\n",
    "    # End of uneditable section #\n",
    "\n",
    "    # Put your code here #\n",
    "    \n",
    "    w_mat = (1/np.sqrt(alpha + beta))*np.array([[np.sqrt(alpha), -np.sqrt(beta)],[np.sqrt(beta), np.sqrt(alpha)]])\n",
    "    \n",
    "    # Return the real matrix of the unitary W, in terms of the coefficients.\n",
    "    \n",
    "    return w_mat\n",
    "\n",
    "\n",
    "# Uneditable section #\n",
    "dev = qml.device('default.qubit', wires = 2)\n",
    "\n",
    "@qml.qnode(dev)\n",
    "def linear_combination(U, V,  alpha, beta):\n",
    "    \"\"\"This circuit implements the circuit that probabilistically calculates the linear combination \n",
    "    of the unitaries.\n",
    "\n",
    "    Args:\n",
    "        - U (list(list(float))): A 2x2 matrix representing the single-qubit unitary operator U.\n",
    "        - V (list(list(float))): A 2x2 matrix representing the single-qubit unitary operator U.\n",
    "        - alpha (float): The prefactor alpha of U in the linear combination, as above.\n",
    "        - beta (float): The prefactor beta of V in the linear combination, as above.\n",
    "\n",
    "    Returns:\n",
    "        -(numpy.tensor): Probabilities of measuring the computational\n",
    "        basis states on the auxiliary wire. \n",
    "    \"\"\"\n",
    "\n",
    "    # End of uneditable section #\n",
    "\n",
    "    # Put your code here #\n",
    "    \n",
    "    qml.QubitUnitary(W(alpha, beta), wires=0)\n",
    "    qml.ControlledQubitUnitary(U, control_wires=0, wires=1, control_values=[0])\n",
    "    qml.ControlledQubitUnitary(V, control_wires=0, wires=1, control_values=[1])\n",
    "    qml.adjoint(qml.QubitUnitary)(W(alpha, beta), wires=0)\n",
    "    \n",
    "    \n",
    "    # Return the probabilities on the first wire\n",
    "    return qml.probs([0])"
   ]
  },
  {
   "cell_type": "code",
   "execution_count": 3,
   "id": "b9b2d1c7",
   "metadata": {},
   "outputs": [],
   "source": [
    "def run(test_case_input: str) -> str:\n",
    "    dev = qml.device('default.qubit', wires = 2)\n",
    "    ins = json.loads(test_case_input)\n",
    "    output = linear_combination(*ins)[0].numpy()\n",
    "\n",
    "    return str(output)\n",
    "\n",
    "def check(solution_output: str, expected_output: str) -> None:\n",
    "    solution_output = json.loads(solution_output)\n",
    "    expected_output = json.loads(expected_output)\n",
    "    assert np.allclose(\n",
    "        solution_output, expected_output, rtol=1e-4\n",
    "    ), \"Your circuit doesn't look quite right \""
   ]
  },
  {
   "cell_type": "code",
   "execution_count": 4,
   "id": "37c918da",
   "metadata": {},
   "outputs": [],
   "source": [
    "test_cases = [['[[[ 0.70710678,  0.70710678], [ 0.70710678, -0.70710678]],[[1, 0], [0, -1]], 1, 3]', '0.8901650422902458'], ['[[[0, 1],[1, 0]],[[1, 0], [0, -1]], 1, 2]', '0.5555555555555559'], ['[[[ 0.98877108, -0.14943813], [ 0.14943813,  0.98877108]],[[ 0.70710678,  0.70710678], [ 0.70710678, -0.70710678]], 2, 1]', '0.9132602008678633']]"
   ]
  },
  {
   "cell_type": "code",
   "execution_count": 5,
   "id": "88e09f4e",
   "metadata": {},
   "outputs": [
    {
     "name": "stdout",
     "output_type": "stream",
     "text": [
      "Running test case 0 with input '[[[ 0.70710678,  0.70710678], [ 0.70710678, -0.70710678]],[[1, 0], [0, -1]], 1, 3]'...\n",
      "Correct!\n",
      "Running test case 1 with input '[[[0, 1],[1, 0]],[[1, 0], [0, -1]], 1, 2]'...\n",
      "Correct!\n",
      "Running test case 2 with input '[[[ 0.98877108, -0.14943813], [ 0.14943813,  0.98877108]],[[ 0.70710678,  0.70710678], [ 0.70710678, -0.70710678]], 2, 1]'...\n",
      "Correct!\n"
     ]
    }
   ],
   "source": [
    "for i, (input_, expected_output) in enumerate(test_cases):\n",
    "    print(f\"Running test case {i} with input '{input_}'...\")\n",
    "\n",
    "    try:\n",
    "        output = run(input_)\n",
    "\n",
    "    except Exception as exc:\n",
    "        print(f\"Runtime Error. {exc}\")\n",
    "\n",
    "    else:\n",
    "        if message := check(output, expected_output):\n",
    "            print(f\"Wrong Answer. Have: '{output}'. Want: '{expected_output}'.\")\n",
    "\n",
    "        else:\n",
    "            print(\"Correct!\")"
   ]
  },
  {
   "cell_type": "code",
   "execution_count": null,
   "id": "f95c178c",
   "metadata": {},
   "outputs": [],
   "source": []
  }
 ],
 "metadata": {
  "kernelspec": {
   "display_name": "Python 3 (ipykernel)",
   "language": "python",
   "name": "python3"
  },
  "language_info": {
   "codemirror_mode": {
    "name": "ipython",
    "version": 3
   },
   "file_extension": ".py",
   "mimetype": "text/x-python",
   "name": "python",
   "nbconvert_exporter": "python",
   "pygments_lexer": "ipython3",
   "version": "3.9.7"
  }
 },
 "nbformat": 4,
 "nbformat_minor": 5
}
