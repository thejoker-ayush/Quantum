{
 "cells": [
  {
   "cell_type": "code",
   "execution_count": 1,
   "id": "7c8affde",
   "metadata": {},
   "outputs": [],
   "source": [
    "import json\n",
    "import pennylane as qml\n",
    "from pennylane import numpy as np"
   ]
  },
  {
   "cell_type": "code",
   "execution_count": 2,
   "id": "9cf98d5c",
   "metadata": {},
   "outputs": [],
   "source": [
    "# Uneditable section #\n",
    "def U_psi(theta):\n",
    "    \"\"\"\n",
    "    Quantum function that generates |psi>, Zenda's state wants to send to Reece.\n",
    "\n",
    "    Args:\n",
    "        theta (float): Parameter that generates the state.\n",
    "\n",
    "    \"\"\"\n",
    "    qml.Hadamard(wires = 0)\n",
    "    qml.CRX(theta, wires = [0,1])\n",
    "    qml.CRZ(theta, wires = [0,1])\n",
    "\n",
    "def is_unsafe(alpha, beta, epsilon):\n",
    "    \"\"\"\n",
    "    Boolean function that we will use to know if a set of parameters is unsafe.\n",
    "\n",
    "    Args:\n",
    "        alpha (float): parameter used to encode the state.\n",
    "        beta (float): parameter used to encode the state.\n",
    "        epsilon (float): unsafe-tolerance.\n",
    "\n",
    "    Returns:\n",
    "        (bool): 'True' if alpha and beta are epsilon-unsafe coefficients. 'False' in the other case.\n",
    "\n",
    "    \"\"\"\n",
    "    # End of uneditable section #\n",
    "\n",
    "    # Put your code here #\n",
    "    O = qml.matrix((qml.RX(beta, wires =0) @ qml.RX(beta, wires =1)) @ (qml.RZ(alpha, wires =0) @ qml.RZ(alpha, wires =1)))\n",
    "    \n",
    "    z_bra = np.array([[1,0,0,0]])\n",
    "    z_ket = z_bra.T\n",
    "    \n",
    "    thetas = np.arange(-np.pi,np.pi,step=0.1)\n",
    "    for theta in thetas:\n",
    "        U = qml.matrix(U_psi)(theta)\n",
    "        Udg = qml.matrix(qml.adjoint(U_psi))(theta)\n",
    "        \n",
    "        exp_val = z_bra @ Udg @ O @ U @z_ket\n",
    "        if abs(exp_val)**2 >= (1 - epsilon):\n",
    "            return True\n",
    "        else:\n",
    "            return False"
   ]
  },
  {
   "cell_type": "code",
   "execution_count": 3,
   "id": "69f49c58",
   "metadata": {},
   "outputs": [],
   "source": [
    "def run(test_case_input: str) -> str:\n",
    "    ins = json.loads(test_case_input)\n",
    "    output = is_unsafe(*ins)\n",
    "    return str(output)\n",
    "\n",
    "def check(solution_output: str, expected_output: str) -> None:\n",
    "    \n",
    "    def bool_to_int(string):\n",
    "        if string == \"True\":\n",
    "            return 1\n",
    "        return 0\n",
    "\n",
    "    solution_output = bool_to_int(solution_output)\n",
    "    expected_output = bool_to_int(expected_output)\n",
    "    assert solution_output == expected_output, \"The solution is not correct.\""
   ]
  },
  {
   "cell_type": "code",
   "execution_count": 4,
   "id": "dc2cb48e",
   "metadata": {},
   "outputs": [],
   "source": [
    "test_cases = [['[0.1, 0.2, 0.3]', 'True'], ['[1.1, 1.2, 0.3]', 'False'], ['[1.1, 1.2, 0.4]', 'True'], ['[0.5, 1.9, 0.7]', 'True'], ['[0.5, 1.9, 0.3]', 'False'], ['[0.5, 1.1, 0.5]', 'True'], ['[0.1, 1.1, 0.2]', 'False'], ['[0.2, 1.0, 0.3]', 'True']]"
   ]
  },
  {
   "cell_type": "code",
   "execution_count": 5,
   "id": "24797b61",
   "metadata": {},
   "outputs": [
    {
     "name": "stdout",
     "output_type": "stream",
     "text": [
      "Running test case 0 with input '[0.1, 0.2, 0.3]'...\n",
      "Correct!\n",
      "Running test case 1 with input '[1.1, 1.2, 0.3]'...\n",
      "Correct!\n",
      "Running test case 2 with input '[1.1, 1.2, 0.4]'...\n"
     ]
    },
    {
     "ename": "AssertionError",
     "evalue": "The solution is not correct.",
     "output_type": "error",
     "traceback": [
      "\u001b[1;31m---------------------------------------------------------------------------\u001b[0m",
      "\u001b[1;31mAssertionError\u001b[0m                            Traceback (most recent call last)",
      "\u001b[1;32m~\\AppData\\Local\\Temp/ipykernel_19664/2229858678.py\u001b[0m in \u001b[0;36m<module>\u001b[1;34m\u001b[0m\n\u001b[0;32m      9\u001b[0m \u001b[1;33m\u001b[0m\u001b[0m\n\u001b[0;32m     10\u001b[0m     \u001b[1;32melse\u001b[0m\u001b[1;33m:\u001b[0m\u001b[1;33m\u001b[0m\u001b[1;33m\u001b[0m\u001b[0m\n\u001b[1;32m---> 11\u001b[1;33m         \u001b[1;32mif\u001b[0m \u001b[0mmessage\u001b[0m \u001b[1;33m:=\u001b[0m \u001b[0mcheck\u001b[0m\u001b[1;33m(\u001b[0m\u001b[0moutput\u001b[0m\u001b[1;33m,\u001b[0m \u001b[0mexpected_output\u001b[0m\u001b[1;33m)\u001b[0m\u001b[1;33m:\u001b[0m\u001b[1;33m\u001b[0m\u001b[1;33m\u001b[0m\u001b[0m\n\u001b[0m\u001b[0;32m     12\u001b[0m             \u001b[0mprint\u001b[0m\u001b[1;33m(\u001b[0m\u001b[1;34mf\"Wrong Answer. Have: '{output}'. Want: '{expected_output}'.\"\u001b[0m\u001b[1;33m)\u001b[0m\u001b[1;33m\u001b[0m\u001b[1;33m\u001b[0m\u001b[0m\n\u001b[0;32m     13\u001b[0m \u001b[1;33m\u001b[0m\u001b[0m\n",
      "\u001b[1;32m~\\AppData\\Local\\Temp/ipykernel_19664/3656955510.py\u001b[0m in \u001b[0;36mcheck\u001b[1;34m(solution_output, expected_output)\u001b[0m\n\u001b[0;32m     13\u001b[0m     \u001b[0msolution_output\u001b[0m \u001b[1;33m=\u001b[0m \u001b[0mbool_to_int\u001b[0m\u001b[1;33m(\u001b[0m\u001b[0msolution_output\u001b[0m\u001b[1;33m)\u001b[0m\u001b[1;33m\u001b[0m\u001b[1;33m\u001b[0m\u001b[0m\n\u001b[0;32m     14\u001b[0m     \u001b[0mexpected_output\u001b[0m \u001b[1;33m=\u001b[0m \u001b[0mbool_to_int\u001b[0m\u001b[1;33m(\u001b[0m\u001b[0mexpected_output\u001b[0m\u001b[1;33m)\u001b[0m\u001b[1;33m\u001b[0m\u001b[1;33m\u001b[0m\u001b[0m\n\u001b[1;32m---> 15\u001b[1;33m     \u001b[1;32massert\u001b[0m \u001b[0msolution_output\u001b[0m \u001b[1;33m==\u001b[0m \u001b[0mexpected_output\u001b[0m\u001b[1;33m,\u001b[0m \u001b[1;34m\"The solution is not correct.\"\u001b[0m\u001b[1;33m\u001b[0m\u001b[1;33m\u001b[0m\u001b[0m\n\u001b[0m",
      "\u001b[1;31mAssertionError\u001b[0m: The solution is not correct."
     ]
    }
   ],
   "source": [
    "for i, (input_, expected_output) in enumerate(test_cases):\n",
    "    print(f\"Running test case {i} with input '{input_}'...\")\n",
    "\n",
    "    try:\n",
    "        output = run(input_)\n",
    "\n",
    "    except Exception as exc:\n",
    "        print(f\"Runtime Error. {exc}\")\n",
    "\n",
    "    else:\n",
    "        if message := check(output, expected_output):\n",
    "            print(f\"Wrong Answer. Have: '{output}'. Want: '{expected_output}'.\")\n",
    "\n",
    "        else:\n",
    "            print(\"Correct!\")"
   ]
  },
  {
   "cell_type": "code",
   "execution_count": null,
   "id": "7e71c451",
   "metadata": {},
   "outputs": [],
   "source": []
  },
  {
   "cell_type": "code",
   "execution_count": null,
   "id": "01ffea41",
   "metadata": {},
   "outputs": [],
   "source": []
  }
 ],
 "metadata": {
  "kernelspec": {
   "display_name": "Python 3 (ipykernel)",
   "language": "python",
   "name": "python3"
  },
  "language_info": {
   "codemirror_mode": {
    "name": "ipython",
    "version": 3
   },
   "file_extension": ".py",
   "mimetype": "text/x-python",
   "name": "python",
   "nbconvert_exporter": "python",
   "pygments_lexer": "ipython3",
   "version": "3.9.7"
  }
 },
 "nbformat": 4,
 "nbformat_minor": 5
}
