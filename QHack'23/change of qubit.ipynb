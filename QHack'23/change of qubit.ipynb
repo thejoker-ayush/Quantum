{
 "cells": [
  {
   "cell_type": "code",
   "execution_count": 1,
   "id": "8d6d0384",
   "metadata": {},
   "outputs": [],
   "source": [
    "import json\n",
    "import pennylane as qml\n",
    "from pennylane import numpy as np"
   ]
  },
  {
   "cell_type": "code",
   "execution_count": 2,
   "id": "05e072d9",
   "metadata": {},
   "outputs": [],
   "source": [
    "def circuit_left():\n",
    "    \"\"\"\n",
    "    This function corresponds to the circuit on the left-hand side of the diagram in the \n",
    "    description. Simply place the necessary operations, you do not have to return anything.\n",
    "    \"\"\"\n",
    "    qml.CNOT(wires=[0,1])\n",
    "    qml.CNOT(wires=[1,2])\n",
    "    qml.broadcast(qml.Hadamard, wires=range(3), pattern='single')\n",
    "    qml.Barrier(wires=range(3))\n",
    "\n",
    "def circuit_right():\n",
    "    \"\"\"\n",
    "    This function corresponds to the circuit on the right-hand side of the diagram in the \n",
    "    description. Simply place the necessary operations, you do not have to return anything.\n",
    "    \"\"\"\n",
    "    qml.Barrier(wires=range(3))\n",
    "    qml.broadcast(qml.Hadamard, wires=range(3), pattern='single')\n",
    "    qml.PauliZ(wires=0)\n",
    "    qml.CNOT(wires=[1,0])\n",
    "    qml.CNOT(wires=[2,1])\n",
    "    \n",
    "\n",
    "\n",
    "# Uneditable section #\n",
    "def U():\n",
    "    \"\"\"This operator generates a PauliX gate on a random qubit\"\"\"\n",
    "    qml.PauliX(wires=np.random.randint(3))\n",
    "\n",
    "\n",
    "dev = qml.device(\"default.qubit\", wires=3)\n",
    "\n",
    "@qml.qnode(dev)\n",
    "def circuit(alpha, beta, gamma):\n",
    "    \"\"\"Total circuit joining each block.\n",
    "\n",
    "    Args: \n",
    "        alpha (float): The first parameter of a U3 gate.\n",
    "        beta (float):The second parameter of a U3 gate. \n",
    "        gamma (float): The third parameter of a U3 gate. \n",
    "    \n",
    "    Returns:\n",
    "        (float): The expectation value of an observable.\n",
    "    \"\"\"\n",
    "    qml.U3(alpha, beta, gamma, wires=0)\n",
    "    circuit_left()\n",
    "    U()\n",
    "    circuit_right()\n",
    "\n",
    "    # Here we are returning the expected value with respect to any observable,\n",
    "    # the choice of observable is not important in this exercise.\n",
    "\n",
    "    return qml.expval(0.5 * qml.PauliZ(2) - qml.PauliY(2))"
   ]
  },
  {
   "cell_type": "code",
   "execution_count": 3,
   "id": "81d7202c",
   "metadata": {},
   "outputs": [],
   "source": [
    "def run(test_case_input: str) -> str:\n",
    "    angles = json.loads(test_case_input)\n",
    "    output = circuit(*angles)\n",
    "    return str(output)\n",
    "\n",
    "def check(solution_output: str, expected_output: str) -> None:\n",
    "\n",
    "    solution_output = json.loads(solution_output)\n",
    "    expected_output = json.loads(expected_output)\n",
    "    assert np.allclose(\n",
    "        solution_output, expected_output, atol=2e-1\n",
    "    ), \"The expected output is not quite right.\"\n",
    "\n",
    "    ops = circuit.tape.operations\n",
    "\n",
    "    for op in ops:\n",
    "        assert not (0 in op.wires and 2 in op.wires), \"Invalid connection between qubits.\"\n",
    "\n",
    "    assert circuit.tape.observables[0].wires == qml.wires.Wires(2), \"Measurement on wrong qubit.\""
   ]
  },
  {
   "cell_type": "code",
   "execution_count": 4,
   "id": "091fdb3e",
   "metadata": {},
   "outputs": [],
   "source": [
    "test_cases = [['[2.0,1.0,3.0]', '-0.97322'], ['[-0.5,1.2,-1.2]', '0.88563'], ['[0.22,3.0,2.1]', '0.457152'], ['[2.22,3.1,-3.3]', '-0.335397'], ['[-0.2,-0.1,3.4]', '0.470199'], ['[-1.2,-1.1,0.4]', '-0.6494612'], ['[0.2,1.0,-1.3]', '0.322858'], ['[0.1,1.4,-1.1]', '0.3991212'], ['[2.0,1.0,3.0]', '-0.97322'], ['[-0.5,1.2,-1.2]', '0.88563'], ['[0.22,3.0,2.1]', '0.457152'], ['[2.22,3.1,-3.3]', '-0.335397'], ['[-0.2,-0.1,3.4]', '0.470199'], ['[-1.2,-1.1,0.4]', '-0.6494612'], ['[2.0,1.0,3.0]', '-0.97322'], ['[-0.5,1.2,-1.2]', '0.88563'], ['[0.22,3.0,2.1]', '0.457152'], ['[2.22,3.1,-3.3]', '-0.335397'], ['[-0.2,-0.1,3.4]', '0.470199'], ['[-1.2,-1.1,0.4]', '-0.6494612']]     "
   ]
  },
  {
   "cell_type": "code",
   "execution_count": 5,
   "id": "e59138fd",
   "metadata": {},
   "outputs": [
    {
     "name": "stdout",
     "output_type": "stream",
     "text": [
      "Running test case 0 with input '[2.0,1.0,3.0]'...\n"
     ]
    },
    {
     "ename": "AssertionError",
     "evalue": "Invalid connection between qubits.",
     "output_type": "error",
     "traceback": [
      "\u001b[1;31m---------------------------------------------------------------------------\u001b[0m",
      "\u001b[1;31mAssertionError\u001b[0m                            Traceback (most recent call last)",
      "\u001b[1;32m~\\AppData\\Local\\Temp/ipykernel_4040/2229858678.py\u001b[0m in \u001b[0;36m<module>\u001b[1;34m\u001b[0m\n\u001b[0;32m      9\u001b[0m \u001b[1;33m\u001b[0m\u001b[0m\n\u001b[0;32m     10\u001b[0m     \u001b[1;32melse\u001b[0m\u001b[1;33m:\u001b[0m\u001b[1;33m\u001b[0m\u001b[1;33m\u001b[0m\u001b[0m\n\u001b[1;32m---> 11\u001b[1;33m         \u001b[1;32mif\u001b[0m \u001b[0mmessage\u001b[0m \u001b[1;33m:=\u001b[0m \u001b[0mcheck\u001b[0m\u001b[1;33m(\u001b[0m\u001b[0moutput\u001b[0m\u001b[1;33m,\u001b[0m \u001b[0mexpected_output\u001b[0m\u001b[1;33m)\u001b[0m\u001b[1;33m:\u001b[0m\u001b[1;33m\u001b[0m\u001b[1;33m\u001b[0m\u001b[0m\n\u001b[0m\u001b[0;32m     12\u001b[0m             \u001b[0mprint\u001b[0m\u001b[1;33m(\u001b[0m\u001b[1;34mf\"Wrong Answer. Have: '{output}'. Want: '{expected_output}'.\"\u001b[0m\u001b[1;33m)\u001b[0m\u001b[1;33m\u001b[0m\u001b[1;33m\u001b[0m\u001b[0m\n\u001b[0;32m     13\u001b[0m \u001b[1;33m\u001b[0m\u001b[0m\n",
      "\u001b[1;32m~\\AppData\\Local\\Temp/ipykernel_4040/3068361286.py\u001b[0m in \u001b[0;36mcheck\u001b[1;34m(solution_output, expected_output)\u001b[0m\n\u001b[0;32m     15\u001b[0m \u001b[1;33m\u001b[0m\u001b[0m\n\u001b[0;32m     16\u001b[0m     \u001b[1;32mfor\u001b[0m \u001b[0mop\u001b[0m \u001b[1;32min\u001b[0m \u001b[0mops\u001b[0m\u001b[1;33m:\u001b[0m\u001b[1;33m\u001b[0m\u001b[1;33m\u001b[0m\u001b[0m\n\u001b[1;32m---> 17\u001b[1;33m         \u001b[1;32massert\u001b[0m \u001b[1;32mnot\u001b[0m \u001b[1;33m(\u001b[0m\u001b[1;36m0\u001b[0m \u001b[1;32min\u001b[0m \u001b[0mop\u001b[0m\u001b[1;33m.\u001b[0m\u001b[0mwires\u001b[0m \u001b[1;32mand\u001b[0m \u001b[1;36m2\u001b[0m \u001b[1;32min\u001b[0m \u001b[0mop\u001b[0m\u001b[1;33m.\u001b[0m\u001b[0mwires\u001b[0m\u001b[1;33m)\u001b[0m\u001b[1;33m,\u001b[0m \u001b[1;34m\"Invalid connection between qubits.\"\u001b[0m\u001b[1;33m\u001b[0m\u001b[1;33m\u001b[0m\u001b[0m\n\u001b[0m\u001b[0;32m     18\u001b[0m \u001b[1;33m\u001b[0m\u001b[0m\n\u001b[0;32m     19\u001b[0m     \u001b[1;32massert\u001b[0m \u001b[0mcircuit\u001b[0m\u001b[1;33m.\u001b[0m\u001b[0mtape\u001b[0m\u001b[1;33m.\u001b[0m\u001b[0mobservables\u001b[0m\u001b[1;33m[\u001b[0m\u001b[1;36m0\u001b[0m\u001b[1;33m]\u001b[0m\u001b[1;33m.\u001b[0m\u001b[0mwires\u001b[0m \u001b[1;33m==\u001b[0m \u001b[0mqml\u001b[0m\u001b[1;33m.\u001b[0m\u001b[0mwires\u001b[0m\u001b[1;33m.\u001b[0m\u001b[0mWires\u001b[0m\u001b[1;33m(\u001b[0m\u001b[1;36m2\u001b[0m\u001b[1;33m)\u001b[0m\u001b[1;33m,\u001b[0m \u001b[1;34m\"Measurement on wrong qubit.\"\u001b[0m\u001b[1;33m\u001b[0m\u001b[1;33m\u001b[0m\u001b[0m\n",
      "\u001b[1;31mAssertionError\u001b[0m: Invalid connection between qubits."
     ]
    }
   ],
   "source": [
    "for i, (input_, expected_output) in enumerate(test_cases):\n",
    "    print(f\"Running test case {i} with input '{input_}'...\")\n",
    "\n",
    "    try:\n",
    "        output = run(input_)\n",
    "\n",
    "    except Exception as exc:\n",
    "        print(f\"Runtime Error. {exc}\")\n",
    "\n",
    "    else:\n",
    "        if message := check(output, expected_output):\n",
    "            print(f\"Wrong Answer. Have: '{output}'. Want: '{expected_output}'.\")\n",
    "\n",
    "        else:\n",
    "            print(\"Correct!\")"
   ]
  }
 ],
 "metadata": {
  "kernelspec": {
   "display_name": "Python 3 (ipykernel)",
   "language": "python",
   "name": "python3"
  },
  "language_info": {
   "codemirror_mode": {
    "name": "ipython",
    "version": 3
   },
   "file_extension": ".py",
   "mimetype": "text/x-python",
   "name": "python",
   "nbconvert_exporter": "python",
   "pygments_lexer": "ipython3",
   "version": "3.9.7"
  }
 },
 "nbformat": 4,
 "nbformat_minor": 5
}
