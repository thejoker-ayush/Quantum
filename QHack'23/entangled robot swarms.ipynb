{
 "cells": [
  {
   "cell_type": "code",
   "execution_count": 1,
   "id": "d8783a7c",
   "metadata": {},
   "outputs": [],
   "source": [
    "import pennylane as qml\n",
    "from pennylane import numpy as np"
   ]
  },
  {
   "cell_type": "code",
   "execution_count": 2,
   "id": "356f9444",
   "metadata": {},
   "outputs": [],
   "source": [
    "def bell_preparation(wires):\n",
    "    \"\"\"\n",
    "    Quantum function in charge of generating the bell state of 4 qubits.\n",
    "    You simply add the necessary gates, do not return anything.\n",
    "\n",
    "    Args:\n",
    "        wires (list(str)): list of the 4 wires where the gate will run\n",
    "\n",
    "    \"\"\"\n",
    "    qml.Hadamard(wires[0])\n",
    "    qml.broadcast(qml.CNOT, wires=wires, pattern='chain')\n",
    "\n",
    "def emergency_gate_U(wire):\n",
    "    \"\"\"\n",
    "    Quantum function that will define the emergency protocol in a qubit.\n",
    "    You simply add the necessary gates, do not return anything.\n",
    "\n",
    "    Args:\n",
    "        wire(str): name of the wire where the emergency gate will be apply.\n",
    "\n",
    "    \"\"\"\n",
    "    qml.Hadamard(wire)\n",
    "\n",
    "def setting_new_robot(output, wires):\n",
    "    \"\"\"\n",
    "    Quantum function that defines the operation between the hub and the auxiliary robot.\n",
    "\n",
    "    Args:\n",
    "        output (int): 0 or 1, indicates the measurement output of robot1 after collapsing.\n",
    "                    Take a look at qml.cond to see how to condition operators to this value.\n",
    "\n",
    "        wires(list(str)): name of the wires where the gate will be apply.\n",
    "\n",
    "    \"\"\"\n",
    "    qml.cond(output == 1, qml.PauliZ)(wires[0])\n",
    "    qml.CNOT(wires)\n",
    "\n",
    "# Uneditable section #\n",
    "wires = [\"hub\", \"robot1\", \"robot2\", \"robot3\", \"auxiliary_robot\"]\n",
    "dev = qml.device(\"default.qubit\", wires=wires)\n",
    "\n",
    "@qml.qnode(dev)\n",
    "def circuit():\n",
    "    bell_preparation(wires=[\"hub\", \"robot1\", \"robot2\", \"robot3\"])\n",
    "    emergency_gate_U(wire=\"robot1\")\n",
    "    output = qml.measure(wires=\"robot1\")\n",
    "    setting_new_robot(output, wires=[\"hub\", \"auxiliary_robot\"])\n",
    "    return qml.density_matrix(wires=[\"hub\", \"robot2\", \"robot3\", \"auxiliary_robot\"])"
   ]
  },
  {
   "cell_type": "code",
   "execution_count": 3,
   "id": "95221af8",
   "metadata": {},
   "outputs": [],
   "source": [
    "def run(test_case_input: str) -> str:\n",
    "    return None\n",
    "\n",
    "def check(solution_output: str, expected_output: str) -> None:\n",
    "\n",
    "    dev = qml.device(\"default.qubit\", wires = 4)\n",
    "    @qml.qnode(dev)\n",
    "    def circuit2():\n",
    "        bell_preparation(wires = range(4))\n",
    "        return qml.state()\n",
    "\n",
    "    bell = np.zeros(16)\n",
    "    bell[0] = 1 / np.sqrt(2)\n",
    "    bell[-1] = 1 / np.sqrt(2)\n",
    "\n",
    "    assert np.allclose(circuit2(), bell), \"The bell preparation is not correct!\"\n",
    "\n",
    "    dev = qml.device(\"default.qubit\", wires=4)\n",
    "\n",
    "    @qml.qnode(dev)\n",
    "    def circuit3():\n",
    "        bell_preparation(wires=range(4))\n",
    "        return qml.density_matrix(wires = range(4))\n",
    "\n",
    "    assert np.allclose(circuit3(), circuit()), \"The final state is not correct!\""
   ]
  },
  {
   "cell_type": "code",
   "execution_count": 4,
   "id": "1aa9f700",
   "metadata": {},
   "outputs": [],
   "source": [
    "test_cases = [['No input', 'No output'], ['No input', 'No output']]"
   ]
  },
  {
   "cell_type": "code",
   "execution_count": 5,
   "id": "4a6f8031",
   "metadata": {},
   "outputs": [
    {
     "name": "stdout",
     "output_type": "stream",
     "text": [
      "Running test case 0 with input 'No input'...\n",
      "Correct!\n",
      "Running test case 1 with input 'No input'...\n",
      "Correct!\n"
     ]
    }
   ],
   "source": [
    "for i, (input_, expected_output) in enumerate(test_cases):\n",
    "    print(f\"Running test case {i} with input '{input_}'...\")\n",
    "\n",
    "    try:\n",
    "        output = run(input_)\n",
    "\n",
    "    except Exception as exc:\n",
    "        print(f\"Runtime Error. {exc}\")\n",
    "\n",
    "    else:\n",
    "        if message := check(output, expected_output):\n",
    "            print(f\"Wrong Answer. Have: '{output}'. Want: '{expected_output}'.\")\n",
    "\n",
    "        else:\n",
    "            print(\"Correct!\")"
   ]
  },
  {
   "cell_type": "code",
   "execution_count": null,
   "id": "8bd8c71a",
   "metadata": {},
   "outputs": [],
   "source": []
  }
 ],
 "metadata": {
  "kernelspec": {
   "display_name": "Python 3 (ipykernel)",
   "language": "python",
   "name": "python3"
  },
  "language_info": {
   "codemirror_mode": {
    "name": "ipython",
    "version": 3
   },
   "file_extension": ".py",
   "mimetype": "text/x-python",
   "name": "python",
   "nbconvert_exporter": "python",
   "pygments_lexer": "ipython3",
   "version": "3.9.7"
  }
 },
 "nbformat": 4,
 "nbformat_minor": 5
}
