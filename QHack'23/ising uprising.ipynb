{
 "cells": [
  {
   "cell_type": "code",
   "execution_count": 1,
   "id": "fd5bf061",
   "metadata": {},
   "outputs": [],
   "source": [
    "import json\n",
    "import pennylane as qml\n",
    "from pennylane import numpy as np"
   ]
  },
  {
   "cell_type": "code",
   "execution_count": 23,
   "id": "40170631",
   "metadata": {},
   "outputs": [],
   "source": [
    "# Uneditable section #\n",
    "def create_Hamiltonian(h):\n",
    "    \"\"\"\n",
    "    Function in charge of generating the Hamiltonian of the statement.\n",
    "\n",
    "    Args:\n",
    "        h (float): magnetic field strength\n",
    "\n",
    "    Returns:\n",
    "        (qml.Hamiltonian): Hamiltonian of the statement associated to h\n",
    "    \"\"\"\n",
    "    # End of uneditable section #\n",
    "\n",
    "    # Put your code here #\n",
    "    num_qubits = 4\n",
    "    \n",
    "    \n",
    "    coeffs1 = num_qubits*[-1]\n",
    "    obs1 = [qml.PauliZ(wire) @ qml.PauliZ((wire + 1) % num_qubits) for wire in range(num_qubits)]\n",
    "    \n",
    "    coeffs2 = num_qubits*[-h]\n",
    "    obs2 = [qml.PauliX(wire) for wire in range(num_qubits)]\n",
    "    \n",
    "    coeffs = coeffs1 + coeffs2\n",
    "    obs = obs1 + obs2\n",
    "    \n",
    "    return qml.Hamiltonian(coeffs, obs)\n",
    "\n",
    "\n",
    "# Uneditable section #\n",
    "dev = qml.device(\"default.qubit\", wires=4)\n",
    "\n",
    "@qml.qnode(dev)\n",
    "def model(params, H):\n",
    "    \"\"\"\n",
    "    To implement VQE you need an ansatz for the candidate ground state!\n",
    "    Define here the VQE ansatz in terms of some parameters (params) that\n",
    "    create the candidate ground state. These parameters will\n",
    "    be optimized later.\n",
    "\n",
    "    Args:\n",
    "        params (numpy.array): parameters to be used in the variational circuit\n",
    "        H (qml.Hamiltonian): Hamiltonian used to calculate the expected value\n",
    "\n",
    "    Returns:\n",
    "        (float): Expected value with respect to the Hamiltonian H\n",
    "    \"\"\"\n",
    "\n",
    "    # End of uneditable section #\n",
    "\n",
    "    # Put your code here #\n",
    "    qml.BasicEntanglerLayers(weights=params[0], wires=range(4), rotation=qml.RX)\n",
    "    qml.BasicEntanglerLayers(weights=params[1], wires=range(4), rotation=qml.RY)\n",
    "    qml.BasicEntanglerLayers(weights=params[2], wires=range(4), rotation=qml.RZ)\n",
    "    \n",
    "    return qml.expval(H)\n",
    "    \n",
    "\n",
    "\n",
    "# Uneditable section #\n",
    "def train(h):\n",
    "    \"\"\"\n",
    "    In this function you must design a subroutine that returns the\n",
    "    parameters that best approximate the ground state.\n",
    "\n",
    "    Args:\n",
    "        h (float): magnetic field strength\n",
    "\n",
    "    Returns:\n",
    "        (numpy.array): parameters that best approximate the ground state.\n",
    "    \"\"\"\n",
    "\n",
    "    # End of uneditable section #\n",
    "\n",
    "    # Put your code here #\n",
    "    opt=qml.GradientDescentOptimizer(stepsize=0.1)\n",
    "    max_iterations = 1000\n",
    "    conv_tol = 1e-4\n",
    "    \n",
    "    Hamiltonian = create_Hamiltonian(h)\n",
    "    params = np.random.rand(3,3,4, requires_grad=True)\n",
    "    \n",
    "    for n in range(max_iterations):\n",
    "        params, prev_cost = opt.step_and_cost(model, params, H=Hamiltonian)\n",
    "        new_cost = model(params, Hamiltonian)\n",
    "        \n",
    "        \n",
    "    \n",
    "    return params"
   ]
  },
  {
   "cell_type": "code",
   "execution_count": 24,
   "id": "2ec3ab3b",
   "metadata": {},
   "outputs": [],
   "source": [
    "def run(test_case_input: str) -> str:\n",
    "    ins = json.loads(test_case_input)\n",
    "    params = train(ins)\n",
    "    return str(model(params, create_Hamiltonian(ins)))\n",
    "\n",
    "\n",
    "def check(solution_output: str, expected_output: str) -> None:\n",
    "    solution_output = json.loads(solution_output)\n",
    "    expected_output = json.loads(expected_output)\n",
    "    assert np.allclose(\n",
    "        solution_output, expected_output, rtol=1e-1\n",
    "    ), \"The expected value is not correct.\""
   ]
  },
  {
   "cell_type": "code",
   "execution_count": 25,
   "id": "d79c705e",
   "metadata": {},
   "outputs": [],
   "source": [
    "test_cases = [['1.0', '-5.226251859505506'], ['2.3', '-9.66382463698038'], ['0.5', '-4.271558410139714'], ['1.5', '-6.760008550556145']]"
   ]
  },
  {
   "cell_type": "code",
   "execution_count": null,
   "id": "e3a736f8",
   "metadata": {},
   "outputs": [
    {
     "name": "stdout",
     "output_type": "stream",
     "text": [
      "Running test case 0 with input '1.0'...\n",
      "Correct!\n",
      "Running test case 1 with input '2.3'...\n"
     ]
    }
   ],
   "source": [
    "for i, (input_, expected_output) in enumerate(test_cases):\n",
    "    print(f\"Running test case {i} with input '{input_}'...\")\n",
    "\n",
    "    try:\n",
    "        output = run(input_)\n",
    "\n",
    "    except Exception as exc:\n",
    "        print(f\"Runtime Error. {exc}\")\n",
    "\n",
    "    else:\n",
    "        if message := check(output, expected_output):\n",
    "            print(f\"Wrong Answer. Have: '{output}'. Want: '{expected_output}'.\")\n",
    "\n",
    "        else:\n",
    "            print(\"Correct!\")"
   ]
  },
  {
   "cell_type": "code",
   "execution_count": null,
   "id": "f5a96013",
   "metadata": {},
   "outputs": [],
   "source": []
  }
 ],
 "metadata": {
  "kernelspec": {
   "display_name": "Python 3 (ipykernel)",
   "language": "python",
   "name": "python3"
  },
  "language_info": {
   "codemirror_mode": {
    "name": "ipython",
    "version": 3
   },
   "file_extension": ".py",
   "mimetype": "text/x-python",
   "name": "python",
   "nbconvert_exporter": "python",
   "pygments_lexer": "ipython3",
   "version": "3.9.7"
  }
 },
 "nbformat": 4,
 "nbformat_minor": 5
}
